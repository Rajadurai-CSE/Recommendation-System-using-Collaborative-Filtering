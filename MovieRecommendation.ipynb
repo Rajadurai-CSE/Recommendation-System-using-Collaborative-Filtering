{
  "nbformat": 4,
  "nbformat_minor": 0,
  "metadata": {
    "colab": {
      "provenance": []
    },
    "kernelspec": {
      "name": "python3",
      "display_name": "Python 3"
    },
    "language_info": {
      "name": "python"
    }
  },
  "cells": [
    {
      "cell_type": "markdown",
      "source": [
        "This is a simple movie recommendation system build with python, scikit-learn library.\n",
        "We will be using the movielens dataset in our model, to download the dataset\n",
        "visit :\n",
        "\n",
        "*  movies_csv :  https://s3-us-west-2.amazonaws.com/recommender-tutorial/movies.csv\n",
        "*  ratings_csv : https://s3-us-west-2.amazonaws.com/recommender-tutorial/ratings.csv\n",
        "\n",
        "Overview:\n",
        "   \n",
        "\n",
        "*   Importing necessary libraries\n",
        "*   Loading the Dataset\n",
        "*   Data preprocessing & Analysis\n",
        "*   Building the Collaborative Recommendation System\n"
      ],
      "metadata": {
        "id": "8S6Hj5Uce05r"
      }
    },
    {
      "cell_type": "markdown",
      "source": [
        "**Step 1:**\n",
        "\n",
        "Load the necessary libraries"
      ],
      "metadata": {
        "id": "K5hAc99Tgory"
      }
    },
    {
      "cell_type": "code",
      "execution_count": 4,
      "metadata": {
        "id": "cCgrS2XreF9g"
      },
      "outputs": [],
      "source": [
        "import pandas as pd\n",
        "import numpy as np\n",
        "import matplotlib.pyplot as plt\n",
        "import seaborn as sn"
      ]
    },
    {
      "cell_type": "markdown",
      "source": [
        "**Step 2:**\n",
        "\n",
        "Load the Dataset"
      ],
      "metadata": {
        "id": "y2YuXOIEg41t"
      }
    },
    {
      "cell_type": "code",
      "source": [
        "movies_csv = pd.read_csv(\"movies.csv\")\n",
        "ratings_csv = pd.read_csv(\"ratings.csv\")"
      ],
      "metadata": {
        "id": "rWldFI-uehuB"
      },
      "execution_count": 5,
      "outputs": []
    },
    {
      "cell_type": "markdown",
      "source": [
        "**Step 3:**\n",
        "\n",
        "Data Preprocessing & Analysis\n"
      ],
      "metadata": {
        "id": "yxNbLA7ShEfh"
      }
    },
    {
      "cell_type": "code",
      "source": [
        "movies_csv.head()"
      ],
      "metadata": {
        "colab": {
          "base_uri": "https://localhost:8080/",
          "height": 206
        },
        "id": "wbfz7qkmere9",
        "outputId": "7eafb217-beca-4fdd-d6e2-19de3e7fab57"
      },
      "execution_count": 7,
      "outputs": [
        {
          "output_type": "execute_result",
          "data": {
            "text/plain": [
              "   movieId                               title  \\\n",
              "0        1                    Toy Story (1995)   \n",
              "1        2                      Jumanji (1995)   \n",
              "2        3             Grumpier Old Men (1995)   \n",
              "3        4            Waiting to Exhale (1995)   \n",
              "4        5  Father of the Bride Part II (1995)   \n",
              "\n",
              "                                        genres  \n",
              "0  Adventure|Animation|Children|Comedy|Fantasy  \n",
              "1                   Adventure|Children|Fantasy  \n",
              "2                               Comedy|Romance  \n",
              "3                         Comedy|Drama|Romance  \n",
              "4                                       Comedy  "
            ],
            "text/html": [
              "\n",
              "  <div id=\"df-d3c64686-d3b1-4fd5-a8e7-28de1635b097\" class=\"colab-df-container\">\n",
              "    <div>\n",
              "<style scoped>\n",
              "    .dataframe tbody tr th:only-of-type {\n",
              "        vertical-align: middle;\n",
              "    }\n",
              "\n",
              "    .dataframe tbody tr th {\n",
              "        vertical-align: top;\n",
              "    }\n",
              "\n",
              "    .dataframe thead th {\n",
              "        text-align: right;\n",
              "    }\n",
              "</style>\n",
              "<table border=\"1\" class=\"dataframe\">\n",
              "  <thead>\n",
              "    <tr style=\"text-align: right;\">\n",
              "      <th></th>\n",
              "      <th>movieId</th>\n",
              "      <th>title</th>\n",
              "      <th>genres</th>\n",
              "    </tr>\n",
              "  </thead>\n",
              "  <tbody>\n",
              "    <tr>\n",
              "      <th>0</th>\n",
              "      <td>1</td>\n",
              "      <td>Toy Story (1995)</td>\n",
              "      <td>Adventure|Animation|Children|Comedy|Fantasy</td>\n",
              "    </tr>\n",
              "    <tr>\n",
              "      <th>1</th>\n",
              "      <td>2</td>\n",
              "      <td>Jumanji (1995)</td>\n",
              "      <td>Adventure|Children|Fantasy</td>\n",
              "    </tr>\n",
              "    <tr>\n",
              "      <th>2</th>\n",
              "      <td>3</td>\n",
              "      <td>Grumpier Old Men (1995)</td>\n",
              "      <td>Comedy|Romance</td>\n",
              "    </tr>\n",
              "    <tr>\n",
              "      <th>3</th>\n",
              "      <td>4</td>\n",
              "      <td>Waiting to Exhale (1995)</td>\n",
              "      <td>Comedy|Drama|Romance</td>\n",
              "    </tr>\n",
              "    <tr>\n",
              "      <th>4</th>\n",
              "      <td>5</td>\n",
              "      <td>Father of the Bride Part II (1995)</td>\n",
              "      <td>Comedy</td>\n",
              "    </tr>\n",
              "  </tbody>\n",
              "</table>\n",
              "</div>\n",
              "    <div class=\"colab-df-buttons\">\n",
              "\n",
              "  <div class=\"colab-df-container\">\n",
              "    <button class=\"colab-df-convert\" onclick=\"convertToInteractive('df-d3c64686-d3b1-4fd5-a8e7-28de1635b097')\"\n",
              "            title=\"Convert this dataframe to an interactive table.\"\n",
              "            style=\"display:none;\">\n",
              "\n",
              "  <svg xmlns=\"http://www.w3.org/2000/svg\" height=\"24px\" viewBox=\"0 -960 960 960\">\n",
              "    <path d=\"M120-120v-720h720v720H120Zm60-500h600v-160H180v160Zm220 220h160v-160H400v160Zm0 220h160v-160H400v160ZM180-400h160v-160H180v160Zm440 0h160v-160H620v160ZM180-180h160v-160H180v160Zm440 0h160v-160H620v160Z\"/>\n",
              "  </svg>\n",
              "    </button>\n",
              "\n",
              "  <style>\n",
              "    .colab-df-container {\n",
              "      display:flex;\n",
              "      gap: 12px;\n",
              "    }\n",
              "\n",
              "    .colab-df-convert {\n",
              "      background-color: #E8F0FE;\n",
              "      border: none;\n",
              "      border-radius: 50%;\n",
              "      cursor: pointer;\n",
              "      display: none;\n",
              "      fill: #1967D2;\n",
              "      height: 32px;\n",
              "      padding: 0 0 0 0;\n",
              "      width: 32px;\n",
              "    }\n",
              "\n",
              "    .colab-df-convert:hover {\n",
              "      background-color: #E2EBFA;\n",
              "      box-shadow: 0px 1px 2px rgba(60, 64, 67, 0.3), 0px 1px 3px 1px rgba(60, 64, 67, 0.15);\n",
              "      fill: #174EA6;\n",
              "    }\n",
              "\n",
              "    .colab-df-buttons div {\n",
              "      margin-bottom: 4px;\n",
              "    }\n",
              "\n",
              "    [theme=dark] .colab-df-convert {\n",
              "      background-color: #3B4455;\n",
              "      fill: #D2E3FC;\n",
              "    }\n",
              "\n",
              "    [theme=dark] .colab-df-convert:hover {\n",
              "      background-color: #434B5C;\n",
              "      box-shadow: 0px 1px 3px 1px rgba(0, 0, 0, 0.15);\n",
              "      filter: drop-shadow(0px 1px 2px rgba(0, 0, 0, 0.3));\n",
              "      fill: #FFFFFF;\n",
              "    }\n",
              "  </style>\n",
              "\n",
              "    <script>\n",
              "      const buttonEl =\n",
              "        document.querySelector('#df-d3c64686-d3b1-4fd5-a8e7-28de1635b097 button.colab-df-convert');\n",
              "      buttonEl.style.display =\n",
              "        google.colab.kernel.accessAllowed ? 'block' : 'none';\n",
              "\n",
              "      async function convertToInteractive(key) {\n",
              "        const element = document.querySelector('#df-d3c64686-d3b1-4fd5-a8e7-28de1635b097');\n",
              "        const dataTable =\n",
              "          await google.colab.kernel.invokeFunction('convertToInteractive',\n",
              "                                                    [key], {});\n",
              "        if (!dataTable) return;\n",
              "\n",
              "        const docLinkHtml = 'Like what you see? Visit the ' +\n",
              "          '<a target=\"_blank\" href=https://colab.research.google.com/notebooks/data_table.ipynb>data table notebook</a>'\n",
              "          + ' to learn more about interactive tables.';\n",
              "        element.innerHTML = '';\n",
              "        dataTable['output_type'] = 'display_data';\n",
              "        await google.colab.output.renderOutput(dataTable, element);\n",
              "        const docLink = document.createElement('div');\n",
              "        docLink.innerHTML = docLinkHtml;\n",
              "        element.appendChild(docLink);\n",
              "      }\n",
              "    </script>\n",
              "  </div>\n",
              "\n",
              "\n",
              "<div id=\"df-be1fbb2c-012e-4a7c-a555-c0c0586c745b\">\n",
              "  <button class=\"colab-df-quickchart\" onclick=\"quickchart('df-be1fbb2c-012e-4a7c-a555-c0c0586c745b')\"\n",
              "            title=\"Suggest charts\"\n",
              "            style=\"display:none;\">\n",
              "\n",
              "<svg xmlns=\"http://www.w3.org/2000/svg\" height=\"24px\"viewBox=\"0 0 24 24\"\n",
              "     width=\"24px\">\n",
              "    <g>\n",
              "        <path d=\"M19 3H5c-1.1 0-2 .9-2 2v14c0 1.1.9 2 2 2h14c1.1 0 2-.9 2-2V5c0-1.1-.9-2-2-2zM9 17H7v-7h2v7zm4 0h-2V7h2v10zm4 0h-2v-4h2v4z\"/>\n",
              "    </g>\n",
              "</svg>\n",
              "  </button>\n",
              "\n",
              "<style>\n",
              "  .colab-df-quickchart {\n",
              "      --bg-color: #E8F0FE;\n",
              "      --fill-color: #1967D2;\n",
              "      --hover-bg-color: #E2EBFA;\n",
              "      --hover-fill-color: #174EA6;\n",
              "      --disabled-fill-color: #AAA;\n",
              "      --disabled-bg-color: #DDD;\n",
              "  }\n",
              "\n",
              "  [theme=dark] .colab-df-quickchart {\n",
              "      --bg-color: #3B4455;\n",
              "      --fill-color: #D2E3FC;\n",
              "      --hover-bg-color: #434B5C;\n",
              "      --hover-fill-color: #FFFFFF;\n",
              "      --disabled-bg-color: #3B4455;\n",
              "      --disabled-fill-color: #666;\n",
              "  }\n",
              "\n",
              "  .colab-df-quickchart {\n",
              "    background-color: var(--bg-color);\n",
              "    border: none;\n",
              "    border-radius: 50%;\n",
              "    cursor: pointer;\n",
              "    display: none;\n",
              "    fill: var(--fill-color);\n",
              "    height: 32px;\n",
              "    padding: 0;\n",
              "    width: 32px;\n",
              "  }\n",
              "\n",
              "  .colab-df-quickchart:hover {\n",
              "    background-color: var(--hover-bg-color);\n",
              "    box-shadow: 0 1px 2px rgba(60, 64, 67, 0.3), 0 1px 3px 1px rgba(60, 64, 67, 0.15);\n",
              "    fill: var(--button-hover-fill-color);\n",
              "  }\n",
              "\n",
              "  .colab-df-quickchart-complete:disabled,\n",
              "  .colab-df-quickchart-complete:disabled:hover {\n",
              "    background-color: var(--disabled-bg-color);\n",
              "    fill: var(--disabled-fill-color);\n",
              "    box-shadow: none;\n",
              "  }\n",
              "\n",
              "  .colab-df-spinner {\n",
              "    border: 2px solid var(--fill-color);\n",
              "    border-color: transparent;\n",
              "    border-bottom-color: var(--fill-color);\n",
              "    animation:\n",
              "      spin 1s steps(1) infinite;\n",
              "  }\n",
              "\n",
              "  @keyframes spin {\n",
              "    0% {\n",
              "      border-color: transparent;\n",
              "      border-bottom-color: var(--fill-color);\n",
              "      border-left-color: var(--fill-color);\n",
              "    }\n",
              "    20% {\n",
              "      border-color: transparent;\n",
              "      border-left-color: var(--fill-color);\n",
              "      border-top-color: var(--fill-color);\n",
              "    }\n",
              "    30% {\n",
              "      border-color: transparent;\n",
              "      border-left-color: var(--fill-color);\n",
              "      border-top-color: var(--fill-color);\n",
              "      border-right-color: var(--fill-color);\n",
              "    }\n",
              "    40% {\n",
              "      border-color: transparent;\n",
              "      border-right-color: var(--fill-color);\n",
              "      border-top-color: var(--fill-color);\n",
              "    }\n",
              "    60% {\n",
              "      border-color: transparent;\n",
              "      border-right-color: var(--fill-color);\n",
              "    }\n",
              "    80% {\n",
              "      border-color: transparent;\n",
              "      border-right-color: var(--fill-color);\n",
              "      border-bottom-color: var(--fill-color);\n",
              "    }\n",
              "    90% {\n",
              "      border-color: transparent;\n",
              "      border-bottom-color: var(--fill-color);\n",
              "    }\n",
              "  }\n",
              "</style>\n",
              "\n",
              "  <script>\n",
              "    async function quickchart(key) {\n",
              "      const quickchartButtonEl =\n",
              "        document.querySelector('#' + key + ' button');\n",
              "      quickchartButtonEl.disabled = true;  // To prevent multiple clicks.\n",
              "      quickchartButtonEl.classList.add('colab-df-spinner');\n",
              "      try {\n",
              "        const charts = await google.colab.kernel.invokeFunction(\n",
              "            'suggestCharts', [key], {});\n",
              "      } catch (error) {\n",
              "        console.error('Error during call to suggestCharts:', error);\n",
              "      }\n",
              "      quickchartButtonEl.classList.remove('colab-df-spinner');\n",
              "      quickchartButtonEl.classList.add('colab-df-quickchart-complete');\n",
              "    }\n",
              "    (() => {\n",
              "      let quickchartButtonEl =\n",
              "        document.querySelector('#df-be1fbb2c-012e-4a7c-a555-c0c0586c745b button');\n",
              "      quickchartButtonEl.style.display =\n",
              "        google.colab.kernel.accessAllowed ? 'block' : 'none';\n",
              "    })();\n",
              "  </script>\n",
              "</div>\n",
              "\n",
              "    </div>\n",
              "  </div>\n"
            ]
          },
          "metadata": {},
          "execution_count": 7
        }
      ]
    },
    {
      "cell_type": "code",
      "source": [
        "movies_csv.shape"
      ],
      "metadata": {
        "colab": {
          "base_uri": "https://localhost:8080/"
        },
        "id": "yTJut7eset7F",
        "outputId": "dce90a96-a9f7-425d-afe3-1c151f51d7b5"
      },
      "execution_count": 8,
      "outputs": [
        {
          "output_type": "execute_result",
          "data": {
            "text/plain": [
              "(9125, 3)"
            ]
          },
          "metadata": {},
          "execution_count": 8
        }
      ]
    },
    {
      "cell_type": "code",
      "source": [
        "ratings_csv.head()"
      ],
      "metadata": {
        "colab": {
          "base_uri": "https://localhost:8080/",
          "height": 206
        },
        "id": "h7gG5CeGeyGj",
        "outputId": "83346151-332b-44b9-9f46-c0378aac11fd"
      },
      "execution_count": 9,
      "outputs": [
        {
          "output_type": "execute_result",
          "data": {
            "text/plain": [
              "   userId  movieId  rating   timestamp\n",
              "0       1       31     2.5  1260759144\n",
              "1       1     1029     3.0  1260759179\n",
              "2       1     1061     3.0  1260759182\n",
              "3       1     1129     2.0  1260759185\n",
              "4       1     1172     4.0  1260759205"
            ],
            "text/html": [
              "\n",
              "  <div id=\"df-c2ceac95-b63a-4aac-98a5-78c02d72547f\" class=\"colab-df-container\">\n",
              "    <div>\n",
              "<style scoped>\n",
              "    .dataframe tbody tr th:only-of-type {\n",
              "        vertical-align: middle;\n",
              "    }\n",
              "\n",
              "    .dataframe tbody tr th {\n",
              "        vertical-align: top;\n",
              "    }\n",
              "\n",
              "    .dataframe thead th {\n",
              "        text-align: right;\n",
              "    }\n",
              "</style>\n",
              "<table border=\"1\" class=\"dataframe\">\n",
              "  <thead>\n",
              "    <tr style=\"text-align: right;\">\n",
              "      <th></th>\n",
              "      <th>userId</th>\n",
              "      <th>movieId</th>\n",
              "      <th>rating</th>\n",
              "      <th>timestamp</th>\n",
              "    </tr>\n",
              "  </thead>\n",
              "  <tbody>\n",
              "    <tr>\n",
              "      <th>0</th>\n",
              "      <td>1</td>\n",
              "      <td>31</td>\n",
              "      <td>2.5</td>\n",
              "      <td>1260759144</td>\n",
              "    </tr>\n",
              "    <tr>\n",
              "      <th>1</th>\n",
              "      <td>1</td>\n",
              "      <td>1029</td>\n",
              "      <td>3.0</td>\n",
              "      <td>1260759179</td>\n",
              "    </tr>\n",
              "    <tr>\n",
              "      <th>2</th>\n",
              "      <td>1</td>\n",
              "      <td>1061</td>\n",
              "      <td>3.0</td>\n",
              "      <td>1260759182</td>\n",
              "    </tr>\n",
              "    <tr>\n",
              "      <th>3</th>\n",
              "      <td>1</td>\n",
              "      <td>1129</td>\n",
              "      <td>2.0</td>\n",
              "      <td>1260759185</td>\n",
              "    </tr>\n",
              "    <tr>\n",
              "      <th>4</th>\n",
              "      <td>1</td>\n",
              "      <td>1172</td>\n",
              "      <td>4.0</td>\n",
              "      <td>1260759205</td>\n",
              "    </tr>\n",
              "  </tbody>\n",
              "</table>\n",
              "</div>\n",
              "    <div class=\"colab-df-buttons\">\n",
              "\n",
              "  <div class=\"colab-df-container\">\n",
              "    <button class=\"colab-df-convert\" onclick=\"convertToInteractive('df-c2ceac95-b63a-4aac-98a5-78c02d72547f')\"\n",
              "            title=\"Convert this dataframe to an interactive table.\"\n",
              "            style=\"display:none;\">\n",
              "\n",
              "  <svg xmlns=\"http://www.w3.org/2000/svg\" height=\"24px\" viewBox=\"0 -960 960 960\">\n",
              "    <path d=\"M120-120v-720h720v720H120Zm60-500h600v-160H180v160Zm220 220h160v-160H400v160Zm0 220h160v-160H400v160ZM180-400h160v-160H180v160Zm440 0h160v-160H620v160ZM180-180h160v-160H180v160Zm440 0h160v-160H620v160Z\"/>\n",
              "  </svg>\n",
              "    </button>\n",
              "\n",
              "  <style>\n",
              "    .colab-df-container {\n",
              "      display:flex;\n",
              "      gap: 12px;\n",
              "    }\n",
              "\n",
              "    .colab-df-convert {\n",
              "      background-color: #E8F0FE;\n",
              "      border: none;\n",
              "      border-radius: 50%;\n",
              "      cursor: pointer;\n",
              "      display: none;\n",
              "      fill: #1967D2;\n",
              "      height: 32px;\n",
              "      padding: 0 0 0 0;\n",
              "      width: 32px;\n",
              "    }\n",
              "\n",
              "    .colab-df-convert:hover {\n",
              "      background-color: #E2EBFA;\n",
              "      box-shadow: 0px 1px 2px rgba(60, 64, 67, 0.3), 0px 1px 3px 1px rgba(60, 64, 67, 0.15);\n",
              "      fill: #174EA6;\n",
              "    }\n",
              "\n",
              "    .colab-df-buttons div {\n",
              "      margin-bottom: 4px;\n",
              "    }\n",
              "\n",
              "    [theme=dark] .colab-df-convert {\n",
              "      background-color: #3B4455;\n",
              "      fill: #D2E3FC;\n",
              "    }\n",
              "\n",
              "    [theme=dark] .colab-df-convert:hover {\n",
              "      background-color: #434B5C;\n",
              "      box-shadow: 0px 1px 3px 1px rgba(0, 0, 0, 0.15);\n",
              "      filter: drop-shadow(0px 1px 2px rgba(0, 0, 0, 0.3));\n",
              "      fill: #FFFFFF;\n",
              "    }\n",
              "  </style>\n",
              "\n",
              "    <script>\n",
              "      const buttonEl =\n",
              "        document.querySelector('#df-c2ceac95-b63a-4aac-98a5-78c02d72547f button.colab-df-convert');\n",
              "      buttonEl.style.display =\n",
              "        google.colab.kernel.accessAllowed ? 'block' : 'none';\n",
              "\n",
              "      async function convertToInteractive(key) {\n",
              "        const element = document.querySelector('#df-c2ceac95-b63a-4aac-98a5-78c02d72547f');\n",
              "        const dataTable =\n",
              "          await google.colab.kernel.invokeFunction('convertToInteractive',\n",
              "                                                    [key], {});\n",
              "        if (!dataTable) return;\n",
              "\n",
              "        const docLinkHtml = 'Like what you see? Visit the ' +\n",
              "          '<a target=\"_blank\" href=https://colab.research.google.com/notebooks/data_table.ipynb>data table notebook</a>'\n",
              "          + ' to learn more about interactive tables.';\n",
              "        element.innerHTML = '';\n",
              "        dataTable['output_type'] = 'display_data';\n",
              "        await google.colab.output.renderOutput(dataTable, element);\n",
              "        const docLink = document.createElement('div');\n",
              "        docLink.innerHTML = docLinkHtml;\n",
              "        element.appendChild(docLink);\n",
              "      }\n",
              "    </script>\n",
              "  </div>\n",
              "\n",
              "\n",
              "<div id=\"df-7824b14d-36ee-4892-bbeb-d6724fda8165\">\n",
              "  <button class=\"colab-df-quickchart\" onclick=\"quickchart('df-7824b14d-36ee-4892-bbeb-d6724fda8165')\"\n",
              "            title=\"Suggest charts\"\n",
              "            style=\"display:none;\">\n",
              "\n",
              "<svg xmlns=\"http://www.w3.org/2000/svg\" height=\"24px\"viewBox=\"0 0 24 24\"\n",
              "     width=\"24px\">\n",
              "    <g>\n",
              "        <path d=\"M19 3H5c-1.1 0-2 .9-2 2v14c0 1.1.9 2 2 2h14c1.1 0 2-.9 2-2V5c0-1.1-.9-2-2-2zM9 17H7v-7h2v7zm4 0h-2V7h2v10zm4 0h-2v-4h2v4z\"/>\n",
              "    </g>\n",
              "</svg>\n",
              "  </button>\n",
              "\n",
              "<style>\n",
              "  .colab-df-quickchart {\n",
              "      --bg-color: #E8F0FE;\n",
              "      --fill-color: #1967D2;\n",
              "      --hover-bg-color: #E2EBFA;\n",
              "      --hover-fill-color: #174EA6;\n",
              "      --disabled-fill-color: #AAA;\n",
              "      --disabled-bg-color: #DDD;\n",
              "  }\n",
              "\n",
              "  [theme=dark] .colab-df-quickchart {\n",
              "      --bg-color: #3B4455;\n",
              "      --fill-color: #D2E3FC;\n",
              "      --hover-bg-color: #434B5C;\n",
              "      --hover-fill-color: #FFFFFF;\n",
              "      --disabled-bg-color: #3B4455;\n",
              "      --disabled-fill-color: #666;\n",
              "  }\n",
              "\n",
              "  .colab-df-quickchart {\n",
              "    background-color: var(--bg-color);\n",
              "    border: none;\n",
              "    border-radius: 50%;\n",
              "    cursor: pointer;\n",
              "    display: none;\n",
              "    fill: var(--fill-color);\n",
              "    height: 32px;\n",
              "    padding: 0;\n",
              "    width: 32px;\n",
              "  }\n",
              "\n",
              "  .colab-df-quickchart:hover {\n",
              "    background-color: var(--hover-bg-color);\n",
              "    box-shadow: 0 1px 2px rgba(60, 64, 67, 0.3), 0 1px 3px 1px rgba(60, 64, 67, 0.15);\n",
              "    fill: var(--button-hover-fill-color);\n",
              "  }\n",
              "\n",
              "  .colab-df-quickchart-complete:disabled,\n",
              "  .colab-df-quickchart-complete:disabled:hover {\n",
              "    background-color: var(--disabled-bg-color);\n",
              "    fill: var(--disabled-fill-color);\n",
              "    box-shadow: none;\n",
              "  }\n",
              "\n",
              "  .colab-df-spinner {\n",
              "    border: 2px solid var(--fill-color);\n",
              "    border-color: transparent;\n",
              "    border-bottom-color: var(--fill-color);\n",
              "    animation:\n",
              "      spin 1s steps(1) infinite;\n",
              "  }\n",
              "\n",
              "  @keyframes spin {\n",
              "    0% {\n",
              "      border-color: transparent;\n",
              "      border-bottom-color: var(--fill-color);\n",
              "      border-left-color: var(--fill-color);\n",
              "    }\n",
              "    20% {\n",
              "      border-color: transparent;\n",
              "      border-left-color: var(--fill-color);\n",
              "      border-top-color: var(--fill-color);\n",
              "    }\n",
              "    30% {\n",
              "      border-color: transparent;\n",
              "      border-left-color: var(--fill-color);\n",
              "      border-top-color: var(--fill-color);\n",
              "      border-right-color: var(--fill-color);\n",
              "    }\n",
              "    40% {\n",
              "      border-color: transparent;\n",
              "      border-right-color: var(--fill-color);\n",
              "      border-top-color: var(--fill-color);\n",
              "    }\n",
              "    60% {\n",
              "      border-color: transparent;\n",
              "      border-right-color: var(--fill-color);\n",
              "    }\n",
              "    80% {\n",
              "      border-color: transparent;\n",
              "      border-right-color: var(--fill-color);\n",
              "      border-bottom-color: var(--fill-color);\n",
              "    }\n",
              "    90% {\n",
              "      border-color: transparent;\n",
              "      border-bottom-color: var(--fill-color);\n",
              "    }\n",
              "  }\n",
              "</style>\n",
              "\n",
              "  <script>\n",
              "    async function quickchart(key) {\n",
              "      const quickchartButtonEl =\n",
              "        document.querySelector('#' + key + ' button');\n",
              "      quickchartButtonEl.disabled = true;  // To prevent multiple clicks.\n",
              "      quickchartButtonEl.classList.add('colab-df-spinner');\n",
              "      try {\n",
              "        const charts = await google.colab.kernel.invokeFunction(\n",
              "            'suggestCharts', [key], {});\n",
              "      } catch (error) {\n",
              "        console.error('Error during call to suggestCharts:', error);\n",
              "      }\n",
              "      quickchartButtonEl.classList.remove('colab-df-spinner');\n",
              "      quickchartButtonEl.classList.add('colab-df-quickchart-complete');\n",
              "    }\n",
              "    (() => {\n",
              "      let quickchartButtonEl =\n",
              "        document.querySelector('#df-7824b14d-36ee-4892-bbeb-d6724fda8165 button');\n",
              "      quickchartButtonEl.style.display =\n",
              "        google.colab.kernel.accessAllowed ? 'block' : 'none';\n",
              "    })();\n",
              "  </script>\n",
              "</div>\n",
              "\n",
              "    </div>\n",
              "  </div>\n"
            ]
          },
          "metadata": {},
          "execution_count": 9
        }
      ]
    },
    {
      "cell_type": "code",
      "source": [
        "ratings_csv.shape"
      ],
      "metadata": {
        "colab": {
          "base_uri": "https://localhost:8080/"
        },
        "id": "6ziGKes8haaY",
        "outputId": "76260638-5098-498b-f012-cf3269eb088b"
      },
      "execution_count": 10,
      "outputs": [
        {
          "output_type": "execute_result",
          "data": {
            "text/plain": [
              "(100004, 4)"
            ]
          },
          "metadata": {},
          "execution_count": 10
        }
      ]
    },
    {
      "cell_type": "markdown",
      "source": [
        "First lets explore how many unique users are there in our dataset"
      ],
      "metadata": {
        "id": "NJT3fvHBhhMC"
      }
    },
    {
      "cell_type": "code",
      "source": [
        "unique_users = ratings_csv['userId'].nunique()\n",
        "unique_users"
      ],
      "metadata": {
        "colab": {
          "base_uri": "https://localhost:8080/"
        },
        "id": "_9mZgN7whex8",
        "outputId": "e9fcca96-3fb1-46e5-a1a2-30f15d7e20c7"
      },
      "execution_count": 11,
      "outputs": [
        {
          "output_type": "execute_result",
          "data": {
            "text/plain": [
              "671"
            ]
          },
          "metadata": {},
          "execution_count": 11
        }
      ]
    },
    {
      "cell_type": "markdown",
      "source": [
        "Well, there are 671 total users who have rated different movies . Now, lets explore how many different movies are there in our dataset?"
      ],
      "metadata": {
        "id": "_alUONbJhvXY"
      }
    },
    {
      "cell_type": "code",
      "source": [
        "unique_movies = ratings_csv['movieId'].nunique()\n",
        "unique_movies"
      ],
      "metadata": {
        "colab": {
          "base_uri": "https://localhost:8080/"
        },
        "id": "tUeRKWQLhtqa",
        "outputId": "92eaa3a6-60bf-430e-f19e-431ec9b27906"
      },
      "execution_count": 14,
      "outputs": [
        {
          "output_type": "execute_result",
          "data": {
            "text/plain": [
              "9066"
            ]
          },
          "metadata": {},
          "execution_count": 14
        }
      ]
    },
    {
      "cell_type": "markdown",
      "source": [
        "From this we can clearly see that there are around 9066 unique movies in the dataset . Now, lets find out the average rating for the movies."
      ],
      "metadata": {
        "id": "tS0X5gouiG1L"
      }
    },
    {
      "cell_type": "code",
      "source": [
        "ratings_csv['rating'].mean()"
      ],
      "metadata": {
        "colab": {
          "base_uri": "https://localhost:8080/"
        },
        "id": "rcHIuaHJiBCI",
        "outputId": "271e5367-5364-4439-be8b-e60c6beae7b1"
      },
      "execution_count": 15,
      "outputs": [
        {
          "output_type": "execute_result",
          "data": {
            "text/plain": [
              "3.543608255669773"
            ]
          },
          "metadata": {},
          "execution_count": 15
        }
      ]
    },
    {
      "cell_type": "markdown",
      "source": [
        "The average rating for a movie is 3.54. Similarly lets, find out the average no of user rated movies."
      ],
      "metadata": {
        "id": "8A_7xe6-i6PS"
      }
    },
    {
      "cell_type": "code",
      "source": [
        "ratings_csv['rating'].shape[0]/ratings_csv['movieId'].nunique()"
      ],
      "metadata": {
        "colab": {
          "base_uri": "https://localhost:8080/"
        },
        "id": "oXWR96yDi35F",
        "outputId": "a01f14d4-549a-4e4b-81c1-3c8664c7e855"
      },
      "execution_count": 16,
      "outputs": [
        {
          "output_type": "execute_result",
          "data": {
            "text/plain": [
              "11.030664019413193"
            ]
          },
          "metadata": {},
          "execution_count": 16
        }
      ]
    },
    {
      "cell_type": "markdown",
      "source": [
        "On average a user rate approximately rates 11 movies.\n",
        "\n",
        "What all can we infer from the data ....\n",
        "Lets find out the most user rated movies(no of users not the rating) and least rated movies"
      ],
      "metadata": {
        "id": "qnaaoXEKj8aY"
      }
    },
    {
      "cell_type": "code",
      "source": [
        "most_rated_movie_= ratings_csv.groupby('movieId')['rating'].agg('count').reset_index()\n",
        "most_rated_movie_.rename(columns={'rating':'count'},inplace=True)\n",
        "most_rated_movie_.sort_values(by='count',ascending=False).head(5)"
      ],
      "metadata": {
        "colab": {
          "base_uri": "https://localhost:8080/",
          "height": 206
        },
        "id": "lOy9xnLqjyaf",
        "outputId": "1bbf7d4c-0484-4a32-bfb9-1fd74b1209c4"
      },
      "execution_count": 17,
      "outputs": [
        {
          "output_type": "execute_result",
          "data": {
            "text/plain": [
              "     movieId  count\n",
              "321      356    341\n",
              "266      296    324\n",
              "284      318    311\n",
              "525      593    304\n",
              "232      260    291"
            ],
            "text/html": [
              "\n",
              "  <div id=\"df-1f8a3d81-db7e-4280-a3c9-b78c4e6d3fe8\" class=\"colab-df-container\">\n",
              "    <div>\n",
              "<style scoped>\n",
              "    .dataframe tbody tr th:only-of-type {\n",
              "        vertical-align: middle;\n",
              "    }\n",
              "\n",
              "    .dataframe tbody tr th {\n",
              "        vertical-align: top;\n",
              "    }\n",
              "\n",
              "    .dataframe thead th {\n",
              "        text-align: right;\n",
              "    }\n",
              "</style>\n",
              "<table border=\"1\" class=\"dataframe\">\n",
              "  <thead>\n",
              "    <tr style=\"text-align: right;\">\n",
              "      <th></th>\n",
              "      <th>movieId</th>\n",
              "      <th>count</th>\n",
              "    </tr>\n",
              "  </thead>\n",
              "  <tbody>\n",
              "    <tr>\n",
              "      <th>321</th>\n",
              "      <td>356</td>\n",
              "      <td>341</td>\n",
              "    </tr>\n",
              "    <tr>\n",
              "      <th>266</th>\n",
              "      <td>296</td>\n",
              "      <td>324</td>\n",
              "    </tr>\n",
              "    <tr>\n",
              "      <th>284</th>\n",
              "      <td>318</td>\n",
              "      <td>311</td>\n",
              "    </tr>\n",
              "    <tr>\n",
              "      <th>525</th>\n",
              "      <td>593</td>\n",
              "      <td>304</td>\n",
              "    </tr>\n",
              "    <tr>\n",
              "      <th>232</th>\n",
              "      <td>260</td>\n",
              "      <td>291</td>\n",
              "    </tr>\n",
              "  </tbody>\n",
              "</table>\n",
              "</div>\n",
              "    <div class=\"colab-df-buttons\">\n",
              "\n",
              "  <div class=\"colab-df-container\">\n",
              "    <button class=\"colab-df-convert\" onclick=\"convertToInteractive('df-1f8a3d81-db7e-4280-a3c9-b78c4e6d3fe8')\"\n",
              "            title=\"Convert this dataframe to an interactive table.\"\n",
              "            style=\"display:none;\">\n",
              "\n",
              "  <svg xmlns=\"http://www.w3.org/2000/svg\" height=\"24px\" viewBox=\"0 -960 960 960\">\n",
              "    <path d=\"M120-120v-720h720v720H120Zm60-500h600v-160H180v160Zm220 220h160v-160H400v160Zm0 220h160v-160H400v160ZM180-400h160v-160H180v160Zm440 0h160v-160H620v160ZM180-180h160v-160H180v160Zm440 0h160v-160H620v160Z\"/>\n",
              "  </svg>\n",
              "    </button>\n",
              "\n",
              "  <style>\n",
              "    .colab-df-container {\n",
              "      display:flex;\n",
              "      gap: 12px;\n",
              "    }\n",
              "\n",
              "    .colab-df-convert {\n",
              "      background-color: #E8F0FE;\n",
              "      border: none;\n",
              "      border-radius: 50%;\n",
              "      cursor: pointer;\n",
              "      display: none;\n",
              "      fill: #1967D2;\n",
              "      height: 32px;\n",
              "      padding: 0 0 0 0;\n",
              "      width: 32px;\n",
              "    }\n",
              "\n",
              "    .colab-df-convert:hover {\n",
              "      background-color: #E2EBFA;\n",
              "      box-shadow: 0px 1px 2px rgba(60, 64, 67, 0.3), 0px 1px 3px 1px rgba(60, 64, 67, 0.15);\n",
              "      fill: #174EA6;\n",
              "    }\n",
              "\n",
              "    .colab-df-buttons div {\n",
              "      margin-bottom: 4px;\n",
              "    }\n",
              "\n",
              "    [theme=dark] .colab-df-convert {\n",
              "      background-color: #3B4455;\n",
              "      fill: #D2E3FC;\n",
              "    }\n",
              "\n",
              "    [theme=dark] .colab-df-convert:hover {\n",
              "      background-color: #434B5C;\n",
              "      box-shadow: 0px 1px 3px 1px rgba(0, 0, 0, 0.15);\n",
              "      filter: drop-shadow(0px 1px 2px rgba(0, 0, 0, 0.3));\n",
              "      fill: #FFFFFF;\n",
              "    }\n",
              "  </style>\n",
              "\n",
              "    <script>\n",
              "      const buttonEl =\n",
              "        document.querySelector('#df-1f8a3d81-db7e-4280-a3c9-b78c4e6d3fe8 button.colab-df-convert');\n",
              "      buttonEl.style.display =\n",
              "        google.colab.kernel.accessAllowed ? 'block' : 'none';\n",
              "\n",
              "      async function convertToInteractive(key) {\n",
              "        const element = document.querySelector('#df-1f8a3d81-db7e-4280-a3c9-b78c4e6d3fe8');\n",
              "        const dataTable =\n",
              "          await google.colab.kernel.invokeFunction('convertToInteractive',\n",
              "                                                    [key], {});\n",
              "        if (!dataTable) return;\n",
              "\n",
              "        const docLinkHtml = 'Like what you see? Visit the ' +\n",
              "          '<a target=\"_blank\" href=https://colab.research.google.com/notebooks/data_table.ipynb>data table notebook</a>'\n",
              "          + ' to learn more about interactive tables.';\n",
              "        element.innerHTML = '';\n",
              "        dataTable['output_type'] = 'display_data';\n",
              "        await google.colab.output.renderOutput(dataTable, element);\n",
              "        const docLink = document.createElement('div');\n",
              "        docLink.innerHTML = docLinkHtml;\n",
              "        element.appendChild(docLink);\n",
              "      }\n",
              "    </script>\n",
              "  </div>\n",
              "\n",
              "\n",
              "<div id=\"df-70e38b4d-73de-4dcd-b7f6-996801061031\">\n",
              "  <button class=\"colab-df-quickchart\" onclick=\"quickchart('df-70e38b4d-73de-4dcd-b7f6-996801061031')\"\n",
              "            title=\"Suggest charts\"\n",
              "            style=\"display:none;\">\n",
              "\n",
              "<svg xmlns=\"http://www.w3.org/2000/svg\" height=\"24px\"viewBox=\"0 0 24 24\"\n",
              "     width=\"24px\">\n",
              "    <g>\n",
              "        <path d=\"M19 3H5c-1.1 0-2 .9-2 2v14c0 1.1.9 2 2 2h14c1.1 0 2-.9 2-2V5c0-1.1-.9-2-2-2zM9 17H7v-7h2v7zm4 0h-2V7h2v10zm4 0h-2v-4h2v4z\"/>\n",
              "    </g>\n",
              "</svg>\n",
              "  </button>\n",
              "\n",
              "<style>\n",
              "  .colab-df-quickchart {\n",
              "      --bg-color: #E8F0FE;\n",
              "      --fill-color: #1967D2;\n",
              "      --hover-bg-color: #E2EBFA;\n",
              "      --hover-fill-color: #174EA6;\n",
              "      --disabled-fill-color: #AAA;\n",
              "      --disabled-bg-color: #DDD;\n",
              "  }\n",
              "\n",
              "  [theme=dark] .colab-df-quickchart {\n",
              "      --bg-color: #3B4455;\n",
              "      --fill-color: #D2E3FC;\n",
              "      --hover-bg-color: #434B5C;\n",
              "      --hover-fill-color: #FFFFFF;\n",
              "      --disabled-bg-color: #3B4455;\n",
              "      --disabled-fill-color: #666;\n",
              "  }\n",
              "\n",
              "  .colab-df-quickchart {\n",
              "    background-color: var(--bg-color);\n",
              "    border: none;\n",
              "    border-radius: 50%;\n",
              "    cursor: pointer;\n",
              "    display: none;\n",
              "    fill: var(--fill-color);\n",
              "    height: 32px;\n",
              "    padding: 0;\n",
              "    width: 32px;\n",
              "  }\n",
              "\n",
              "  .colab-df-quickchart:hover {\n",
              "    background-color: var(--hover-bg-color);\n",
              "    box-shadow: 0 1px 2px rgba(60, 64, 67, 0.3), 0 1px 3px 1px rgba(60, 64, 67, 0.15);\n",
              "    fill: var(--button-hover-fill-color);\n",
              "  }\n",
              "\n",
              "  .colab-df-quickchart-complete:disabled,\n",
              "  .colab-df-quickchart-complete:disabled:hover {\n",
              "    background-color: var(--disabled-bg-color);\n",
              "    fill: var(--disabled-fill-color);\n",
              "    box-shadow: none;\n",
              "  }\n",
              "\n",
              "  .colab-df-spinner {\n",
              "    border: 2px solid var(--fill-color);\n",
              "    border-color: transparent;\n",
              "    border-bottom-color: var(--fill-color);\n",
              "    animation:\n",
              "      spin 1s steps(1) infinite;\n",
              "  }\n",
              "\n",
              "  @keyframes spin {\n",
              "    0% {\n",
              "      border-color: transparent;\n",
              "      border-bottom-color: var(--fill-color);\n",
              "      border-left-color: var(--fill-color);\n",
              "    }\n",
              "    20% {\n",
              "      border-color: transparent;\n",
              "      border-left-color: var(--fill-color);\n",
              "      border-top-color: var(--fill-color);\n",
              "    }\n",
              "    30% {\n",
              "      border-color: transparent;\n",
              "      border-left-color: var(--fill-color);\n",
              "      border-top-color: var(--fill-color);\n",
              "      border-right-color: var(--fill-color);\n",
              "    }\n",
              "    40% {\n",
              "      border-color: transparent;\n",
              "      border-right-color: var(--fill-color);\n",
              "      border-top-color: var(--fill-color);\n",
              "    }\n",
              "    60% {\n",
              "      border-color: transparent;\n",
              "      border-right-color: var(--fill-color);\n",
              "    }\n",
              "    80% {\n",
              "      border-color: transparent;\n",
              "      border-right-color: var(--fill-color);\n",
              "      border-bottom-color: var(--fill-color);\n",
              "    }\n",
              "    90% {\n",
              "      border-color: transparent;\n",
              "      border-bottom-color: var(--fill-color);\n",
              "    }\n",
              "  }\n",
              "</style>\n",
              "\n",
              "  <script>\n",
              "    async function quickchart(key) {\n",
              "      const quickchartButtonEl =\n",
              "        document.querySelector('#' + key + ' button');\n",
              "      quickchartButtonEl.disabled = true;  // To prevent multiple clicks.\n",
              "      quickchartButtonEl.classList.add('colab-df-spinner');\n",
              "      try {\n",
              "        const charts = await google.colab.kernel.invokeFunction(\n",
              "            'suggestCharts', [key], {});\n",
              "      } catch (error) {\n",
              "        console.error('Error during call to suggestCharts:', error);\n",
              "      }\n",
              "      quickchartButtonEl.classList.remove('colab-df-spinner');\n",
              "      quickchartButtonEl.classList.add('colab-df-quickchart-complete');\n",
              "    }\n",
              "    (() => {\n",
              "      let quickchartButtonEl =\n",
              "        document.querySelector('#df-70e38b4d-73de-4dcd-b7f6-996801061031 button');\n",
              "      quickchartButtonEl.style.display =\n",
              "        google.colab.kernel.accessAllowed ? 'block' : 'none';\n",
              "    })();\n",
              "  </script>\n",
              "</div>\n",
              "\n",
              "    </div>\n",
              "  </div>\n"
            ]
          },
          "metadata": {},
          "execution_count": 17
        }
      ]
    },
    {
      "cell_type": "markdown",
      "source": [
        "We can clearly infer that movie id 356 ,296 ,318 has the highest no of user-rating. Now lets find what are the movie names\n"
      ],
      "metadata": {
        "id": "LLDwsrPE0Zc_"
      }
    },
    {
      "cell_type": "code",
      "source": [
        "merged_df = ratings_csv.merge(movies_csv,on='movieId')\n",
        "merged_df.groupby('title')['rating'].agg('count').sort_values(ascending=False).reset_index().iloc[:5]"
      ],
      "metadata": {
        "id": "tuJO5sYmkh7z",
        "colab": {
          "base_uri": "https://localhost:8080/",
          "height": 206
        },
        "outputId": "cc8996ec-60c9-4238-8a50-ee221593829d"
      },
      "execution_count": 18,
      "outputs": [
        {
          "output_type": "execute_result",
          "data": {
            "text/plain": [
              "                                       title  rating\n",
              "0                        Forrest Gump (1994)     341\n",
              "1                        Pulp Fiction (1994)     324\n",
              "2           Shawshank Redemption, The (1994)     311\n",
              "3           Silence of the Lambs, The (1991)     304\n",
              "4  Star Wars: Episode IV - A New Hope (1977)     291"
            ],
            "text/html": [
              "\n",
              "  <div id=\"df-b556e9ae-7ad8-4461-8508-ad4ef3cca6e1\" class=\"colab-df-container\">\n",
              "    <div>\n",
              "<style scoped>\n",
              "    .dataframe tbody tr th:only-of-type {\n",
              "        vertical-align: middle;\n",
              "    }\n",
              "\n",
              "    .dataframe tbody tr th {\n",
              "        vertical-align: top;\n",
              "    }\n",
              "\n",
              "    .dataframe thead th {\n",
              "        text-align: right;\n",
              "    }\n",
              "</style>\n",
              "<table border=\"1\" class=\"dataframe\">\n",
              "  <thead>\n",
              "    <tr style=\"text-align: right;\">\n",
              "      <th></th>\n",
              "      <th>title</th>\n",
              "      <th>rating</th>\n",
              "    </tr>\n",
              "  </thead>\n",
              "  <tbody>\n",
              "    <tr>\n",
              "      <th>0</th>\n",
              "      <td>Forrest Gump (1994)</td>\n",
              "      <td>341</td>\n",
              "    </tr>\n",
              "    <tr>\n",
              "      <th>1</th>\n",
              "      <td>Pulp Fiction (1994)</td>\n",
              "      <td>324</td>\n",
              "    </tr>\n",
              "    <tr>\n",
              "      <th>2</th>\n",
              "      <td>Shawshank Redemption, The (1994)</td>\n",
              "      <td>311</td>\n",
              "    </tr>\n",
              "    <tr>\n",
              "      <th>3</th>\n",
              "      <td>Silence of the Lambs, The (1991)</td>\n",
              "      <td>304</td>\n",
              "    </tr>\n",
              "    <tr>\n",
              "      <th>4</th>\n",
              "      <td>Star Wars: Episode IV - A New Hope (1977)</td>\n",
              "      <td>291</td>\n",
              "    </tr>\n",
              "  </tbody>\n",
              "</table>\n",
              "</div>\n",
              "    <div class=\"colab-df-buttons\">\n",
              "\n",
              "  <div class=\"colab-df-container\">\n",
              "    <button class=\"colab-df-convert\" onclick=\"convertToInteractive('df-b556e9ae-7ad8-4461-8508-ad4ef3cca6e1')\"\n",
              "            title=\"Convert this dataframe to an interactive table.\"\n",
              "            style=\"display:none;\">\n",
              "\n",
              "  <svg xmlns=\"http://www.w3.org/2000/svg\" height=\"24px\" viewBox=\"0 -960 960 960\">\n",
              "    <path d=\"M120-120v-720h720v720H120Zm60-500h600v-160H180v160Zm220 220h160v-160H400v160Zm0 220h160v-160H400v160ZM180-400h160v-160H180v160Zm440 0h160v-160H620v160ZM180-180h160v-160H180v160Zm440 0h160v-160H620v160Z\"/>\n",
              "  </svg>\n",
              "    </button>\n",
              "\n",
              "  <style>\n",
              "    .colab-df-container {\n",
              "      display:flex;\n",
              "      gap: 12px;\n",
              "    }\n",
              "\n",
              "    .colab-df-convert {\n",
              "      background-color: #E8F0FE;\n",
              "      border: none;\n",
              "      border-radius: 50%;\n",
              "      cursor: pointer;\n",
              "      display: none;\n",
              "      fill: #1967D2;\n",
              "      height: 32px;\n",
              "      padding: 0 0 0 0;\n",
              "      width: 32px;\n",
              "    }\n",
              "\n",
              "    .colab-df-convert:hover {\n",
              "      background-color: #E2EBFA;\n",
              "      box-shadow: 0px 1px 2px rgba(60, 64, 67, 0.3), 0px 1px 3px 1px rgba(60, 64, 67, 0.15);\n",
              "      fill: #174EA6;\n",
              "    }\n",
              "\n",
              "    .colab-df-buttons div {\n",
              "      margin-bottom: 4px;\n",
              "    }\n",
              "\n",
              "    [theme=dark] .colab-df-convert {\n",
              "      background-color: #3B4455;\n",
              "      fill: #D2E3FC;\n",
              "    }\n",
              "\n",
              "    [theme=dark] .colab-df-convert:hover {\n",
              "      background-color: #434B5C;\n",
              "      box-shadow: 0px 1px 3px 1px rgba(0, 0, 0, 0.15);\n",
              "      filter: drop-shadow(0px 1px 2px rgba(0, 0, 0, 0.3));\n",
              "      fill: #FFFFFF;\n",
              "    }\n",
              "  </style>\n",
              "\n",
              "    <script>\n",
              "      const buttonEl =\n",
              "        document.querySelector('#df-b556e9ae-7ad8-4461-8508-ad4ef3cca6e1 button.colab-df-convert');\n",
              "      buttonEl.style.display =\n",
              "        google.colab.kernel.accessAllowed ? 'block' : 'none';\n",
              "\n",
              "      async function convertToInteractive(key) {\n",
              "        const element = document.querySelector('#df-b556e9ae-7ad8-4461-8508-ad4ef3cca6e1');\n",
              "        const dataTable =\n",
              "          await google.colab.kernel.invokeFunction('convertToInteractive',\n",
              "                                                    [key], {});\n",
              "        if (!dataTable) return;\n",
              "\n",
              "        const docLinkHtml = 'Like what you see? Visit the ' +\n",
              "          '<a target=\"_blank\" href=https://colab.research.google.com/notebooks/data_table.ipynb>data table notebook</a>'\n",
              "          + ' to learn more about interactive tables.';\n",
              "        element.innerHTML = '';\n",
              "        dataTable['output_type'] = 'display_data';\n",
              "        await google.colab.output.renderOutput(dataTable, element);\n",
              "        const docLink = document.createElement('div');\n",
              "        docLink.innerHTML = docLinkHtml;\n",
              "        element.appendChild(docLink);\n",
              "      }\n",
              "    </script>\n",
              "  </div>\n",
              "\n",
              "\n",
              "<div id=\"df-d6578d32-bda1-46c0-954a-84a9974c94a0\">\n",
              "  <button class=\"colab-df-quickchart\" onclick=\"quickchart('df-d6578d32-bda1-46c0-954a-84a9974c94a0')\"\n",
              "            title=\"Suggest charts\"\n",
              "            style=\"display:none;\">\n",
              "\n",
              "<svg xmlns=\"http://www.w3.org/2000/svg\" height=\"24px\"viewBox=\"0 0 24 24\"\n",
              "     width=\"24px\">\n",
              "    <g>\n",
              "        <path d=\"M19 3H5c-1.1 0-2 .9-2 2v14c0 1.1.9 2 2 2h14c1.1 0 2-.9 2-2V5c0-1.1-.9-2-2-2zM9 17H7v-7h2v7zm4 0h-2V7h2v10zm4 0h-2v-4h2v4z\"/>\n",
              "    </g>\n",
              "</svg>\n",
              "  </button>\n",
              "\n",
              "<style>\n",
              "  .colab-df-quickchart {\n",
              "      --bg-color: #E8F0FE;\n",
              "      --fill-color: #1967D2;\n",
              "      --hover-bg-color: #E2EBFA;\n",
              "      --hover-fill-color: #174EA6;\n",
              "      --disabled-fill-color: #AAA;\n",
              "      --disabled-bg-color: #DDD;\n",
              "  }\n",
              "\n",
              "  [theme=dark] .colab-df-quickchart {\n",
              "      --bg-color: #3B4455;\n",
              "      --fill-color: #D2E3FC;\n",
              "      --hover-bg-color: #434B5C;\n",
              "      --hover-fill-color: #FFFFFF;\n",
              "      --disabled-bg-color: #3B4455;\n",
              "      --disabled-fill-color: #666;\n",
              "  }\n",
              "\n",
              "  .colab-df-quickchart {\n",
              "    background-color: var(--bg-color);\n",
              "    border: none;\n",
              "    border-radius: 50%;\n",
              "    cursor: pointer;\n",
              "    display: none;\n",
              "    fill: var(--fill-color);\n",
              "    height: 32px;\n",
              "    padding: 0;\n",
              "    width: 32px;\n",
              "  }\n",
              "\n",
              "  .colab-df-quickchart:hover {\n",
              "    background-color: var(--hover-bg-color);\n",
              "    box-shadow: 0 1px 2px rgba(60, 64, 67, 0.3), 0 1px 3px 1px rgba(60, 64, 67, 0.15);\n",
              "    fill: var(--button-hover-fill-color);\n",
              "  }\n",
              "\n",
              "  .colab-df-quickchart-complete:disabled,\n",
              "  .colab-df-quickchart-complete:disabled:hover {\n",
              "    background-color: var(--disabled-bg-color);\n",
              "    fill: var(--disabled-fill-color);\n",
              "    box-shadow: none;\n",
              "  }\n",
              "\n",
              "  .colab-df-spinner {\n",
              "    border: 2px solid var(--fill-color);\n",
              "    border-color: transparent;\n",
              "    border-bottom-color: var(--fill-color);\n",
              "    animation:\n",
              "      spin 1s steps(1) infinite;\n",
              "  }\n",
              "\n",
              "  @keyframes spin {\n",
              "    0% {\n",
              "      border-color: transparent;\n",
              "      border-bottom-color: var(--fill-color);\n",
              "      border-left-color: var(--fill-color);\n",
              "    }\n",
              "    20% {\n",
              "      border-color: transparent;\n",
              "      border-left-color: var(--fill-color);\n",
              "      border-top-color: var(--fill-color);\n",
              "    }\n",
              "    30% {\n",
              "      border-color: transparent;\n",
              "      border-left-color: var(--fill-color);\n",
              "      border-top-color: var(--fill-color);\n",
              "      border-right-color: var(--fill-color);\n",
              "    }\n",
              "    40% {\n",
              "      border-color: transparent;\n",
              "      border-right-color: var(--fill-color);\n",
              "      border-top-color: var(--fill-color);\n",
              "    }\n",
              "    60% {\n",
              "      border-color: transparent;\n",
              "      border-right-color: var(--fill-color);\n",
              "    }\n",
              "    80% {\n",
              "      border-color: transparent;\n",
              "      border-right-color: var(--fill-color);\n",
              "      border-bottom-color: var(--fill-color);\n",
              "    }\n",
              "    90% {\n",
              "      border-color: transparent;\n",
              "      border-bottom-color: var(--fill-color);\n",
              "    }\n",
              "  }\n",
              "</style>\n",
              "\n",
              "  <script>\n",
              "    async function quickchart(key) {\n",
              "      const quickchartButtonEl =\n",
              "        document.querySelector('#' + key + ' button');\n",
              "      quickchartButtonEl.disabled = true;  // To prevent multiple clicks.\n",
              "      quickchartButtonEl.classList.add('colab-df-spinner');\n",
              "      try {\n",
              "        const charts = await google.colab.kernel.invokeFunction(\n",
              "            'suggestCharts', [key], {});\n",
              "      } catch (error) {\n",
              "        console.error('Error during call to suggestCharts:', error);\n",
              "      }\n",
              "      quickchartButtonEl.classList.remove('colab-df-spinner');\n",
              "      quickchartButtonEl.classList.add('colab-df-quickchart-complete');\n",
              "    }\n",
              "    (() => {\n",
              "      let quickchartButtonEl =\n",
              "        document.querySelector('#df-d6578d32-bda1-46c0-954a-84a9974c94a0 button');\n",
              "      quickchartButtonEl.style.display =\n",
              "        google.colab.kernel.accessAllowed ? 'block' : 'none';\n",
              "    })();\n",
              "  </script>\n",
              "</div>\n",
              "\n",
              "    </div>\n",
              "  </div>\n"
            ]
          },
          "metadata": {},
          "execution_count": 18
        }
      ]
    },
    {
      "cell_type": "markdown",
      "source": [
        "The top 5 user-rated movies (no of ratings) are\n",
        "\n",
        "\n",
        "1.   Forrest Gump (1994)\n",
        "2.   Pulp Fiction (1994)\n",
        "3.   Shawshank Redemption, The (1994)\n",
        "4.   Silence of the Lambs, The (1991)\n",
        "5.   Star Wars: Episode IV - A New Hope (1977)\n",
        "\n",
        "Lets find the least rated movie"
      ],
      "metadata": {
        "id": "usYZfYpO2RdG"
      }
    },
    {
      "cell_type": "code",
      "source": [
        "merged_df.groupby('title')['rating'].agg('count').sort_values(ascending=True).reset_index().iloc[:5]"
      ],
      "metadata": {
        "id": "qxBLi4O3j68g",
        "colab": {
          "base_uri": "https://localhost:8080/",
          "height": 206
        },
        "outputId": "9017dc6c-747e-4372-c361-b02a7b423e0c"
      },
      "execution_count": 19,
      "outputs": [
        {
          "output_type": "execute_result",
          "data": {
            "text/plain": [
              "                                       title  rating\n",
              "0                        İtirazım Var (2014)       1\n",
              "1                        Dragonslayer (1981)       1\n",
              "2          Drained (O cheiro do Ralo) (2006)       1\n",
              "3  Dream Home (Wai dor lei ah yut ho) (2010)       1\n",
              "4     Once a Thief (Zong heng si hai) (1991)       1"
            ],
            "text/html": [
              "\n",
              "  <div id=\"df-87387d04-751c-479d-ac3c-64f2a4ebdca8\" class=\"colab-df-container\">\n",
              "    <div>\n",
              "<style scoped>\n",
              "    .dataframe tbody tr th:only-of-type {\n",
              "        vertical-align: middle;\n",
              "    }\n",
              "\n",
              "    .dataframe tbody tr th {\n",
              "        vertical-align: top;\n",
              "    }\n",
              "\n",
              "    .dataframe thead th {\n",
              "        text-align: right;\n",
              "    }\n",
              "</style>\n",
              "<table border=\"1\" class=\"dataframe\">\n",
              "  <thead>\n",
              "    <tr style=\"text-align: right;\">\n",
              "      <th></th>\n",
              "      <th>title</th>\n",
              "      <th>rating</th>\n",
              "    </tr>\n",
              "  </thead>\n",
              "  <tbody>\n",
              "    <tr>\n",
              "      <th>0</th>\n",
              "      <td>İtirazım Var (2014)</td>\n",
              "      <td>1</td>\n",
              "    </tr>\n",
              "    <tr>\n",
              "      <th>1</th>\n",
              "      <td>Dragonslayer (1981)</td>\n",
              "      <td>1</td>\n",
              "    </tr>\n",
              "    <tr>\n",
              "      <th>2</th>\n",
              "      <td>Drained (O cheiro do Ralo) (2006)</td>\n",
              "      <td>1</td>\n",
              "    </tr>\n",
              "    <tr>\n",
              "      <th>3</th>\n",
              "      <td>Dream Home (Wai dor lei ah yut ho) (2010)</td>\n",
              "      <td>1</td>\n",
              "    </tr>\n",
              "    <tr>\n",
              "      <th>4</th>\n",
              "      <td>Once a Thief (Zong heng si hai) (1991)</td>\n",
              "      <td>1</td>\n",
              "    </tr>\n",
              "  </tbody>\n",
              "</table>\n",
              "</div>\n",
              "    <div class=\"colab-df-buttons\">\n",
              "\n",
              "  <div class=\"colab-df-container\">\n",
              "    <button class=\"colab-df-convert\" onclick=\"convertToInteractive('df-87387d04-751c-479d-ac3c-64f2a4ebdca8')\"\n",
              "            title=\"Convert this dataframe to an interactive table.\"\n",
              "            style=\"display:none;\">\n",
              "\n",
              "  <svg xmlns=\"http://www.w3.org/2000/svg\" height=\"24px\" viewBox=\"0 -960 960 960\">\n",
              "    <path d=\"M120-120v-720h720v720H120Zm60-500h600v-160H180v160Zm220 220h160v-160H400v160Zm0 220h160v-160H400v160ZM180-400h160v-160H180v160Zm440 0h160v-160H620v160ZM180-180h160v-160H180v160Zm440 0h160v-160H620v160Z\"/>\n",
              "  </svg>\n",
              "    </button>\n",
              "\n",
              "  <style>\n",
              "    .colab-df-container {\n",
              "      display:flex;\n",
              "      gap: 12px;\n",
              "    }\n",
              "\n",
              "    .colab-df-convert {\n",
              "      background-color: #E8F0FE;\n",
              "      border: none;\n",
              "      border-radius: 50%;\n",
              "      cursor: pointer;\n",
              "      display: none;\n",
              "      fill: #1967D2;\n",
              "      height: 32px;\n",
              "      padding: 0 0 0 0;\n",
              "      width: 32px;\n",
              "    }\n",
              "\n",
              "    .colab-df-convert:hover {\n",
              "      background-color: #E2EBFA;\n",
              "      box-shadow: 0px 1px 2px rgba(60, 64, 67, 0.3), 0px 1px 3px 1px rgba(60, 64, 67, 0.15);\n",
              "      fill: #174EA6;\n",
              "    }\n",
              "\n",
              "    .colab-df-buttons div {\n",
              "      margin-bottom: 4px;\n",
              "    }\n",
              "\n",
              "    [theme=dark] .colab-df-convert {\n",
              "      background-color: #3B4455;\n",
              "      fill: #D2E3FC;\n",
              "    }\n",
              "\n",
              "    [theme=dark] .colab-df-convert:hover {\n",
              "      background-color: #434B5C;\n",
              "      box-shadow: 0px 1px 3px 1px rgba(0, 0, 0, 0.15);\n",
              "      filter: drop-shadow(0px 1px 2px rgba(0, 0, 0, 0.3));\n",
              "      fill: #FFFFFF;\n",
              "    }\n",
              "  </style>\n",
              "\n",
              "    <script>\n",
              "      const buttonEl =\n",
              "        document.querySelector('#df-87387d04-751c-479d-ac3c-64f2a4ebdca8 button.colab-df-convert');\n",
              "      buttonEl.style.display =\n",
              "        google.colab.kernel.accessAllowed ? 'block' : 'none';\n",
              "\n",
              "      async function convertToInteractive(key) {\n",
              "        const element = document.querySelector('#df-87387d04-751c-479d-ac3c-64f2a4ebdca8');\n",
              "        const dataTable =\n",
              "          await google.colab.kernel.invokeFunction('convertToInteractive',\n",
              "                                                    [key], {});\n",
              "        if (!dataTable) return;\n",
              "\n",
              "        const docLinkHtml = 'Like what you see? Visit the ' +\n",
              "          '<a target=\"_blank\" href=https://colab.research.google.com/notebooks/data_table.ipynb>data table notebook</a>'\n",
              "          + ' to learn more about interactive tables.';\n",
              "        element.innerHTML = '';\n",
              "        dataTable['output_type'] = 'display_data';\n",
              "        await google.colab.output.renderOutput(dataTable, element);\n",
              "        const docLink = document.createElement('div');\n",
              "        docLink.innerHTML = docLinkHtml;\n",
              "        element.appendChild(docLink);\n",
              "      }\n",
              "    </script>\n",
              "  </div>\n",
              "\n",
              "\n",
              "<div id=\"df-82ee5bb4-695f-44df-abc6-11f0a79cac56\">\n",
              "  <button class=\"colab-df-quickchart\" onclick=\"quickchart('df-82ee5bb4-695f-44df-abc6-11f0a79cac56')\"\n",
              "            title=\"Suggest charts\"\n",
              "            style=\"display:none;\">\n",
              "\n",
              "<svg xmlns=\"http://www.w3.org/2000/svg\" height=\"24px\"viewBox=\"0 0 24 24\"\n",
              "     width=\"24px\">\n",
              "    <g>\n",
              "        <path d=\"M19 3H5c-1.1 0-2 .9-2 2v14c0 1.1.9 2 2 2h14c1.1 0 2-.9 2-2V5c0-1.1-.9-2-2-2zM9 17H7v-7h2v7zm4 0h-2V7h2v10zm4 0h-2v-4h2v4z\"/>\n",
              "    </g>\n",
              "</svg>\n",
              "  </button>\n",
              "\n",
              "<style>\n",
              "  .colab-df-quickchart {\n",
              "      --bg-color: #E8F0FE;\n",
              "      --fill-color: #1967D2;\n",
              "      --hover-bg-color: #E2EBFA;\n",
              "      --hover-fill-color: #174EA6;\n",
              "      --disabled-fill-color: #AAA;\n",
              "      --disabled-bg-color: #DDD;\n",
              "  }\n",
              "\n",
              "  [theme=dark] .colab-df-quickchart {\n",
              "      --bg-color: #3B4455;\n",
              "      --fill-color: #D2E3FC;\n",
              "      --hover-bg-color: #434B5C;\n",
              "      --hover-fill-color: #FFFFFF;\n",
              "      --disabled-bg-color: #3B4455;\n",
              "      --disabled-fill-color: #666;\n",
              "  }\n",
              "\n",
              "  .colab-df-quickchart {\n",
              "    background-color: var(--bg-color);\n",
              "    border: none;\n",
              "    border-radius: 50%;\n",
              "    cursor: pointer;\n",
              "    display: none;\n",
              "    fill: var(--fill-color);\n",
              "    height: 32px;\n",
              "    padding: 0;\n",
              "    width: 32px;\n",
              "  }\n",
              "\n",
              "  .colab-df-quickchart:hover {\n",
              "    background-color: var(--hover-bg-color);\n",
              "    box-shadow: 0 1px 2px rgba(60, 64, 67, 0.3), 0 1px 3px 1px rgba(60, 64, 67, 0.15);\n",
              "    fill: var(--button-hover-fill-color);\n",
              "  }\n",
              "\n",
              "  .colab-df-quickchart-complete:disabled,\n",
              "  .colab-df-quickchart-complete:disabled:hover {\n",
              "    background-color: var(--disabled-bg-color);\n",
              "    fill: var(--disabled-fill-color);\n",
              "    box-shadow: none;\n",
              "  }\n",
              "\n",
              "  .colab-df-spinner {\n",
              "    border: 2px solid var(--fill-color);\n",
              "    border-color: transparent;\n",
              "    border-bottom-color: var(--fill-color);\n",
              "    animation:\n",
              "      spin 1s steps(1) infinite;\n",
              "  }\n",
              "\n",
              "  @keyframes spin {\n",
              "    0% {\n",
              "      border-color: transparent;\n",
              "      border-bottom-color: var(--fill-color);\n",
              "      border-left-color: var(--fill-color);\n",
              "    }\n",
              "    20% {\n",
              "      border-color: transparent;\n",
              "      border-left-color: var(--fill-color);\n",
              "      border-top-color: var(--fill-color);\n",
              "    }\n",
              "    30% {\n",
              "      border-color: transparent;\n",
              "      border-left-color: var(--fill-color);\n",
              "      border-top-color: var(--fill-color);\n",
              "      border-right-color: var(--fill-color);\n",
              "    }\n",
              "    40% {\n",
              "      border-color: transparent;\n",
              "      border-right-color: var(--fill-color);\n",
              "      border-top-color: var(--fill-color);\n",
              "    }\n",
              "    60% {\n",
              "      border-color: transparent;\n",
              "      border-right-color: var(--fill-color);\n",
              "    }\n",
              "    80% {\n",
              "      border-color: transparent;\n",
              "      border-right-color: var(--fill-color);\n",
              "      border-bottom-color: var(--fill-color);\n",
              "    }\n",
              "    90% {\n",
              "      border-color: transparent;\n",
              "      border-bottom-color: var(--fill-color);\n",
              "    }\n",
              "  }\n",
              "</style>\n",
              "\n",
              "  <script>\n",
              "    async function quickchart(key) {\n",
              "      const quickchartButtonEl =\n",
              "        document.querySelector('#' + key + ' button');\n",
              "      quickchartButtonEl.disabled = true;  // To prevent multiple clicks.\n",
              "      quickchartButtonEl.classList.add('colab-df-spinner');\n",
              "      try {\n",
              "        const charts = await google.colab.kernel.invokeFunction(\n",
              "            'suggestCharts', [key], {});\n",
              "      } catch (error) {\n",
              "        console.error('Error during call to suggestCharts:', error);\n",
              "      }\n",
              "      quickchartButtonEl.classList.remove('colab-df-spinner');\n",
              "      quickchartButtonEl.classList.add('colab-df-quickchart-complete');\n",
              "    }\n",
              "    (() => {\n",
              "      let quickchartButtonEl =\n",
              "        document.querySelector('#df-82ee5bb4-695f-44df-abc6-11f0a79cac56 button');\n",
              "      quickchartButtonEl.style.display =\n",
              "        google.colab.kernel.accessAllowed ? 'block' : 'none';\n",
              "    })();\n",
              "  </script>\n",
              "</div>\n",
              "\n",
              "    </div>\n",
              "  </div>\n"
            ]
          },
          "metadata": {},
          "execution_count": 19
        }
      ]
    },
    {
      "cell_type": "markdown",
      "source": [
        "Finally, we will find out the movie with highest average rating / highest rated"
      ],
      "metadata": {
        "id": "jUICmy8R3PWI"
      }
    },
    {
      "cell_type": "code",
      "source": [
        "merged_df.groupby('title')['rating'].agg('mean').sort_values(ascending=False).iloc[:10]"
      ],
      "metadata": {
        "colab": {
          "base_uri": "https://localhost:8080/"
        },
        "id": "Yjj1II2x22kP",
        "outputId": "cc61726a-6135-4208-e842-a600675fbee8"
      },
      "execution_count": 20,
      "outputs": [
        {
          "output_type": "execute_result",
          "data": {
            "text/plain": [
              "title\n",
              "Ivan Vasilievich: Back to the Future (Ivan Vasilievich menyaet professiyu) (1973)    5.0\n",
              "Alien Escape (1995)                                                                  5.0\n",
              "Boiling Point (1993)                                                                 5.0\n",
              "Bone Tomahawk (2015)                                                                 5.0\n",
              "Borgman (2013)                                                                       5.0\n",
              "Survive and Advance (2013)                                                           5.0\n",
              "Supercop 2 (Project S) (Chao ji ji hua) (1993)                                       5.0\n",
              "Last Dragon, The (1985)                                                              5.0\n",
              "Boy Crazy (2009)                                                                     5.0\n",
              "Brandon Teena Story, The (1998)                                                      5.0\n",
              "Name: rating, dtype: float64"
            ]
          },
          "metadata": {},
          "execution_count": 20
        }
      ]
    },
    {
      "cell_type": "code",
      "source": [
        "print(\"The total no of users voted for Ivan Vasilievich: Back to the Future is\",merged_df[merged_df['title']=='Ivan Vasilievich: Back to the Future (Ivan Vasilievich menyaet professiyu) (1973)'].shape[0])\n",
        "print(\"The rating of the Forest Gump movie\",merged_df[merged_df['title']=='Forrest Gump (1994)']['rating'].mean())\n",
        "print(\"The total no of users voted for Forest Gump movie is\",merged_df[merged_df['title']=='Forrest Gump (1994)'].shape[0])\n",
        "\n"
      ],
      "metadata": {
        "colab": {
          "base_uri": "https://localhost:8080/"
        },
        "id": "LmWaYrYN3eL-",
        "outputId": "c9f32735-d0b6-442a-9346-a79d7fe47e61"
      },
      "execution_count": 21,
      "outputs": [
        {
          "output_type": "stream",
          "name": "stdout",
          "text": [
            "The total no of users voted for Ivan Vasilievich: Back to the Future is 1\n",
            "The rating of the Forest Gump movie 4.05425219941349\n",
            "The total no of users voted for Forest Gump movie is 341\n"
          ]
        }
      ]
    },
    {
      "cell_type": "markdown",
      "source": [
        "Now here is the problem we can clearly see that Ivan Vasilievich: Back to the Future is the highly rated movie , but only 1 user has rated the movie .\n",
        "On the other hand if you look at Forest Gump , 341 users have rated this movie . Clearly, the rating is affected by the no of users who have rated the movie . We have to find a solution so that we could avoid bias in calculating the average rating of the movie, which we will cover in the next module.\n",
        "\n",
        "\n",
        "---\n"
      ],
      "metadata": {
        "id": "_lNpHRfV3ttm"
      }
    },
    {
      "cell_type": "markdown",
      "source": [
        "**Most liked genre**\n",
        "\n",
        "To do this lets import python library collections"
      ],
      "metadata": {
        "id": "9QvBhL7MBhYS"
      }
    },
    {
      "cell_type": "code",
      "source": [
        "from collections import Counter\n",
        "genre_df = pd.DataFrame(data = merged_df['genres'].apply(lambda x:x.split('|')),columns = ['genres'])\n",
        "genres_frequency = Counter((g for i in genre_df['genres'] for g in i))\n",
        "genres_frequency\n",
        "genres_frequency.values()"
      ],
      "metadata": {
        "colab": {
          "base_uri": "https://localhost:8080/"
        },
        "id": "rcf2m5UnBgvj",
        "outputId": "5faa34d9-69fb-4f5c-e900-b66750bde885"
      },
      "execution_count": 22,
      "outputs": [
        {
          "output_type": "execute_result",
          "data": {
            "text/plain": [
              "dict_values([44752, 6170, 8680, 4722, 25240, 27056, 22017, 15365, 5025, 10657, 6790, 19336, 38026, 16266, 1912, 7625, 3156, 1564, 1140, 18])"
            ]
          },
          "metadata": {},
          "execution_count": 22
        }
      ]
    },
    {
      "cell_type": "code",
      "source": [
        "sn.barplot(x = [i for i in genres_frequency.keys()], y=[i for i in genres_frequency.values()])\n",
        "plt.xticks(rotation=90)"
      ],
      "metadata": {
        "colab": {
          "base_uri": "https://localhost:8080/",
          "height": 920
        },
        "id": "5ciCBSY6H2nx",
        "outputId": "fc1a3674-3e1d-403e-dfdd-57b068eb2d5a"
      },
      "execution_count": 23,
      "outputs": [
        {
          "output_type": "execute_result",
          "data": {
            "text/plain": [
              "(array([ 0,  1,  2,  3,  4,  5,  6,  7,  8,  9, 10, 11, 12, 13, 14, 15, 16,\n",
              "        17, 18, 19]),\n",
              " [Text(0, 0, 'Drama'),\n",
              "  Text(1, 0, 'Animation'),\n",
              "  Text(2, 0, 'Children'),\n",
              "  Text(3, 0, 'Musical'),\n",
              "  Text(4, 0, 'Thriller'),\n",
              "  Text(5, 0, 'Action'),\n",
              "  Text(6, 0, 'Adventure'),\n",
              "  Text(7, 0, 'Sci-Fi'),\n",
              "  Text(8, 0, 'War'),\n",
              "  Text(9, 0, 'Fantasy'),\n",
              "  Text(10, 0, 'Horror'),\n",
              "  Text(11, 0, 'Romance'),\n",
              "  Text(12, 0, 'Comedy'),\n",
              "  Text(13, 0, 'Crime'),\n",
              "  Text(14, 0, 'Western'),\n",
              "  Text(15, 0, 'Mystery'),\n",
              "  Text(16, 0, 'IMAX'),\n",
              "  Text(17, 0, 'Documentary'),\n",
              "  Text(18, 0, 'Film-Noir'),\n",
              "  Text(19, 0, '(no genres listed)')])"
            ]
          },
          "metadata": {},
          "execution_count": 23
        },
        {
          "output_type": "display_data",
          "data": {
            "text/plain": [
              "<Figure size 640x480 with 1 Axes>"
            ],
            "image/png": "[encoded data removed]"
          },
          "metadata": {}
        }
      ]
    },
    {
      "cell_type": "markdown",
      "source": [
        "Genre --> Drama is the most rated genre\n",
        "next comes comedy, thriller and romance"
      ],
      "metadata": {
        "id": "uVi3aKDqJFtT"
      }
    },
    {
      "cell_type": "markdown",
      "source": [
        "**Most user Rated movie**"
      ],
      "metadata": {
        "id": "heHr4v8H9H8A"
      }
    },
    {
      "cell_type": "code",
      "source": [
        "most_user_rated = merged_df.groupby('title')['rating'].agg('count').reset_index().sort_values(by='rating',ascending=False).iloc[:5]\n",
        "plt.figure(figsize=(18,5))\n",
        "sn.barplot(x=most_user_rated['title'],y=most_user_rated['rating'])"
      ],
      "metadata": {
        "colab": {
          "base_uri": "https://localhost:8080/",
          "height": 371
        },
        "id": "_8yhvHv957lE",
        "outputId": "74a5a3da-579b-49b4-a93c-96aeeab1bdd6"
      },
      "execution_count": 24,
      "outputs": [
        {
          "output_type": "execute_result",
          "data": {
            "text/plain": [
              "<Axes: xlabel='title', ylabel='rating'>"
            ]
          },
          "metadata": {},
          "execution_count": 24
        },
        {
          "output_type": "display_data",
          "data": {
            "text/plain": [
              "<Figure size 1800x500 with 1 Axes>"
            ],
            "image/png": "[encoded data removed]"
          },
          "metadata": {}
        }
      ]
    },
    {
      "cell_type": "markdown",
      "source": [
        "**Least user Rated movie**"
      ],
      "metadata": {
        "id": "fR4LZELq9NdB"
      }
    },
    {
      "cell_type": "code",
      "source": [
        "least_user_rated = merged_df.groupby('title')['rating'].agg('count').reset_index().sort_values(by='rating').iloc[:5]\n",
        "plt.figure(figsize=(18,5))\n",
        "sn.barplot(x=least_user_rated['title'],y=least_user_rated['rating'])"
      ],
      "metadata": {
        "id": "rkvcfdTB6SqF",
        "colab": {
          "base_uri": "https://localhost:8080/",
          "height": 374
        },
        "outputId": "9394dabe-0bf8-4c58-f2a8-f2b729eb9014"
      },
      "execution_count": 25,
      "outputs": [
        {
          "output_type": "execute_result",
          "data": {
            "text/plain": [
              "<Axes: xlabel='title', ylabel='rating'>"
            ]
          },
          "metadata": {},
          "execution_count": 25
        },
        {
          "output_type": "display_data",
          "data": {
            "text/plain": [
              "<Figure size 1800x500 with 1 Axes>"
            ],
            "image/png": "[encoded data removed]"
          },
          "metadata": {}
        }
      ]
    },
    {
      "cell_type": "markdown",
      "source": [
        "**Highest rated movie**"
      ],
      "metadata": {
        "id": "SNqwooqf-o-3"
      }
    },
    {
      "cell_type": "code",
      "source": [
        "merged_df['title'].replace({'Ivan Vasilievich: Back to the Future (Ivan Vasilievich menyaet professiyu) (1973)':'Ivan Vasilievich: Back to the Future (1973)'},inplace=True)\n",
        "highest_rated = merged_df.groupby('title')['rating'].agg('mean').reset_index().sort_values(by='rating',ascending=False).iloc[:5]\n",
        "plt.figure(figsize=(24,8))\n",
        "sn.barplot(x=highest_rated['title'],y=highest_rated['rating'])"
      ],
      "metadata": {
        "colab": {
          "base_uri": "https://localhost:8080/",
          "height": 428
        },
        "id": "6gizD8oT9Zzj",
        "outputId": "8e7bee81-4fce-4b2e-deda-6fbe370cb43a"
      },
      "execution_count": 26,
      "outputs": [
        {
          "output_type": "execute_result",
          "data": {
            "text/plain": [
              "<Axes: xlabel='title', ylabel='rating'>"
            ]
          },
          "metadata": {},
          "execution_count": 26
        },
        {
          "output_type": "display_data",
          "data": {
            "text/plain": [
              "<Figure size 2400x800 with 1 Axes>"
            ],
            "image/png": "[encoded data removed]"
          },
          "metadata": {}
        }
      ]
    },
    {
      "cell_type": "markdown",
      "source": [
        "**Least rated movie**"
      ],
      "metadata": {
        "id": "zf3IpvlSA9Fj"
      }
    },
    {
      "cell_type": "code",
      "source": [
        "least_rated = merged_df.groupby('title')['rating'].agg('mean').reset_index().sort_values(by='rating').iloc[:5]\n",
        "plt.figure(figsize=(20,8))\n",
        "sn.barplot(x=least_rated['title'],y=least_rated['rating'])"
      ],
      "metadata": {
        "colab": {
          "base_uri": "https://localhost:8080/",
          "height": 478
        },
        "id": "ksDsWYaH_Z1c",
        "outputId": "c85642e9-a482-4005-ad60-b47cecc25a7f"
      },
      "execution_count": 27,
      "outputs": [
        {
          "output_type": "execute_result",
          "data": {
            "text/plain": [
              "<Axes: xlabel='title', ylabel='rating'>"
            ]
          },
          "metadata": {},
          "execution_count": 27
        },
        {
          "output_type": "display_data",
          "data": {
            "text/plain": [
              "<Figure size 2000x800 with 1 Axes>"
            ],
            "image/png": "[encoded data removed]"
          },
          "metadata": {}
        }
      ]
    },
    {
      "cell_type": "markdown",
      "source": [
        "**Data Preprocessing**\n",
        "\n",
        "\n",
        "Before building our model we have seen the bias in rating in accordance to no of rating for a movie . To avoid this bias we can use help of the\n",
        "\n",
        "Bayesian average\n",
        "\n",
        "Bayesian Average\n",
        "Bayesian Average is defined as:\n",
        "\n",
        "$r_{i} = \\frac{C \\times m + \\Sigma{\\text{reviews}}}{C+N}$\n",
        "\n",
        "where\n",
        " C represents our confidence,\n",
        " M represents our prior, and\n",
        " N is the total number of reviews for movie\n",
        ".\n",
        "\n",
        " C represents \"the typical data set size\". In this case,\n",
        " C will be the average number of ratings for a given movie.\n",
        " M represents the average rating across all movies"
      ],
      "metadata": {
        "id": "HaD6SGfIV6OA"
      }
    },
    {
      "cell_type": "code",
      "source": [
        "#Average no of rating for a given movie\n",
        "C = (ratings_csv['rating'].shape[0])/(ratings_csv['movieId'].nunique())\n",
        "C"
      ],
      "metadata": {
        "colab": {
          "base_uri": "https://localhost:8080/"
        },
        "outputId": "1dd14cac-baf6-478a-be17-6243ad30c5ef",
        "id": "--TyVScHWEvc"
      },
      "execution_count": 28,
      "outputs": [
        {
          "output_type": "execute_result",
          "data": {
            "text/plain": [
              "11.030664019413193"
            ]
          },
          "metadata": {},
          "execution_count": 28
        }
      ]
    },
    {
      "cell_type": "code",
      "source": [
        "#Average rating for a movie\n",
        "M = ratings_csv['rating'].mean()\n",
        "M"
      ],
      "metadata": {
        "colab": {
          "base_uri": "https://localhost:8080/"
        },
        "outputId": "3ade66c2-38f5-44a6-a949-d898de824492",
        "id": "DINjOeHkWEvj"
      },
      "execution_count": 29,
      "outputs": [
        {
          "output_type": "execute_result",
          "data": {
            "text/plain": [
              "3.543608255669773"
            ]
          },
          "metadata": {},
          "execution_count": 29
        }
      ]
    },
    {
      "cell_type": "code",
      "source": [
        "def bayesian_fun2(movie):\n",
        "  return round((C*M + movie.sum()) / (C + movie.count()),2)\n",
        "\n",
        "\n",
        "bayesian_df = ratings_csv.groupby('movieId')['rating'].agg(bayesian_fun2).reset_index()"
      ],
      "metadata": {
        "id": "nQnQOQXiWEvj"
      },
      "execution_count": 30,
      "outputs": []
    },
    {
      "cell_type": "code",
      "source": [
        "bayesian_df.columns = ['movieId','bayesian_rating']\n",
        "merged_df = merged_df.merge(bayesian_df,on='movieId')\n"
      ],
      "metadata": {
        "id": "Io6f1QGFWEvj"
      },
      "execution_count": 31,
      "outputs": []
    },
    {
      "cell_type": "code",
      "source": [
        "# def title_year(string):\n",
        "#   integers ='0123456789'\n",
        "#   string = string.replace(\" \",'')\n",
        "#   index = 0\n",
        "#   for i in range(len(string)-1):\n",
        "#     if string[i+1] in integers and string[i]=='(':\n",
        "#       index = i\n",
        "#   return string[:index],string[index+1:len(string)-1]\n",
        "\n",
        "# movies_csv[['movie','year']] = movies_csv['title'].apply(lambda x : pd.Series(title_year(x)))"
      ],
      "metadata": {
        "id": "Zf1H_N5dWEvj"
      },
      "execution_count": null,
      "outputs": []
    },
    {
      "cell_type": "markdown",
      "source": [
        "**We will use bayesian_avg for the recommendation system so we will drop the ratings column**"
      ],
      "metadata": {
        "id": "PrYTR7elVBV8"
      }
    },
    {
      "cell_type": "code",
      "source": [
        "merged_df = merged_df.drop('rating',axis=1)\n",
        "merged_df"
      ],
      "metadata": {
        "colab": {
          "base_uri": "https://localhost:8080/",
          "height": 423
        },
        "id": "OpS5VDhfWEvj",
        "outputId": "3cf522c6-735b-4cf7-dc6e-7a300d17110f"
      },
      "execution_count": 32,
      "outputs": [
        {
          "output_type": "execute_result",
          "data": {
            "text/plain": [
              "        userId  movieId   timestamp                                 title  \\\n",
              "0            1       31  1260759144                Dangerous Minds (1995)   \n",
              "1            7       31   851868750                Dangerous Minds (1995)   \n",
              "2           31       31  1273541953                Dangerous Minds (1995)   \n",
              "3           32       31   834828440                Dangerous Minds (1995)   \n",
              "4           36       31   847057202                Dangerous Minds (1995)   \n",
              "...        ...      ...         ...                                   ...   \n",
              "99999      664    64997  1343761859              War of the Worlds (2005)   \n",
              "100000     664    72380  1344435977                       Box, The (2009)   \n",
              "100001     665      129   995232528                 Pie in the Sky (1996)   \n",
              "100002     665     4736  1010197684                   Summer Catch (2001)   \n",
              "100003     668     6425   993613478  6th Man, The (Sixth Man, The) (1997)   \n",
              "\n",
              "                                      genres  bayesian_rating  \n",
              "0                                      Drama             3.25  \n",
              "1                                      Drama             3.25  \n",
              "2                                      Drama             3.25  \n",
              "3                                      Drama             3.25  \n",
              "4                                      Drama             3.25  \n",
              "...                                      ...              ...  \n",
              "99999                          Action|Sci-Fi             3.46  \n",
              "100000  Drama|Horror|Mystery|Sci-Fi|Thriller             3.54  \n",
              "100001                        Comedy|Romance             3.50  \n",
              "100002                  Comedy|Drama|Romance             3.33  \n",
              "100003                                Comedy             3.33  \n",
              "\n",
              "[100004 rows x 6 columns]"
            ],
            "text/html": [
              "\n",
              "  <div id=\"df-cb6389fe-017f-438f-9ed7-0b1e48fc59d0\" class=\"colab-df-container\">\n",
              "    <div>\n",
              "<style scoped>\n",
              "    .dataframe tbody tr th:only-of-type {\n",
              "        vertical-align: middle;\n",
              "    }\n",
              "\n",
              "    .dataframe tbody tr th {\n",
              "        vertical-align: top;\n",
              "    }\n",
              "\n",
              "    .dataframe thead th {\n",
              "        text-align: right;\n",
              "    }\n",
              "</style>\n",
              "<table border=\"1\" class=\"dataframe\">\n",
              "  <thead>\n",
              "    <tr style=\"text-align: right;\">\n",
              "      <th></th>\n",
              "      <th>userId</th>\n",
              "      <th>movieId</th>\n",
              "      <th>timestamp</th>\n",
              "      <th>title</th>\n",
              "      <th>genres</th>\n",
              "      <th>bayesian_rating</th>\n",
              "    </tr>\n",
              "  </thead>\n",
              "  <tbody>\n",
              "    <tr>\n",
              "      <th>0</th>\n",
              "      <td>1</td>\n",
              "      <td>31</td>\n",
              "      <td>1260759144</td>\n",
              "      <td>Dangerous Minds (1995)</td>\n",
              "      <td>Drama</td>\n",
              "      <td>3.25</td>\n",
              "    </tr>\n",
              "    <tr>\n",
              "      <th>1</th>\n",
              "      <td>7</td>\n",
              "      <td>31</td>\n",
              "      <td>851868750</td>\n",
              "      <td>Dangerous Minds (1995)</td>\n",
              "      <td>Drama</td>\n",
              "      <td>3.25</td>\n",
              "    </tr>\n",
              "    <tr>\n",
              "      <th>2</th>\n",
              "      <td>31</td>\n",
              "      <td>31</td>\n",
              "      <td>1273541953</td>\n",
              "      <td>Dangerous Minds (1995)</td>\n",
              "      <td>Drama</td>\n",
              "      <td>3.25</td>\n",
              "    </tr>\n",
              "    <tr>\n",
              "      <th>3</th>\n",
              "      <td>32</td>\n",
              "      <td>31</td>\n",
              "      <td>834828440</td>\n",
              "      <td>Dangerous Minds (1995)</td>\n",
              "      <td>Drama</td>\n",
              "      <td>3.25</td>\n",
              "    </tr>\n",
              "    <tr>\n",
              "      <th>4</th>\n",
              "      <td>36</td>\n",
              "      <td>31</td>\n",
              "      <td>847057202</td>\n",
              "      <td>Dangerous Minds (1995)</td>\n",
              "      <td>Drama</td>\n",
              "      <td>3.25</td>\n",
              "    </tr>\n",
              "    <tr>\n",
              "      <th>...</th>\n",
              "      <td>...</td>\n",
              "      <td>...</td>\n",
              "      <td>...</td>\n",
              "      <td>...</td>\n",
              "      <td>...</td>\n",
              "      <td>...</td>\n",
              "    </tr>\n",
              "    <tr>\n",
              "      <th>99999</th>\n",
              "      <td>664</td>\n",
              "      <td>64997</td>\n",
              "      <td>1343761859</td>\n",
              "      <td>War of the Worlds (2005)</td>\n",
              "      <td>Action|Sci-Fi</td>\n",
              "      <td>3.46</td>\n",
              "    </tr>\n",
              "    <tr>\n",
              "      <th>100000</th>\n",
              "      <td>664</td>\n",
              "      <td>72380</td>\n",
              "      <td>1344435977</td>\n",
              "      <td>Box, The (2009)</td>\n",
              "      <td>Drama|Horror|Mystery|Sci-Fi|Thriller</td>\n",
              "      <td>3.54</td>\n",
              "    </tr>\n",
              "    <tr>\n",
              "      <th>100001</th>\n",
              "      <td>665</td>\n",
              "      <td>129</td>\n",
              "      <td>995232528</td>\n",
              "      <td>Pie in the Sky (1996)</td>\n",
              "      <td>Comedy|Romance</td>\n",
              "      <td>3.50</td>\n",
              "    </tr>\n",
              "    <tr>\n",
              "      <th>100002</th>\n",
              "      <td>665</td>\n",
              "      <td>4736</td>\n",
              "      <td>1010197684</td>\n",
              "      <td>Summer Catch (2001)</td>\n",
              "      <td>Comedy|Drama|Romance</td>\n",
              "      <td>3.33</td>\n",
              "    </tr>\n",
              "    <tr>\n",
              "      <th>100003</th>\n",
              "      <td>668</td>\n",
              "      <td>6425</td>\n",
              "      <td>993613478</td>\n",
              "      <td>6th Man, The (Sixth Man, The) (1997)</td>\n",
              "      <td>Comedy</td>\n",
              "      <td>3.33</td>\n",
              "    </tr>\n",
              "  </tbody>\n",
              "</table>\n",
              "<p>100004 rows × 6 columns</p>\n",
              "</div>\n",
              "    <div class=\"colab-df-buttons\">\n",
              "\n",
              "  <div class=\"colab-df-container\">\n",
              "    <button class=\"colab-df-convert\" onclick=\"convertToInteractive('df-cb6389fe-017f-438f-9ed7-0b1e48fc59d0')\"\n",
              "            title=\"Convert this dataframe to an interactive table.\"\n",
              "            style=\"display:none;\">\n",
              "\n",
              "  <svg xmlns=\"http://www.w3.org/2000/svg\" height=\"24px\" viewBox=\"0 -960 960 960\">\n",
              "    <path d=\"M120-120v-720h720v720H120Zm60-500h600v-160H180v160Zm220 220h160v-160H400v160Zm0 220h160v-160H400v160ZM180-400h160v-160H180v160Zm440 0h160v-160H620v160ZM180-180h160v-160H180v160Zm440 0h160v-160H620v160Z\"/>\n",
              "  </svg>\n",
              "    </button>\n",
              "\n",
              "  <style>\n",
              "    .colab-df-container {\n",
              "      display:flex;\n",
              "      gap: 12px;\n",
              "    }\n",
              "\n",
              "    .colab-df-convert {\n",
              "      background-color: #E8F0FE;\n",
              "      border: none;\n",
              "      border-radius: 50%;\n",
              "      cursor: pointer;\n",
              "      display: none;\n",
              "      fill: #1967D2;\n",
              "      height: 32px;\n",
              "      padding: 0 0 0 0;\n",
              "      width: 32px;\n",
              "    }\n",
              "\n",
              "    .colab-df-convert:hover {\n",
              "      background-color: #E2EBFA;\n",
              "      box-shadow: 0px 1px 2px rgba(60, 64, 67, 0.3), 0px 1px 3px 1px rgba(60, 64, 67, 0.15);\n",
              "      fill: #174EA6;\n",
              "    }\n",
              "\n",
              "    .colab-df-buttons div {\n",
              "      margin-bottom: 4px;\n",
              "    }\n",
              "\n",
              "    [theme=dark] .colab-df-convert {\n",
              "      background-color: #3B4455;\n",
              "      fill: #D2E3FC;\n",
              "    }\n",
              "\n",
              "    [theme=dark] .colab-df-convert:hover {\n",
              "      background-color: #434B5C;\n",
              "      box-shadow: 0px 1px 3px 1px rgba(0, 0, 0, 0.15);\n",
              "      filter: drop-shadow(0px 1px 2px rgba(0, 0, 0, 0.3));\n",
              "      fill: #FFFFFF;\n",
              "    }\n",
              "  </style>\n",
              "\n",
              "    <script>\n",
              "      const buttonEl =\n",
              "        document.querySelector('#df-cb6389fe-017f-438f-9ed7-0b1e48fc59d0 button.colab-df-convert');\n",
              "      buttonEl.style.display =\n",
              "        google.colab.kernel.accessAllowed ? 'block' : 'none';\n",
              "\n",
              "      async function convertToInteractive(key) {\n",
              "        const element = document.querySelector('#df-cb6389fe-017f-438f-9ed7-0b1e48fc59d0');\n",
              "        const dataTable =\n",
              "          await google.colab.kernel.invokeFunction('convertToInteractive',\n",
              "                                                    [key], {});\n",
              "        if (!dataTable) return;\n",
              "\n",
              "        const docLinkHtml = 'Like what you see? Visit the ' +\n",
              "          '<a target=\"_blank\" href=https://colab.research.google.com/notebooks/data_table.ipynb>data table notebook</a>'\n",
              "          + ' to learn more about interactive tables.';\n",
              "        element.innerHTML = '';\n",
              "        dataTable['output_type'] = 'display_data';\n",
              "        await google.colab.output.renderOutput(dataTable, element);\n",
              "        const docLink = document.createElement('div');\n",
              "        docLink.innerHTML = docLinkHtml;\n",
              "        element.appendChild(docLink);\n",
              "      }\n",
              "    </script>\n",
              "  </div>\n",
              "\n",
              "\n",
              "<div id=\"df-747f640f-f275-471e-b173-9fbe85ff7c99\">\n",
              "  <button class=\"colab-df-quickchart\" onclick=\"quickchart('df-747f640f-f275-471e-b173-9fbe85ff7c99')\"\n",
              "            title=\"Suggest charts\"\n",
              "            style=\"display:none;\">\n",
              "\n",
              "<svg xmlns=\"http://www.w3.org/2000/svg\" height=\"24px\"viewBox=\"0 0 24 24\"\n",
              "     width=\"24px\">\n",
              "    <g>\n",
              "        <path d=\"M19 3H5c-1.1 0-2 .9-2 2v14c0 1.1.9 2 2 2h14c1.1 0 2-.9 2-2V5c0-1.1-.9-2-2-2zM9 17H7v-7h2v7zm4 0h-2V7h2v10zm4 0h-2v-4h2v4z\"/>\n",
              "    </g>\n",
              "</svg>\n",
              "  </button>\n",
              "\n",
              "<style>\n",
              "  .colab-df-quickchart {\n",
              "      --bg-color: #E8F0FE;\n",
              "      --fill-color: #1967D2;\n",
              "      --hover-bg-color: #E2EBFA;\n",
              "      --hover-fill-color: #174EA6;\n",
              "      --disabled-fill-color: #AAA;\n",
              "      --disabled-bg-color: #DDD;\n",
              "  }\n",
              "\n",
              "  [theme=dark] .colab-df-quickchart {\n",
              "      --bg-color: #3B4455;\n",
              "      --fill-color: #D2E3FC;\n",
              "      --hover-bg-color: #434B5C;\n",
              "      --hover-fill-color: #FFFFFF;\n",
              "      --disabled-bg-color: #3B4455;\n",
              "      --disabled-fill-color: #666;\n",
              "  }\n",
              "\n",
              "  .colab-df-quickchart {\n",
              "    background-color: var(--bg-color);\n",
              "    border: none;\n",
              "    border-radius: 50%;\n",
              "    cursor: pointer;\n",
              "    display: none;\n",
              "    fill: var(--fill-color);\n",
              "    height: 32px;\n",
              "    padding: 0;\n",
              "    width: 32px;\n",
              "  }\n",
              "\n",
              "  .colab-df-quickchart:hover {\n",
              "    background-color: var(--hover-bg-color);\n",
              "    box-shadow: 0 1px 2px rgba(60, 64, 67, 0.3), 0 1px 3px 1px rgba(60, 64, 67, 0.15);\n",
              "    fill: var(--button-hover-fill-color);\n",
              "  }\n",
              "\n",
              "  .colab-df-quickchart-complete:disabled,\n",
              "  .colab-df-quickchart-complete:disabled:hover {\n",
              "    background-color: var(--disabled-bg-color);\n",
              "    fill: var(--disabled-fill-color);\n",
              "    box-shadow: none;\n",
              "  }\n",
              "\n",
              "  .colab-df-spinner {\n",
              "    border: 2px solid var(--fill-color);\n",
              "    border-color: transparent;\n",
              "    border-bottom-color: var(--fill-color);\n",
              "    animation:\n",
              "      spin 1s steps(1) infinite;\n",
              "  }\n",
              "\n",
              "  @keyframes spin {\n",
              "    0% {\n",
              "      border-color: transparent;\n",
              "      border-bottom-color: var(--fill-color);\n",
              "      border-left-color: var(--fill-color);\n",
              "    }\n",
              "    20% {\n",
              "      border-color: transparent;\n",
              "      border-left-color: var(--fill-color);\n",
              "      border-top-color: var(--fill-color);\n",
              "    }\n",
              "    30% {\n",
              "      border-color: transparent;\n",
              "      border-left-color: var(--fill-color);\n",
              "      border-top-color: var(--fill-color);\n",
              "      border-right-color: var(--fill-color);\n",
              "    }\n",
              "    40% {\n",
              "      border-color: transparent;\n",
              "      border-right-color: var(--fill-color);\n",
              "      border-top-color: var(--fill-color);\n",
              "    }\n",
              "    60% {\n",
              "      border-color: transparent;\n",
              "      border-right-color: var(--fill-color);\n",
              "    }\n",
              "    80% {\n",
              "      border-color: transparent;\n",
              "      border-right-color: var(--fill-color);\n",
              "      border-bottom-color: var(--fill-color);\n",
              "    }\n",
              "    90% {\n",
              "      border-color: transparent;\n",
              "      border-bottom-color: var(--fill-color);\n",
              "    }\n",
              "  }\n",
              "</style>\n",
              "\n",
              "  <script>\n",
              "    async function quickchart(key) {\n",
              "      const quickchartButtonEl =\n",
              "        document.querySelector('#' + key + ' button');\n",
              "      quickchartButtonEl.disabled = true;  // To prevent multiple clicks.\n",
              "      quickchartButtonEl.classList.add('colab-df-spinner');\n",
              "      try {\n",
              "        const charts = await google.colab.kernel.invokeFunction(\n",
              "            'suggestCharts', [key], {});\n",
              "      } catch (error) {\n",
              "        console.error('Error during call to suggestCharts:', error);\n",
              "      }\n",
              "      quickchartButtonEl.classList.remove('colab-df-spinner');\n",
              "      quickchartButtonEl.classList.add('colab-df-quickchart-complete');\n",
              "    }\n",
              "    (() => {\n",
              "      let quickchartButtonEl =\n",
              "        document.querySelector('#df-747f640f-f275-471e-b173-9fbe85ff7c99 button');\n",
              "      quickchartButtonEl.style.display =\n",
              "        google.colab.kernel.accessAllowed ? 'block' : 'none';\n",
              "    })();\n",
              "  </script>\n",
              "</div>\n",
              "\n",
              "  <div id=\"id_8e8ca6b3-4ffb-4222-b818-460b85cf9aba\">\n",
              "    <style>\n",
              "      .colab-df-generate {\n",
              "        background-color: #E8F0FE;\n",
              "        border: none;\n",
              "        border-radius: 50%;\n",
              "        cursor: pointer;\n",
              "        display: none;\n",
              "        fill: #1967D2;\n",
              "        height: 32px;\n",
              "        padding: 0 0 0 0;\n",
              "        width: 32px;\n",
              "      }\n",
              "\n",
              "      .colab-df-generate:hover {\n",
              "        background-color: #E2EBFA;\n",
              "        box-shadow: 0px 1px 2px rgba(60, 64, 67, 0.3), 0px 1px 3px 1px rgba(60, 64, 67, 0.15);\n",
              "        fill: #174EA6;\n",
              "      }\n",
              "\n",
              "      [theme=dark] .colab-df-generate {\n",
              "        background-color: #3B4455;\n",
              "        fill: #D2E3FC;\n",
              "      }\n",
              "\n",
              "      [theme=dark] .colab-df-generate:hover {\n",
              "        background-color: #434B5C;\n",
              "        box-shadow: 0px 1px 3px 1px rgba(0, 0, 0, 0.15);\n",
              "        filter: drop-shadow(0px 1px 2px rgba(0, 0, 0, 0.3));\n",
              "        fill: #FFFFFF;\n",
              "      }\n",
              "    </style>\n",
              "    <button class=\"colab-df-generate\" onclick=\"generateWithVariable('merged_df')\"\n",
              "            title=\"Generate code using this dataframe.\"\n",
              "            style=\"display:none;\">\n",
              "\n",
              "  <svg xmlns=\"http://www.w3.org/2000/svg\" height=\"24px\"viewBox=\"0 0 24 24\"\n",
              "       width=\"24px\">\n",
              "    <path d=\"M7,19H8.4L18.45,9,17,7.55,7,17.6ZM5,21V16.75L18.45,3.32a2,2,0,0,1,2.83,0l1.4,1.43a1.91,1.91,0,0,1,.58,1.4,1.91,1.91,0,0,1-.58,1.4L9.25,21ZM18.45,9,17,7.55Zm-12,3A5.31,5.31,0,0,0,4.9,8.1,5.31,5.31,0,0,0,1,6.5,5.31,5.31,0,0,0,4.9,4.9,5.31,5.31,0,0,0,6.5,1,5.31,5.31,0,0,0,8.1,4.9,5.31,5.31,0,0,0,12,6.5,5.46,5.46,0,0,0,6.5,12Z\"/>\n",
              "  </svg>\n",
              "    </button>\n",
              "    <script>\n",
              "      (() => {\n",
              "      const buttonEl =\n",
              "        document.querySelector('#id_8e8ca6b3-4ffb-4222-b818-460b85cf9aba button.colab-df-generate');\n",
              "      buttonEl.style.display =\n",
              "        google.colab.kernel.accessAllowed ? 'block' : 'none';\n",
              "\n",
              "      buttonEl.onclick = () => {\n",
              "        google.colab.notebook.generateWithVariable('merged_df');\n",
              "      }\n",
              "      })();\n",
              "    </script>\n",
              "  </div>\n",
              "\n",
              "    </div>\n",
              "  </div>\n"
            ]
          },
          "metadata": {},
          "execution_count": 32
        }
      ]
    },
    {
      "cell_type": "markdown",
      "source": [
        "**Building the User-Item Matrix**\n",
        "\n",
        " The first step is to transform our data into a user-item matrix, also known as a \"utility\" matrix. In this matrix, rows represent users and columns represent movies. The beauty of collaborative filtering is that it doesn't require explicit information about the users or the movies to generate recommendations.\n",
        "\n",
        "![image.png](data:image/png;base64,iVBORw0KGgoAAAANSUhEUgAABXYAAAL+CAYAAAAJjEzPAAAgAElEQVR4AezdB3gUVdfA8VBDC0IITSBUQUrA0EF6SQwgEERpofcqAgmCCEkQQbp0gRCpYigBERQFgVBe0IiAIiBKKGIBkWIMRXnv9558mTyzk93NJoSw5T/PAzs7e+fOvb+ZncmevXvGzY0JAQQQQAABBBBAAAEEEEAAAQQQQAABBBBAAAEEEEAAAQQQQAABBBBAAAEEEEAAAQQQQAABBBBAAAEEEEAAAQQQQAABBBBAAAEEEEAAAQQQQAABBBBAAAEEEEAAAQQQQAABBBBAAAEEEEAAAQQQQAABBBBAAAEEEEAAAQQQQAABBBBAAAEEEEAAAQQQQAABBBBAAAEEEEAAAQQQQAABBBBAAAEEEEAAAQQQQAABBBBAAAEEEEAAAQQQQAABBBBAAAEEEEAAAQQQQAABBBBAAAEEEEAAAQQQQAABBBBAAAEEEEAAAQQQQAABBBBAAAEEEEAAAQQQQAABBBBAAAEEEEAAAQQQQAABBBBAAAEEEEAAAQQQQAABBBBAAAEEEEAAAQQQQAABBBBAAAEEEEAAAQQQQAABBBBAAAEEEEAAAQQQQAABBBBAAAEEEEAAAQQQQAABBBBAAAEEEEAAAQQQQAABBBBAAAEEEEAAAQQQQAABBBBAAAEEEEAAAQQQQAABBBBAAAEEEEAAAQQQQAABBBBAAAEEEEAAAQQQQAABBBBAAAEEEEAAAQQQQAABBBBAAAEEEEAAAQQQQAABBBBAAAEEEEAAAQQQQAABBBBAAAEEEEAAAQQQQAABBBBAAAEEEEAAAQQQQAABBBBAAAEEEEAAAQQQQAABBBBAAAEEEEAAAQQQQAABBBBAAAEEEEAAAQQQQAABBBBAAAEEEEAAAQQQQAABBBBAAAEEEEAAAQQQQAABBBBAAAEEEEAAAQQQQAABBBBAAAEEEEAAAQQQQAABBBBAAAEEEEAAAQQQQAABBBBAAAEEEEAAAQQQQAABBBBAAAEEEEAAAQQQQAABBBBAAAEEEEAAAQQQQAABBBBAAAEEEEAAAQQQQAABBBBAAAEEEEAAAQQQQAABBBBAAAEEEEAAAQQQQAABBBBAAAEEEEAAAQQQQAABBBBAAAEEEEAAAQQQQAABBBBAAAEEEEAAAQQQQAABBBBAAAEEEEAAAQQQQAABBBBAAAEEEEAAAQQQQAABBBBAAAEEEEAAAQQQQAABBBBAAAEEEEAAAQQQQAABBBBAAAEEEEAAAQQQQAABBBBAAAEEEEAAAQQQQAABBBBAAAEEEEAAAQQQQAABBBBAAAEEEEAAAQQQQAABBBBAAAEEEEAAAQQQQAABBBBAAAEEEEAAAQQQQAABBBBAAAEEEEAAAQQQQAABBBBAAAEEEEAAAQQQQAABBBBAAAEEEEAAAQQQQAABBBBAAAEEEEAAAQQQQAABBBBAAAEEEEAAAQQQQAABBBBAAAEEEEAAAQQQQAABBBBAAAEEEEAAAQQQQAABBBBAAAEEEEAAAQQQQAABBBBAAAEEEEAAAQQQQAABBBBAAAEEEEAAAQQQQAABBBBAAAEEEEAAAQQQQAABBBBAAAEEEEAAAQQQQAABBBBAAAEEEEAAAQQQQAABBBBAAIFHFFBKZVVK5VBK5VZKeSilPOPj44tevXq11A8//FDu5MmTlQ4fPlxt586dz0VFRdVasWJF/cWLFzeaNWtWs6lTp7YIDQ1tFRwc7Ddq1KgXhg4dGtCrV6+AHj16BHTr1u0F+ffSSy/5BwYGtu7YsWPL9u3bN3/xxRebtm3btnFgYGCDTp061enSpUvNbt26Ve/WrVvVfv36VRo0aFD5/v37l37ttddKBAcHFwsNDfWaPn16wYiICI81a9bkjYyMzBUVFZVz37592ZPanuURCVgdAQQQQAABBBBAAAEEEEAAAQQQQAABBBB48gJJAU93pVSBhIQECdA+d+TIEf8tW7YMWLZs2Yxp06ZtHzNmzMU+ffqo9u3bq+eff15VrlxZFS1aVOXIkUO5ubk54r97WbJkuejh4XG0ZMmSO6pVqxbRrFmzWZ07dw4ZPHhw/zfeeCNw3rx5LdavX19r586dFY8cOVLi1q1bBZVSeZRSEiQmQPzkD11agAACCCCAAAIIIIAAAggggAACCCCAgHMKSAAyaYRtgUuXLpU7ePBgow0bNvSeOXPmrJEjR8a89NJLCRKorVChgsqXL58jBmgztc1ZsmRRRYoUUTVq1FABAQE3+/btu3/ChAkL33333eHbtm3z//rrryvfuXOnkFJKAuUEf53zbUWvEEAAAQQQQAABBBBAAAEEEEAAAQQQeHQBGXF77dq1fBcuXCj9xRdfNF2xYsXQCRMmLOvSpcupBg0aqJIlS6ps2bI9tgCou7u78vLyUmXLllXVq1dXDRs2VP7+/qpz586qb9++avjw4WrMmDFq4sSJKiwsTL3zzjtq/vz5atmyZSoyMlKtW7dObdiwQW3cuFFt2rRJbdmyRUVHR6vt27erHTt2qI8//lht27YtcXlUVJT64IMP1Nq1a9X777+vIiIiEuuR+qZPn66mTJmiQkJC1MiRI9WAAQNUUFCQeumll5Sfn5+qV69e4kjjEiVKKA8PDyVB2sc12ljqr1q1qgR/vxs8ePDSGTNmDPzwww+fj42N9VZK5ZV99uh7nhoQQAABBBBAAAEEEEAAAQQQQAABBBBAwK4Fkkbe5r58+fLTu3fvrrdgwYI+w4cPXxYQEHCxYsWKKmfOnBkSpMyVK5cqXbp0YhC0Q4cOatCgQQ8mTJhwedasWbERERG7tm3bti4mJmbh6dOn3/7tt98m3rt371Wl1EClVJBSqrNSqr1S6gWlVAulVBOl1PNKqXpKqdpKKV+lVHWlVDWlVBWlVOWkf5WUUhWVUs/o/slz+Sevyb9nk8rKuj5KqeeUUjWT6pX6ZTtNlVKtkrYv7eiklOqulOqvlBqulBqnlHpTKTVDKbXw4cOHq2/fvr398uXL+0+cOPHd3r17f9+4cePDJUuWqPDwcDVq1CjVo0ePxCC1r6+vKlasmMqaNWuGOBcuXFg1aNDgYs+ePZeHhYX1X7duXZ2jR48WVUrlZKSvXb8VaRwCCCCAAAIIIIAAAggggAACCCCAAAIpBSSoFxcXl+vcuXMloqKimoaHh4d07959f82aNVXevHnTHVSU0akSmKxbt278Sy+9tGv06NGhc+fO7S7biImJqXL+/PmSuhyycnM0uUmaS6YSSAqiS/8ll66kVJARtpJft5hSquxvv/3m8/XXXzfetWtXRxkdPXXq1LcHDx68KSAg4GyVKlUeKaWF7Cdvb+97fn5+O0ePHj1m+fLlTSW/7/nz591THi0sQQABBBBAAAEEEEAAAQQQQAABBBBAAIFMF5DA4a+//lr4k08+qTNjxozBPXv23PLcc8/dS+/oW7mZmaRBCAoKOhsaGrpszZo1A/fv3984Li6ujFIqv2wv0zvpYhtMCgpnv3HjRv6TJ0+W3bp1a4sFCxaMfu2117Z06NDhjqRnkFHR6UkBUaxYsQR/f/+NISEh/deuXVvz9OnTnkqpbC5GTHcRQAABBBBAAAEEEEAAAQQQQAABBBDIPAEJqn777bdFN2zY0PR/+WantGjR4gdPT880B/gkl22jRo0kf+yN2bNnr9u6deuQb7/9tmFCQkIJpVRuVx1lm3l78tG2lDQKuODFixcr792798UVK1ZMef311/d36tTpoYz2zZEjR5qOCclv7Ovre6JPnz4T58+f32Tfvn0yqjjHo7WStRFAAAEEEEAAAQQQQAABBBBAAAEEEHBBAQneXbhwoeiaNWuajh49ekqTJk1+kJtppWWUpuS5bdu2rRo3btyPK1eunHX48OEOf/zxh+SklZQAjLx1suMqaaSvpH14+vvvv2+ydevWcVOnTo2RHL+S3zdPnjw2Hz9yo7xq1apd6NOnT+iiRYuaHD9+vDAje53sgKE7CCCAAAIIIIAAAggggAACCCCAAAKPJiABud9++y3vzp07fUJDQ0f4+/sfL1CggM1BuKeeeipxBO6QIUPuLFmyZO2hQ4d637x5s0ZSAJef2T/a7nH4tZMCvvmUUhXOnj3bYfPmzXPefPPNC+3bt0+8yZ2tXxbISOCaNWvGDh8+fPTq1at9z54968Hoboc/POgAAggggAACCCCAAAIIIIAAAggggICtAnJTsZMnTxZZsmRJqz59+syvVKnSHbnhlS0BNsmB26ZNG/Xmm2/+GB0dHX7x4sUWSqniSqmctm6fcgiIgIzAVUp53rp1q1ZMTMzod99992jfvn1lpK6SEbs2Ho8JgYGBy2fPnh0QGxsrxyFfJHB4IYAAAggggAACCCCAAAIIIIAAAgg4h4CkPTh+/HjpOXPmBHXo0GGPrXlxJYjbrl07FRoa+sP27dunXLlypZlSSvKfkkbBOQ4Nu+tFUrC3UEJCQsNDhw5NnDdv3veSyqFSpUrKli8f5KZ9DRs23P/GG2/03LNnTzly9drdLqZBCCCAAAIIIIAAAggggAACCCCAAAKWBCQ4duDAgVLh4eHdW7Vq9UXevHlTHf0oAbG6deuqUaNG3fnggw8WXrhwwY8griVhlmemgHyRIMfizZs3m+/Zs2daeHj45YCAAGVLupDs2bOr+vXrn5gwYcLQTz75pBIjyzNzz7EtBBBAAAEEEEAAAQQQQAABBBBAAAGrAhLIPXHiRIkZM2a84ufn95ktN6mS0bidO3dWc+bMOfSf//xnyP3796sqpfKQs9QqNS/aiYBSKpdSqtKZM2cGLl++PDGFgy2jeiXFQ7169WInTZrUd9++fWUYfW4nO5RmIIAAAggggAACCCCAAAIIIIAAAq4gIMHXb775poDkyH3ppZeiChYsmOqI3DJlyqhevXo9XLFixbpz5861UUoVJR+pKxwtrtHHpFG9pf74449OW7Zs2TRq1KiHNWrUSDV9g4xmb9u27Z558+Z1krzTfLHhGscLvUQAAQQQQAABBBBAAAEEEEAAAQQyTUByhW7durXy4MGDJ5QuXfp6ajeWeuaZZ9TgwYPvrV+/fuWlS5daK6W85KZpmdZgNoTAExSQY12O+T/++KPF9u3bF7722mv3fH19VdasWa1+CVK8ePF7vXr1mr9+/fq6MoL9CXaBTSOAAAIIIIAAAggggAACCCCAAAIIOKKAjByUEYSzZs0KbN68+f4cOXJYDUg9/fTTKigo6EFkZOTSpJucFWT0oSPuedr8OATkvSCB3tu3bwds3bp109ChQ1WFChWsvqckbUOjRo1+ePvtt/tLqhO+GHkce4Y6EUAAAQQQQAABBBBAAAEEEEAAAScQkNQIO3bseGbgwIGTSpQoEW9tVG7+/PlVx44d1cKFCz87c+ZMp6TUCozIdYLjgC48fgF5rymlSl26dClo+fLlX7788suqUKFCVgO9JUuWfDBw4MD50dHRteLi4nI9/layBQQQQAABBBBAAAEEEEAAAQQQQAABuxWQANGqVavqdejQIdLaTc+yZMminnvuOTVhwoQfDxw4MFwpVZ4bP9ntbqVhDiaglMp5//79Z2NjY8dMnTr1coMGDaymbcidO7dq3779oeXLl7f7888/n3Kw7tJcBBBAAAEEEEAAAQQQQAABBBBAAIH0CMiNz95+++329evXPyQBW0sjcz09PVXXrl3V6tWrI37//fcG5PxMjzbrIJB2AaWUxx9//NFy3bp1W7p3767kvWjpfSp5exs3bnxhzpw5fU6fPl2MFChp92YNBBBAAAEEEEAAAQQQQAABBBBAwC4FJNBz7tw5r4kTJ/apXLnyZUsBIlleuXJlNX78+F8PHz48UilVRn4ybpedolEIuIiAjIy/f/9+5cOHD09544037vj4+FgM8sp7uFq1ajdDQ0PHnT592psgr4scJHQTAQQQQAABBBBAAAEEEEAAAQScR0ACOjExMYXHjRvXt2zZslctBXOzZ8+umjVrpubNm7frxx9/fEEpVYBgkPMcB/TEuQTkvamUKhIXF9d17ty5J5o0aaLkJmuW3t+VK1eOnzJlysRvvvlGvqQhB7ZzHQ70BgEEEEAAAQQQQAABBBBAAAEEnEVAgj6HDx8u8uqrr/YvWbKkxWBuvnz51CuvvKLWr18fefv27TqS39NZDOgHAq4koJTKLWlSVq1atbF9+/ZKcu9aCfImTJ48eUpSkDeLKznRVwQQQAABBBBAAAEEEEAAAQQQQMAuBY4fP1749ddfH1C6dOlfLQV1ChQooHr27PkgOjp6zv3796ty4zO73JU0CoF0Cyilcvz999+1tmzZEtmlSxclX+BYOh9UrVr1zttvvz364sWLxRmhn25yVkQAAQQQQAABBBBAAAEEEEAAAQTSLnD69Ol8YWFhgZUqVfrBUvDGy8tLDRgwIP7TTz+deO/evfL8FDvtzqyBgCMKyBc38fHxNbZs2bJMboBoKcgrN098/vnnf1+yZMmAn3/+uZAj9pU2I4AAAggggAACCCCAAAIIIIAAAnYvcPr06ZyzZ89uVLNmzS8sBXM9PT3VoEGD7u3duzc06eZn5NW0+z1LAxF4fAJyA8S//vqr2pYtWxZ07dr1Yd68ec2O5M2RI4dq27btd+vXr28jKR4eX4uoGQEEEEAAAQQQQAABBBBAAAEEEHABARllu2HDhqr+/v4Rlm6S5OHhoYKCgh7u2rVrllLqGUbmusCBQRcRSIeABHnv3Lnz7AcffLCwbdu2SoK55r4kkhG+/fr1iz548GAt0rakA5pVEEAAAQQQQAABBBBAAAEEEEDANQUk52VMTEzxfv36venh4XHPXOAlV65c6qWXXlKbNm1aJqPxJGDjmlr0GgEE0iMgAds//vij3uLFi3c+//zzStIymDvXlC9f/mF4ePjUK1eulCAfb3qkWQcBBBBAAAEEEEAAAQQQQAABBJxeIC4uLtekSZPaeHt7m82bK4GX5s2bq8jIyM9u375dn5F0Tn9I0EEEMkVAKZXnp59+avfWW299V6VKFbMBXjn/tGzZ8uLatWs7/vLLL3kypWFsBAEEEEAAAQQQQAABBBBAAAEEELBXARkBt3HjxootW7aMsDRi7tlnn1XTpk27cOnSpc5KqXz22hfahQACji+glPI8duzYgGHDhl0vWLCg2SBv/vz51dChQ6O++uor+bUAebwdf7fTAwQQQAABBBBAAAEEEEAAAQQQsFXg/Pnz+UeMGNG3YMGCN8z9/NnLy0uNGDHi3rFjx0KUUsX4CbStspRDAIGMEJBzzt27d70//PDD0ICAgAeWcnzXrl375ooVK/pev37dIyO2Sx0IIIAAAggggAACCCCAAAIIIICA3QnIyLYlS5bUqlmz5h5zwVwJnMgNjaKjozfev3+/KiPh7G4X0iAEXFJAcnj//PPP9adPn35IfkFg7vwlN1wbOHDgdkbxuuQhQqcRQAABBBBAAAEEEEAAAQQQcE6Bs2fPegwaNGhw3rx5480FRMqXL6/eeuutX3/++edXJNelcyrQKwQQcAYBpVTBmJiYET179kyQmziaO6f5+vreXLlyZW/OZ86wx+kDAggggAACCCCAAAIIIIAAAi4mID9jjoiIqNSgQYNN5gIfuXPnVj169FB79+5dqpQqS6oFFztA6C4CDi4gvyj4888/q7/77rs7qlatajbAW6BAATVmzJiIM2fOlOEc5+A7nOYjgAACCCCAAAIIIIAAAggg4OwCcXFxucaOHdupYMGCv5oL6FarVk0tXrz4h9u3bwcopdyd3YP+IYCA8wsopTwOHz7cs3fv3tflSyvjuU9uDBkQEPDDxx9/3Eopld35ReghAggggAACCCCAAAIIIIAAAgg4hICMRNu1a1dJPz+/BRLAMAY13N3dE0fnHjp0aIFSqiQj1xxit9JIBBBIo4Cc227fvv3M/PnzoypWrJjiXCjnxrJlyz585513xv75559PpbF6iiOAAAIIIIAAAggggAACCCCAAAIZIyA/RZ47d27d8uXLHzcGc+W55M6dOXPm9WvXrr2slMqVMVulFgQQQMD+BZRS+Xfv3j2yffv297JmzZoiyJsnTx41ZMiQDWfPniUVjf3vTlqIAAIIIIAAAggggAACCCCAgHMInD9/3n3EiBFd8uXLd9MY0M2WLZvq2LGj2r179w6lVBVG5zrHPqcXCCCQPgGlVLYLFy40GT9+/HdeXl4pArzyK4c2bdp8v2fPnsZSNn1bYS0EEEAAAQQQQAABBBBAAAEEEEDAisCePXsK+fn5TTWXbsHT01OFhITci4uLG62UKmClGl5CAAEEXE5AvuS6e/eu9+rVq5fXrFkzRYBXviSrVq1afERERA/58szlgOgwAggggAACCCCAAAIIIIAAAghkrIAEIyIiIipVqVJlp3F0rjz38fFRy5cv//Hu3bstGG2WsfbUhgACzimglMoTExPTp2PHjnfMpWkoXLiwmjJlykTy8Drn/qdXCCCAAAIIIIAAAggggAACCDxWAQnSTp06tUXRokUvGAO6km4hMDBQ7d27V9ItPEO6hce6K6gcAQScVEDylP/00091Ro0adcLDwyPFKF7JwztixIjVV65cKeGkBHQLAQQQQAABBBBAAAEEEEAAAQQySkAplWPIkCGv5M6d+44xoJs/f341ZswYdfHixXCllGdGbZN6EEAAAVcWkC/Hbt26VW7OnDnby5QpkyLAK1+mdevW7YsTJ05U5Is0Vz5S6DsCCCCAAAIIIIAAAggggAACZgRiY2PzdOzYcWTWrFkfGgO6pUqVUrNnz75569atLkopcj+a8WMRAgggkBECSimvjRs3zqlVq1aKAK+cm1u3bn3qfzenrEWANyO0qQMBBBBAAAEEEEAAAQQQQAABBxY4ePBgwRYtWswwBnPludzgZ926dd8/ePCgnvxk2IG7SdMRQAABhxKQPLx79uwZ7ufn98Dc+blWrVqXo6Ojm3FudqjdSmMRQAABBBBAAAEEEEAAAQQQeHSBqKioEjVr1lxnDBhkyZJFtWvXTu3bt2+PUqoSo8Ie3ZoaEEAAgfQKKKWyHz9+vH23bt2uS0oG4zm7atWqN9avX9+Gm1emV5j1EEAAAQQQQAABBBBAAAEEEHAAAQnSLlu27JmKFSt+YQwO5MiRQ/Xu3VudOXMmUilV3AG6QxMRQAABlxGQkbkXLlyoO2LEiFNyUzXjOfyZZ565s3Llyo4SCHYZFDqKAAIIIIAAAggggAACCCCAgLMLSEB39uzZzz799NNHjMEACRCMGjVKXbp0KVQpVcDZLegfAggg4MgCcj6/ceNGlddff/1LuaGl8Zzu7e2dsHjxYsmHToDXkXc0bUcAAQQQQAABBBBAAAEEEHBtAQkAzJ07t2qRIkVijR/+CxYsqN58880H169fH6iUyuXaUvQeAQQQcCwBOb9fu3btmbCwsP2enp4pArzFixe/t2DBgh4EeB1rv9JaBBBAAAEEEEAAAQQQQAABFxeQD/wzZsyoUahQoVPGgO7TTz+tZs+enfDXX391VUrlcHEquo8AAgg4vMDdu3fLvPPOO7uKFCmSIsBbokSJhEWLFr1CgNfhdzMdQAABBBBAAAEEEEAAAQQQcGYBCeiGh4fX8vT0/N4Y0PX29laLFy++ef/+/Q58wHfmo4C+IYCAqwokJCSUXLBgwZaSJUumCPCWKlUqftmyZZ24yZqrHh30GwEEEEAAAQQQQAABBBBAwC4FJKAbGhpat0CBAj8aA7ply5ZVy5cv//2ff/7x4wO9Xe4+GoUAAghkqEB8fHyxRYsWrZNfaBivCd7e3neWL1/enutBhpJTGQIIIIAAAggggAACCCCAAAJpE5CA7rRp057z9PQ8a/zwXqFCBbVq1arL//zzTxO5m3raaqY0AggggICjCyilvObPn7+yWLFiKQK8pUuXvr569ermXB8cfS/TfgQQQAABBBBAAAEEEEAAAYcSkIDu7NmzqxQuXPiEMaBbqVIltWbNmh8fPHhQV8o5VMdoLAIIIIBAhgv89ddfRebMmRNVtGjRFAHeKlWqXNyyZUsdrhcZzk6FCCCAAAIIIIAAAggggAACCJgKLF68uEKxYsWOGAO6MkJ37dq1F5RS9fiAbmrGMwQQQAABNzfJwTtr1qxdhQsXThHgrVOnzqk9e/ZU4frBkYIAAggggAACCCCAAAIIIIBABgusXLmytLe39xfGgG6ZMmVURETEhQcPHhDQzWBzqkMAAQScUeDWrVvlwsPDD+XPnz9FgLdly5YxX375ZSln7Dd9QgABBBBAAAEEEEAAAQQQQCBTBTZs2FC0YsWK0caAbokSJdSSJUskh25DRlhl6i5hYwgggIDDC8h1448//qg8bty4E7lz504R4A0MDFx36tSpgg7fUTqAAAIIIIAAAggggAACCCCAQGYLfP7550/Vrl17mTGgKzkS582b9/vdu3ebcdObzN4rbA8BBBBwLgEJ8F69etV30KBBP2TPnt0kwJstWzY1ZMiQaVeuXMntXL2mNwgggIDTCmSJjIyss3LlyvkrV67cvmLFirUrVqwIX7FiRefVq1cXctpe0zEEEEAAAQQQQMBeBI4cOZK7VatWocaAboECBdSMGTNuxMfH+xHQtZe9RTsQQAAB5xCQAO+PP/7YsFu3blezZMliEuDNmzfvw7CwsIFKqezO0Vt6gQACCDinQGhoaDvjZwj982HDhuVzzp7TKwQQQAABBBBA4AkLxMbG5njllVeGGD9Qy09kQ0JCEm7evBmolMr2hJvJ5hFAAAEEnFhAvjj85ptvOvj5+SXogwEyX6xYsTvLli1rSfofJz4A6BoCCDi0QFhYWIobLOvP5ePGjavm0B2k8QgggAACCCCAgL0JREVFZRs2bFjn7Nmz39P/4SU/iR04cOCDn3/+uTejpOxtr9EeBBBAwLkFlFI5Pv3009E1atQwGb0r16nKlSt/v2PHjmedW4DeIYAAAo4nEBYW9nduLzYAACAASURBVLv+84RxfuzYsXUcr1e0GAEEEEAAAQQQsEMBGfH01ltvNfLw8Liu/6NLRux27txZnT179lWlVE47bDpNQgABBBBwEQGlVL7IyMilpUqVShHgbdq06fZz5855uQgF3UQAAQTsXiAsLOyo/nOFcZ7Art3vQhqIAAIIIIAAAo4gEBkZ+WzJkiW/M/6x1bJlS/XVV19NU0rlcYR+0EYEEEAAAdcQ+Pvvv4vPmDHjs6eeesokwJs1a1bVv3//t+Pi4nK5hgS9RAABBOxXIDQ0dJbx84X++fjx433st/W0DAEEEEAAAQQQsHOBPXv2FPX19d2l/wNL5qtWrao+/vjj5UqpAnbeBZqHAAIIIODCAjdu3KgyatSoszly5DAJ8Hp4eDyYPn265ILP6sI8dB0BBBB4ogJTp04ta/ycoX8eEhLi8UQbyMYRQAABBBBAAAFHFDh58mTegICABfo/rGS+WLFiavny5Tvj4+OLOWK/aDMCCCCAgOsJSCqhs2fPtmjXrt1N43WtbNmyFzZv3lzV9VToMQIIIGAfAvILiiNHjlQ4ePBgrSNHjtQ9dOhQ7UOHDlXdt29fPvtoIa1AAAEEEEAAAQQcREBuejZy5MihciM0/YffPHnyqMmTJx+/ffv2Mw7SFZqJAAIIIICAiYBc43bv3t2/WrVqJtc4ud41adJk+5EjRzxNVuAJAggggAACCCCAAAIIIIAAAvYuIKOZFi1a1NLT0/OOPqAruQj79et3+ZdffqktZey9H7QPAQQQQACB1ASUUnmXLl26zMvLyyTAK9e8oUOHjo+Njc2RWh28jgACCCCAAAIIIIAAAggggMATF9izZ0/FKlWqfK8P6Mp8y5Yt40+cONGO/INPfBfRAAQQQACBxyBw48aNUmPGjPnSmH9XvuRcsmRJY77QfAzoVIkAAhkiIOcnzlFpo0wyI6962tgojQACCCCAAAL2KnDq1KmC7du332QM6JYvX15t3759qPxk1V7bTrsQQAABBBDICAH5oH/u3LlGbdu2vWG8Hvr6+sYcPXq0aEZshzoQQCDjBE6fPp0zJiZmyIEDB7YfOHDgakxMzIMDBw7ciYmJ+fSrr74qZ9ySvM+nT59epmnTpn3LlCkTlSNHju9z5sx5tnTp0jubNWs24p133qkUGhqaasDv888/f6pLly5+NWvWnFWgQIGYbNmy/Vq6dOnrzZs3P9GvX78Fs2fPbrJv374M//s5Ojq6wJgxY5rXr19/RpkyZWLz5cv3UM5XefPmVWXLlv29fv36UaNHj+750UcfedvSD73PsWPH/A8cOLAwJiYm+sCBAxsPHDiweP/+/RMOHDjQe//+/QFXrlxJU4oapVSOffv2tTpw4ED3AwcOjN2/f/+CpHp37t+/f+2RI0e667eftC+HHjhwICKpDatjYmLePnDgwOD9+/e/eP78+fz68mmZj42N9ZowYULnRo0aRZUvX/6OeIlboUKFlI+Pz5cBAQHj582bVzkqKipbWuq1VlYple3kyZMlx48f3zAwMPDl+vXrDy1Tpsz4PHnyTHJzcwvx9PR81cfHp2+rVq069OrVq8GqVavKya9IrNXJawgggAACCCCAgImA/ME1bty48cYRSh4eHuqdd95ZyB8XJlw8QQABBBBwAQH5MnPHjh2vypeb+gBvlixZVFBQULhSKqcLMNBFBBxCwN/fv7H+faqfL1eu3AV9J4YPH14zR44cl/VlLMzfHD58eD39utr8l19+WaxmzZr7Laxncs4oVKjQzblz5/po66b3UX4xFxIS0jxv3rwpflVnrR158uS5+dprr70iAUZbtt2tW7cN1upr3LixvG7z9Nlnnz1vrb4OHTos1VcWHh5ex1r54OBgqc/mSYL4S5YsqVWyZMlT1urVv5Y1a9aEli1bDn6UNDyy3RkzZrxYvXr1eH3dtszLZ7ABAwb8ePjw4QZSj82dpSACCCCAAAIIuJaA/KGwevXqVsWLFzf5g0NyCvbv3/+L69evF3ctEXqLAAIIIICAqYBSqsC0adOi5aah+g/kHh4eCXPmzGnJh25TL54h8CQE/Pz8eujfn/r5pC9n3CSwWa1aNQkimryXU3vu6+u7TPvVmrzfV65cOcDd3T1Ndcg2vL29X0mvzcKFC2vnz5//99Taau31vHnzXp8+fXqF1Nqwffv2JtbqyZYtm5JBIanVo70+cuTIddbqW79+fV2trDyGhoZ2tlZ+3LhxzfTlrc3LiOoqVarYFIA3t81s2bIlvP76677WtmHuNTnWSpYsGW2uzrQuCw0Nncl1xpwyyxBAAAEEEHBxgW+++aZM48aNTxj/uGjcuPHV2NjYmvwB4eIHCN1HAAEEEDARuHLlis/LL7+cYpRf9erVDx0+fLiISWGeIIBApgr4+fmNM/5Nqz2XwO6NGzfyly5d+jttWVof+/fvf/N/0cwpCxYsOJvWdfXlmzRpYpJ2IDUkCRD269dvsb6OR53v0qVLV2vb/eWXX/IUKFDAauD6/fffr2WtDu01CYiXLl3aYl25c+eWIHEurbw8hoWFjbTWx5CQkNb68pbmIyMjfXLmzPnAWl22vta4cWN/S9sxLpd99vTTTx+ytW5byk2YMGGicTs8RwABBBBAAAEXFVBK5R41atRi+bZd/4dEiRIlHm7cuLEHN0Zz0QODbiOAAAIIpCog18i9e/f2rFKlisk1VNIz9O/ff4I2qi/ViiiAAAIZKvDCCy/M0v9dq58vXry4ql279j39srTOy3v8zTffVMa/n9Naj5RfsGBBfVs6LwHCNm3afJGebaS2TuPGjYOstaFPnz5WA5OBgYFrra2vvfb1119XttaWl156SbZjMoWGhk6ztk5wcHAbkxXMPJk7d25ta3Wk57WAgACbRu4WK1ZsTnrqT22dCRMmpCkFhRkWFiGAAAIIIICAIwvIh9FVq1Z1Lly4cOLNFbQ/HiSvbkhIyEqlVB5H7h9tRwABBBBAILMErl+/7jF79uyN2o13tGtqoUKFbkRGRtbhVy+ZtSfYDgL/L+Dv7x+pvQ/t/TF37twJqX0JJOeQN954w2qu20ft58iRI01SIOiPpU8++URGqJp8gaV/Luc+W9Ix/O/GbeH69YzzH374YYogbVhY2DJjOf3zkJCQjvq2GudjYmKKS1o5/ToZNH9v2LBh+Yzb0z8fNGiQpLGzum1/f381ffp09f7771+OjIyMnzZtmgoMDFQ2pPd4sG/fPpPRzfptM48AAggggAACTiwgaRfq16+f4kYLrVu3/v7bb78t78Rdp2sIIIAAAgg8NoGffvrJJzAw8Krxg3yjRo12HD16NN13bn9sDaZiBJxUwN/f3+Z8psWKFVMTJ05UGzZskOCaeuONNyT/rdVgnPE9Ls9lJHCXLl3UokWL1HvvvSej9tWzzz5rUz2LFi0ye1M2bffs3bvXT0YJm9uufpkEBD/++GMVFxen4uPj1cWLF9XOnTtV586dlQ3rJ0RFReXWtql/lBsne3l5Wd3+Rx99VFO/jnFegtO+vr4J+vbq5yU4LCkyjOuFh4dv0pczzgcHB79sXEd7LqOcvby85GZ5Ftsu/Ro9erRat26dOnv2rLRB/ec//1ErVqxQZcuWtbie1JktW7b91r648/DwmGtt21u3bt2jlPLS1yFtVkqVunHjxpwmTZpY3X6fPn1e1frKIwIIIIAAAgi4gIDcsXv06NFzjD8b8/b2vrd58+Y2+j8qXICDLiKAAAIIIJDhAvKhfMeOHQONAYHs2bPLL2JIcZTh4lSIQEoBf3//GGsBNe21MWPGnLh79663jDZNCqjlVEo9dfPmzdL/S7EyRSuX2mNAQMDDf//9N0Ap5S5/Tyf9y/Xvv//2lGBvaut37NhxbMpe/P8SGc37/PPPm9zY2Fx97777royatThJoDK1kas+Pj4LLbVj8ODBR8xtV1s2cODACEvryvLLly8/rZU19/jKK69IvuIUU1hY2B5z5bVlcl5NsVLSgmHDhlm8iZ6sX6tWLXXp0iWLZhIc79Wrl9X917Rp0wbmtp/0ucrkl5Fam+WxRo0ast3C5tbVlv3111+VS5QoYXH7xYsXv6OV5REBBBBAAAEEnFxgy5Yt9UuUKCEX/+Q/DuQnPpMmTQqVgK+Td5/uIYAAAgggkKkCEhyaMGHCzpw5cyZfd+UaXLZs2e8///xz70xtDBtDwMUE/P39j+v/5jU337Zt24fWUo+dP3/eV27mZW5d/bL69eurhIQEiyNu//33366+vr5W6/Hx8VlnaRft2bNHbg5mcX0Zibt06VKLwUn9CzIq1TjAw1h3dHR0AXNtkVHDxrL650WLFpVNZTe3rixbsGDBQH154/zWrVvN3sQtLCws1lhW/zwkJKSvuW1KW9zd3S3eLE0Cq3fv3tXzmJ2XMs8884xFfzc3t+vm7kmye/fuvPp2GucrV64s2ytjru36ZX379u1iXFf3XILtTAgggAACCCDgzAJxcXG52rRpkyInV+vWrbf//PPPhZy57/QNAQQQQACBJykgI7bOnDnToFmzZiZfrMqH8qCgoGm25KR8ku1n2wg4qoC/v/+PuuBXiqDcU089pa5fvy43WLM4KaWqNm7cOMW6xno3btx4IWl0ptm6ZCRweHi41Zu1FStWzGKArnv37l8at6l/Ljla0zKlNoK4bdu2I811RILgkm5Cv23j/LFjx2qYW1eWtWrV6qKxvPbcw8ND3blzx+znkrCwMBnJa3G7ISEhQ8xtc/Lkyc2trScpKmydpKy1ukaNGtXI2IZdu3ZJWgmr623ZskWOnYLGdY3Pd+zY8czOnTvn7ty58/LHH3987+OPP/5ux44dIZGRkeTYNWLxHAEEEEAAAWcSCA8P98mdO7fJT7eKFy9+YvPmzc84Uz/pCwIIIIAAAvYsIAHc1atXTytUqJDJh/xChQrdXLduXR17bjttQ8ARBfz9/X+1FlTr3r27xPQs3ixM+qyUqvjaa6+ZvGeNdcqI3r/++mtwakaHDh2SILLFunLnzi2B6BSTpHYoUqSIxfWkzqioKFvjk4nlPvvsM6v15c2b94alQPWoUaO+sNaP8ePHL0/RCTc3t5s3bxaQGzRbWrd79+6XLW0zLCwsRd5yfT3BwcFmA9G1atU6oS+nn5fcx2mZ/v33X1WwYEGL7S9evPh3xn6fPn1afhFpcR15TVJj9OnTR3Ihj5NfeRjr4DkCCCCAAAIIuLBApUqVTHJKZc2a9fuRI0f6WvqjyYWp6DoCCCCAAAKZInD16tVSPXr0OGX8sN+qVasNsbGxeTKlEWwEARcQ8Pf3v2F8n+mfz58/X+J6Ra1RKKXKzps3z2pgrmbNmlKPj7V65LUff/zR6uhRd3f36+bqOHnyZFl9u43z8mXR/fv30xKjVA8fPlSlS5e22q+DBw+aHUX6n//8p5mxDfrnSQHTFOkYPvjgg/b6csb56Ojo/ub6L8vCwsKs7svg4OBxxnWvXbuWz1o+4Z49e6bJTAp37drVqtmpU6dSmJUtW9ZicNloULVqVTVq1KjY6OjojteuXStmLr2DsZ88RwABBBBAAAEnFmjVqpV2o4HVdevWrUhA14l3Nl1DAAEEEHAYAfmwvnv37q7Gm6vlzp37wYwZM+Q31VkcpjM0FAE7FfDz80swBs70zyXXrLX8utItpVSpxYsXWw3mtW7dWurxSo3hl19+Ka3fvnHe3d1dfmGXYoqMjLQaSH3hhRfSHKC0JUi5cOHC2ika8/8muby9va2anDt3LsVI6C5duhw19ll7Lmkx4uPjLQbZw8LCrO7L4ODgSca27ty5U3IeW2xnqVKlVKNGjdL0L7Vg+Pbt2yUXssn06quvyi8yLLbD2mtyjejevXv0qlWr2sXFxZnNe2yyMZ4ggAACCCCAgHMJJH0wzOpcvaI3CCCAAAIIOIfAjRs38o8dO3aH8UZGtWvX3vPNN9/wId45djO9eEIC/v7+Fm+aJcG06OhoiW+mGFmqb65Sqvjy5cutBuUkX61SKrd+PXPzf/75p/zM3mJd7u7ukoM3xTRnzpwga+v17ds3XYHd1FJMTJ48uWeKxiQtCA4OjrbWplmzZu3Srys++fPnt9j3Xr16/W7tC63w8HCr+zI4OHiqfnsyHxkZOdpaGx/Ha9OmTZthbIf0y9/fPzIjtle9evXvZs6c2ZSRvEZlniOAAAIIIIAAAggggAACCCDwBATkQ//XX3/duGbNmiYj0iQX5eTJk3vwAf4J7BQ26RQC/v7+D60F05ICu1YHQCiliqxYscJiQFLq79FD3qbWA8QCKrlyrbXH3d1d2ptiev311+XGYBbbMHHixHQFdmfOnGmxTtne0KFDJ6ZoTNKCb775xuoo1Oeff17a5KGtv3v37ibW+rBr166hWllzj2FhYVb35bhx42Ya15s5c2aEtW0+jtdeffVVCXinmOQ83qJFi9CM2mbhwoWvz5w5s2aKDbEAAQQQcBWBBQsWKP5hwDHAMcAx4JrHgKtc6+gnAgg4loAEfWbOnLksV65cJsEWHx+f44cPHy7iWL2htQg8eQF/f3+T95IxqJYU2LWa9kQp5WljYNdqgFg0lFLZjG3QP7cU2B02bJjknrXYFwnQpmdKbSRyUFBQitGn2l6Vm0FWqFDBYpskt+3vv/+efEO5YcOGWRzhKzckU0oV0+o29xgWFmZxW2ITEhKy0LjexIkTt1tzexyvjRgxQm6QZ3HavXt3keeff35tRm27Xbt2U6yNdLbYEF5AAAEEHF2AYI5rBnPY7+x3jgGOATkGHP0aRvsRQMC5Bb7//vtqjRo1kpsoJQcyJFXD+PHjBzJ617n3Pb3LWAFbArupbVEp9ZSNgV2rAWLZTtL7N/l9rX+Py7y7u7vZv1EmTZrU0VhW/zw4ODg9cV01bdo0i22R+keOHGlxxK70Z9KkScv07TDOR0RE3JORzEqpnCVLlrS4rX79+t1ILTiZWmB33LhxK437cs6cOVbbZ2xvBjxPGDRoUHFjO8w9P3r0aP5Jkyb1r1ev3nVjKp60tqNfv34yopsJAQQQcC0BgjsEdzgGOAY4Blz3GHCtKx69RQABRxSQYMiCBQum5c2b1yQY8uyzz3735ZdfWh3Z5oj9pc0IPA6BDArsetgS2LWl/UnBS5P3tD6IZ2nE7rx58+Qn9xbXCwoKSldgd8SIERbrlO2FhYXJSGGL0+nTp6tYa1f79u2lXf1jY2Ot3sTs008/HWFxI0kvpBbYDQ4OllGwJtPq1aulXot9fPHFF9WmTZvM/bsTFRX1fVRU1BebNm3asnnz5ohNmzYt2LRp07RNmzZN2LRp08ioqKg+UVFRgZs2bWoWFRXls2bNmiLp+eJNjok7d+54ffTRR68EBwcfql+/vpI0PNbabe61qKgoyd/MhAACCLiOAAEd1w3osO/Z9xwDHAOuc7Wjpwgg4OgCly9fLt+yZcvL+g/y8hPnsWPHjkxPEMHRPWg/AmkRyKDAbp6MCuwmtd1i0M7SiN0NGzZ46c8BxvnmzZunK7AbGBhosS2yjffee08CshYnSS1RtWpVizc1y507t/r777/VpEmT4o1t1p57eXlJ21Md5ZpaYDckJGSTsaGffvppDW075h6TAs8rlVKVJR9w0ujiVEdeG7eTkc9ldHN8fLzPtm3b5vbu3fuhp6en1X2k9SskJMTije4ysn3UhQACCNiNAIEdAjscAxwDHAOuewzYzcWIhiCAAAI2CEjwZNmyZZOMd5SvXLny2SNHjpSwoQqKIOCSAhkU2M31pAO7UVFRVnPzSl7umzdvpim4e/fuXVWgQAGrQUNbcntPnTo1XAsumnvctm2bql69usXtDBo0SBqeajA1tcBucHDwTuNBHhcXl0u+CDPXLllWrlw5MUt128Z6M+u5BJrj4+NbBQcH38iePbvFfkhfGjVqtCez2sV2EEAAAbsQIKDjugEd9j37nmOAY8AuLkQ0AgEEEEijQFxcXJkXXnjhgj5IIbkZ33jjjRGM3k0jJsVdQiCDArs5n3RgV3ZW+fLlN+jf+8b5RYsWpSmwu27dOquBwsKFCyfYEvQ8c+ZMGWNb9M+bNGlidTt79ux51ZaD0YbArtnAZp06dbbo26Ofz5Ili5jltmX76S0TGhpaJjQ0dMOUKVOuhoaGPpB/U6ZMuRAaGrp8y5YtpW2pV26s+c4775ic+/X9kHl3d3fJy86EAAIIuI4AgR0COxwDHAMcA657DLjO1Y6eIoCAswnI6N0VK1ZM9PDwMAmW1KhR47tvv/22qLP1l/4g8CgCGRTYzWEPgd0hQ4bUNQbz9M+fe+459d///tfm4G7Tpk1NziH6umS+e/fuobbYS/C3Zs2ad4zr2/K8aNGiKiEhwaZfHdgQ2D1irr0TJkx41lpbXn311bm2BLC1umNjY3O4ubnVcXNzkxvLSTD5hpub2z03N7dT1atX762V0x49PT1/t7R9X19fSVFh03T16tW+luqR5Z6enpKyhwkBBBBwHQECOq4b0GHfs+85BjgGXOdqR08RQMBZBS5evFi2WbNmJrl3c+bMqd5+++2BjN511r1Ov9IqkEGBXfkyxWoQtEePHvK6rZPFuizl2JWK5UudrFmzJlgL7vXr1089fPjQanBXgr+vvvqqxTZo9duShkHr8MyZM2XUbap1GssMHz7cpjQMsp3UArvjxo07obVH/yhBW3d39++N29aey68ejh8/PkfSHujXMzd/8eLFTmXLlrXYzw8++GCucb26dese17ZlfJQ0Ebdv3/Y0rmPu+cGDByOM6+ufV69eXUZ0MyGAAAKuI0Bgh8AOxwDHAMeA6x4DrnO1o6cIIODMAhLoWbBgwVS5QZH+A74EEs6cOVPImftO3xCwRSCDArtZ7SGwK/3t1q1bkP69bm4+KChI/fPPP2aDu//++68aOHCgyfnCXB3+/v7RtvhqZeLi4opJWgNzdVlb9sUXX4zR6kjtMbXAbnBw8A+W6hg0aJDVUbuFChVSy5Yti3/48KHclLKYUkpG5SZOSTdUK7N9+/ZNMsLYUn8qVKggEfW82nra49ixY2UUr8X1GjVq9N2NGzfya+XNPSYkJJSS/Wqtnp49e/qbW5dlCCCAgNMK2BLQMXs1ZKFdC+gvdnbdUBpndwIcO3a3S9LdIFvO7057caNjCCDgkgLffvtt5YYNG0p+xeQP/nny5FELFy7snpafGLskHp12agFnC+zKlzn58uWz+NN+7RwgqVpat26tJBi6detWFR4ervz8/JTxBoxaef2jjBqOjY19Ki0HhpxnGjZsaPILAn2d5uaffvppScNQytbt2BDYvWqtrkKFCkWaa4d+mY+Pjxo+fLh699131UcffaTef//9h5MnT1bVqlVLPrfqy+vnIyIi/MxtP+kGbg/1ZY3z9evXV5988kmoUqqS5PxNCibnUEp5nj9/Pujll19+YFzH8Pzh6dOnc5rbPssQQAABpxWw5YN/uqMKrPjEBPQXuCfWCDbskAIcOw6528w22pbzu9Ne3OgYAgi4rICMMJs+ffrSpJ9yJwchAgIC9qc2Gsxl0ei40wtkUGA3i72M2JUdFh0dXV7/d2tGz69YsaJDeg6M+fPnpzqaWN/WUaNG3UnLF082BHYl163Fad++fdmzZMli9QZk+valZf65555LkYJB35AhQ4bIaNrk87Kl+VKlSqmWLVuqvn37qpdffln5+vqmuo7U1bRp05f122MeAQQQcAkBWz74m40YsNCuBfQXSbtuKI2zOwGOHbvbJelukC3nd5e40NFJBBBwSYFTp041qF69utzIJzkg4OXl9XD79u0vpCWI4pJ4dNrpBDIisCso9hTYlfaEhYUF6t/jGTX/2muvTUvvQXDp0qWCkjPW1rYcPnw4JC3bsiGwK+c9q9M777zj4ebmluqIZ1v7IOV8fX03hYaGZrW6YTc3t969e09KS722lq1du/Zqzu2p6fM6Agg4pYAtH/zTHVVgxScmoL8APrFGsGGHFODYccjdZrbRtpzfnfLCRqcQQACBJAGlVJ6xY8fuMua8HDBgwCalVC6gEHAVgQwM7Fr9KX1m3DzNuM9Wr14dYByhr/97Ni3z2bNnV4sWLRrzqAHCZs2anbJluzIyVSnlbeyTtec2BHYlqJzqFBUVlc/d3f07W9qZWplatWrJTddSDepKo8S2R48eI1OrMy2v16hRY6Wt208VhgIIIICAownY8sHfbMSAhXYtoL8Q2nVDaZzdCXDs2N0uSXeDbDm/O9o1i/YigAACaRWQIMK+ffu6SgBFf40rV65c/MGDB2ultT7KI+CIAhkY2L2pfx8Z559EYFf2R2xsrFeTJk2+MLYnLc/r169//ciRIz4ZsX+XLl3azpZtjxkzJj6tQeSMCuxKP6OiorI1atRoii1tNVcmR44c93r37t0krX2QbY8dO7ZKgQIFHmnUcNasWR+2a9euTXq2nxH7mToQQAABuxCw5YN/uqMKrPjEBPQX3ifWCDbskAIcOw6528w22pbzu11ciGgEAgggkAkC165dK9a9e3eTvJLZsmVTU6ZMkZFm2TOhCWwCgScmkFGB3ZUrV1q9MdiTCuwKbNKXOCVfeOGFOblz507tJluJX/TkypVLbqZ2YdeuXX4ZeR6QG3hlz569hZubWyc3N7fBbm5ukn5gsaQGdnNzO+7m5iZ5cNXRo0cnpPWgsCWwm9ZA5759+7z8/PwWi4f+s4CleS8vrweTJk0aqJR6pBuVySjbNWvWtGjatOkJS9syt9zb2zt+8uTJg8+fP++eVj/KI4AAAk4nYMsHf7MRAxbatYD+AmjXDaVxdifAsWN3uyTdDbLl/O50FzU6hAACCFgRkMDNhg0b5hcoUMAkeNGwYcOL586dK2FlVV5CAAEHEpCA4Z49e4q+9dZbDUeMGDGka9euMwICAlZ37dp15ciRI+dMnTq17+7du+sppfKnNQiakQxPctvm+hEXF5drNnz2hAAAIABJREFU586dtadOnTplxIgRR7p06XKvbdu2atCgQdenTZv26bp164YcPHiw4uNIe/DTTz89tW3btsaLFy8OnzRp0qF+/folbrtr165q9OjRV2fOnLl63bp1QYcPHy79OLZvzoNlCCCAgEMI2PLBP91RBVZ8YgIE554YvcNvmGPH4XdhcgdsOb87xIWKRiKAAAIZLHD58uUmzZs3N8kV+tRTT6mNGzf2sBZoWb16tfd7773XPYObQ3UIIIAAAmYErJ2PzRRnEQIIIOCaArZ88E+OEjDjMAIE5xxmV9ldQzl27G6XpLtBtpzfXfPKR68RQACBxJ9tF5w+ffr3OXLkMBm9269fvyj5GbXR6Ntvvy2VN29eVbp0aXXr1q2Cxtd5jgACCCCAAAIIIIBApgvY8sE/3VEFVnxiAgTnnhi9w2+YY8fhd2FyB2w5v2f6RYcNIoAAAnYkoJTKduzYsaXly5c3Ce5WrFjx1yNHjiSnZvjtt9/yVqtW7Y52jVy+fPlqO+oGTUEAAQQQQAABBBBwVQFbPvgnRwmYcRgB7YOHPDIhkBYBjp20aNl3WVvO76567aPfCCCAgCYgP/W9devWy0FBQSbB3Zw5c6rZs2d3lLy8ffv2jdVfH2XUbnx8fFGtDh4RQAABBBBAAAEEEHgiArZ88Lfv0AWtMyeg//Bh7nWWIWBJgGPHkozjLbfl/P5ELjxsFAEEELBDAaVUpfXr19/z8PAwCfD6+PjE66+N2vyyZcvW2WE3aBICCCCAAAIIIICAKwnY8sHf8cIZtFj70CGPTAikRYBjJy1a9l3WlvO7K13v6CsCCCCQmoBSqtBPP/10vV69eibBXf21UZv39vZWd+7cKZRanbyOAAIIIIAAAggggMBjE7Dlg799hy5onTkB7UOHPDIhkBYBjp20aNl3WVvO74/t4kLFCCCAgIMKKKXy//vvvzeDg4NVlixZrAZ433vvvbkO2k2ajQACCCCAAAIIIOAMArZ88Lfv0AWtMydAcM6cCstsEeDYsUXJMcrYcn53husYfUAAAQQyWkAp5TdgwACrQV25Xsqo3WvXruXL6O1THwIIIIAAAggggAACNgnY8sHfMUIYtFIvQHBOr8F8WgQ4dtKiZd9lbTm/23ShoBACCCDgYgLr1q1bpr8eWptfunTpCBfjobsIIIAAAggggAAC9iJgywd/+w5d0DpzAvoPIOZeZxkClgQ4dizJON5yW87v9nItoh0IIICAvQjExcXlypcvX6qjdbXrZalSpR4opbLbS/tpBwIIIIAAAggggIALCdjywd/xwhm0WPuwIY9MCKRFgGMnLVr2XdaW87sLXe7oKgIIIGCTgI+PTyv9tdCW+SVLlsg6TAgggAACCCCAAAIIZK6ALR/87Tt0QevMCeg/hJh7nWUIWBLg2LEk43jLbTm/Z+4Vh60hgAAC9i8QGhqas2PHjm+WLVv2QWo3T9Oumd7e3meVUlnsv3e0EAEEEEAAAQQQQMCpBGz54O944QxarH3QkEcmBNIiwLGTFi37LmvL+d2pLmh0BgEEEMhAAaVU1t9++63IwYMHmy1dunTKkCFDTjRs2FB5eHiYTdOwePHiYhm4eapCAAEEEEAAAQQQQCB1AVs++Nt36ILWmRMgOGdOhWW2CHDs2KLkGGVsOb+nfpWgBAIIIICAJiDB3mvXruW7cOFC6W3btjUMCwvr0alTp0kVKlRYXK5cOR+tHI8IIIAAAggggAACCGSKgC0f/B0jhEEr9QIE5/QazKdFgGMnLVr2XdaW83umXGjYCAIIIIAAAggggAACCCCAAAIIZLyALR/87Tt0YR+tO336tDp+/Hjyv8uXL6erYT/99FNyHVLfzZs301UPwbl0sSWv9MMPP5jshzt37iS/lhEzp06dMqn/6tWr6ar2cbTTVY+du3fvmuwTeU87+mTL+T3jryrUiAACCCCAAAIIIIAAAggggAACmSJgywd/Rw9uZEb7n3nmGZN8a0OHDk3XZtu3b29Sz5YtW9JVj6sG59KFZWalpk2bmuyHzz//3Eyp9C8qWrSoSf3jx49PV2XNmjUzqScj2umsx85///tfpf9nBP/2229NLCtVqmQs4nDPbTm/Z8qFho0ggAACCCCAAAIIIIAAAggggEDGC9jywd/hohlPoMEEdp8A+mPcJIFdt8Qg52MkztSqv//+e5OgrbxfjROB3Yy/vlAjAggggAACCCCAAAIIIIAAAgg8RgECu8bwTvqeE9hNn5u9rkVgl8AuI3Yf44WHqhFAAAEEEEAAAQQQQAABBBBA4NEFCOxmTGiRwG7GONpLLb///ruSPMnav3v37mVo00jFkKGcqVZmy4jdBw8eJO9v2e+//vprqvXaewFbzu+PfhWhBgQQQAABBBBAAAEEEEAAAQQQeCICtnzwt7fgheTJtLeJwK697RH7bg+B3YzZP7aeC2wJ7GZMi+yrFlvO70/kwsNGEUAAAQQQQAABBBBAAAEEEEDg0QVs+eCfnlDFxx9/rPr06ZP878MPPzRbzVtvvZVcRsqfPXvWpNzDhw/V7t27VVBQkJLgqYeHh8qWLZsqXry4ql+/vpozZ466du2ayTrGJ7dv31bTp09XnTp1UmXKlEmso0WLFmrixInq8OHDxuKJzyXfprn2nz59WnXv3j1x+7ly5VJxcXGJ5W0N7GptefHFF5WXl5cqWbKkevnll9XmzZsT67H3m6cdOXLExEW7Wdfq1asT+1GsWDEl/zp06KCWLl2aeLMq6Vh8fLxauHChateuncqXL19imUaNGql169Yll0kEMPPfzz//rCZMmKDatGmjSpUqpXLnzq1q1aqV2I7169ebWUMlltfvP2m3uWnVqlUm/dGOhxkzZpgsl/1ubvrjjz/U1KlTE/srbXvqqadU69at1eTJk9VXX31lbpXEZbYGdm/cuJFYf0BAgCpYsKAqXbq06tq1q9qxY0diPY568zTj+eHo0aOJ/fniiy+Uv79/Yl/lPa6f/v33X7Vz507VpUsXJWkS5FyQNWvWxLJVq1ZVr732mtLq0dZ7//33E/djx44dTXLs5s+fP3n/hoWFJRaX40x/zMgxp5/69euX/Pobb7yR+NK5c+fU8OHDVY0aNZScD6pUqaI6d+6sYmJi9KummJf1xowZoxo0aKDy5MmjpP19+/ZV33zzTWLZAQMGJG/L2I4UlVlZYMv5/dGvItSAAAIIIIAAAggggAACCCCAAAJPRMCWD/5W4gYWX3r77bdNAinjxo0zW7Zhw4Ym5Q4cOJBcTgI5EtB1c/v/fJ+WHj09PdXXX3+dvJ5+RgJF3t7eFuuQwJAEh43Tp59+arJOcHBwYjBNgor6dpw/fz5xVVsCuz/99FNi4Ee/vn4+NDRUScBXv2zLli3Gptn0XF+HTSvYWGjt2rUm7Zs3b54aOXKkyTL9tiVQJsFsCeLql+vnJQhsaVqxYkVisFRf3jjfqlUrdeHCBZMqRo0aZbI9CZSZm8qXL59cTo6FX375JbGYLTl2JcgowUdje7Tn2bNnV++99565zSpbArsyylTfPq1eecySJYuaPXu2ctTArvH88MEHH6iZM2cm9kvrpwRutenPP/9U9erVs2itrSP7cNasWdpqavDgwamuU7t27cTyqd08TerWtiOB2OPHj6vChQsnL9Nek0f58knOreamXbt2WTymJXgfGxurcubMmVzvs88+a64am5bZcn5/IhceNooAAggggAACCCCAAAIIIIAAAo8uYMsHf5siCIZCxsBNegK7MupRHyzJmzdv4mjI5s2bJ47W079WoECBFCN3N23aZBIo0pc3zksgUD8ZA7sSYJZRfsb1bA3sXr9+PXGErnF94/McOXKYbMPeA7tFihQxaa+xP/K8QoUKqZaJjIzU8yfOh4eHp7qetj0JiP3222/JdcgIXe01eZRAqoz+1k/fffedSRkJ5mpTaoFdGemrr9/a/KRJk7Rqkx9TC+xeuXLFYvBPvy3j8aKNoE7eUDpm9PWnY3WbVjGeH4YOHZrCUwvsyn577rnnTF6XwLaMkpUR4CVKlDB5TdovQVeZHldgV443GZ2ttzLOy5dAMuJaP8lxqQ8QG9eR53Iuk/5prxHYffTrHDUggAACCCCAAAIIIIAAAggg4JQC9hzYlZF0WnBDHs+cOZMcI5Fgj5+fn8nrERERya/funUr8ef+2voSZJFUAD/++KP64Ycf1JQpU1KMmjx58mTy+sbArj7QIgFeGYEqo40vXbqUuE5qI3bHjx9v0lb5+bWM5pRUDjLadNGiRcrd3d2kjLTd3gO70kZJJyGpGCT1wOLFixN/Wq65a48yqnr58uWJZdasWZNipGPbtm2T7WVGfqpu9JAvB+Sn6pJ6Y/v27Yk/x9fql0dJUaBNkntV0hboXzemY5g2bZrJ69J2bbIW2JUbq0lgT6tbApDSN9mXMspWUnwUKlQo+XUZvSmjtfVTaoFdY6BTjjkJfstNveTLBBllLiOCtTZoj44a2NW/v+TLAhmJLP9kkvQYWv/kUbzFQZtkZL+kv9CXkcCxTAkJCermzZuJKRr0r8tIaFku/+7cuZNYNi0jdrW6ZD/t3bs3sX55j+v7IWXmz5+vNTPxUb6U0taVx4oVK6rPPvtMyYjkL7/8UvXs2dPkdSlDYNcpL710CgEEEEAAAQQQQAABBBBAAIFHF7DXwO79+/dNAlcSMDHmOZURl5LvVvu3ZMmS5CDK6NGjTQIkUVFRya9pMxKM1AdZevToob2kjIFdKSc5NCUVgbkbNlkL7ErQRkYb67f1ySefJG9Lm5E8xPoyMm/vgV0JWhrTYEh+WmM/JG2BfpLR1Poy5cqV07+cIiXF66+/bvK6PJERusYRw1qOXHld0mfotyGBN/1Ut27d5NelHxKw1SZrgV3JtaqvV44V4yRfIujLSABQP1kL7F69etXkp/hSj75fWj2SpkK/DZl31MCutF1yMx88eFDrXvKjBLElN7b2T0byG6d3333XxELOCfrJlpunpTWw279/f/0mEuclj7d+nwwbNiy5zLFjx0xek3OCfpS5FJRzizEdC4HdR7/OUQMCCCCAAAIIIIAAAggggAACTilgr4FdCXJIIEcfJJGfPkuAb9++fYkj8ZIjJmZmJAemtq7kwTQXjL13757JqF0ZASn5YGUyF9iVUbWWJmuBXRnRp7VFHqtXr262GhmFbBxlau+B3cqVK6foy/79+036K6NNZVSlfvr1119Nyoi9fpIRvpqZvGYMgGlljcFbydOqTRJw1uqQR32ATIKn+tGVLVu21FZLfLQW2JWbpGn1GgPSWiV//fWXSeoOGTH+4MED7WWT407q0gedo6Ojk+uX12R0uLlJvvww5nh15MCucUS1uT6bWyYjuJs0aWJi1q1bN5OijyOwe+jQIZNtyBMZha8dG/IYGBiYXEZuJqh/beDAgcmv6WdkH+rL6Y9bfTlb5m05vzvlhY1OIYAAAggggAACCCCAAAIIIOAKArZ88LclgGAsY8yhmZ4cuxKk0wc49POSW1RGXEr+Uhm5q5+Mo32lrNxAzdw/483QtHQPxsCupE74+++/9ZsxmbcW2F22bJlJP/Sj+EwqUUq9/PLLJmXtPbCrD1xpfZGbP+n3VaVKlbSXkh/FUl9GRsxqkzHoW6VKFe2lFI8fffSRST29e/c2KWPcL5LiQSbjPjHe5MxSYFd+uq9vt6SLMHdcyTJjKgkJJmuTtRG7xuPe3GhlrR5/f3+T9jhqYNfX11frktVHSaWyfv169eabbybeWFHStRidZf9kRmD3559/TtHWbdu2mewPSRGhTcZfEci519z0xx9/mNRBYNcVrsT0EQEEEEAAAQQQQAABBBBAAIF0CNhzYFeCHvITa2MQTB9Yk3kZeSm5KbURkcabYhnLW3t+4MCBxFiLMbBrbmSqPihjDCDqf3ovOVf125Sbglmahg8fblLW3gO7Xbp0SdEV40hZHx+fFGXu3r1r0k99YFdGZOu9JC+ppcn48/Z69eqZFJXAv74ubURvQEBA8nIZESw3t9NPlgK7xpuy6etObV7yA2uT8ZjWj9gdMWJEctukTmOeVq0OeTTmZHXUwK4+DYq+f9q8vB/r1Klj4qL3Nt5ELjMCu3IMG6ddu3aZtFEf2JUvHfRt1ucE19cjI/f1o8kJ7KbjwsYqCCCAAAIIIIAAAggggAACCLiCQGYFdseOHauPXSTPy53t9cEOLbCaXEApJQEUydEqI95q1qypJAioX0ebHzRoUOJq8tNsbZk8SioAGQlryz8JFMpkDOxqN3LSt0s/by2wa8y3+tprr+lXNZk3BupcMbAruZT1+09GZVqa9uzZY1JW8pPqJ2Pe1Oeffz7xZln6UZ5yEz7jZCmwKyNG9W2Tm6TZclxJGWmLNlkL7Bpv6iY3+rM0dejQwaQ9jhrYHTNmjKUuJt5czBi4LV68eKK7BO43b96cIgVCZgR2JZWLcbIW2JVRxvpjx9IXPHJjOH05AruucCWmjwgggAACCCCAAAIIIIAAAgikQ+BxBXZnzZplEpzo27evMQaS+Nx48ytzgV3jivJzePk5tj6PrgRCJAevjHaTSZ97VJandTIGdlu0aGG1CmuBXWOwp1WrVhbrkhGn+qCOKwZ2//nnH5Obh0m+XVlmbpIb5um9JkyYkKKY/jjJmjWrklzJ+nXMjZy0FNiV40ufvqNkyZIptmfLAmuB3Y0bN5q0T27IZWmSkeT6vjhqYNdSqhbpd8OGDU36KAFSY87mVatWmZSxx8CuHGf6fVWrVi2zu1XOyfpyBHbTcWFjFQQQQAABBBBAAAEEEEAAAQRcQeBxBXbXrl1rEpwwF8Q4ceKESRkJZmiB3YMHDyoJrmn/3n///RRBELnRWa5cuUzq+PPPPxPLSSBWHxz58ssvU6wvCzZs2KAkGCj/QkNDkwPDGRnYvXLlipKAotYe+Zn1+fPnU7RHlmlltEdXDOwKjKRv0Azkcfv27Sm8ZEGDBg1MyknA3zhNnTrVpIwE+rW6ZSSodszo17MU2JUyMoJYW18ez549q181eT4yMjL52JJRuPrJWmDXeKMvaaM+P69Wz/Hjx03aIW1xtsCupFfRv8dz5sypJIe2cZI8xPp9klpgV75QMk7G0d3G3ND697BsK60jdi9evKgk7Ye+nXJDNf106tQpZfyyi8CuK1yJ6SMCCDizwOLFi0t16tRpasWKFU+UL1/+ePv27UPnzZtXxpn7nFrflFI56tevP9XNzS13amWd9XWlVJZZs2aV7dSpU0i5cuV2VqxYcUfHjh1Hrlq1qrCz9pl+IZARAvLeUUrJDVqyZkR9jlrH+fPn8w8cOHC8j4/PiaJFi16oWbPmuj59+rTet29fdkftE+1GAIF0CjyuwK7xJ/ISzPjggw+SYxi//fZbipF4UkYL7ErOU32eSbm5kjGnpTFgqg/EGAOzsr4EVrRJRoCuWbPGJOCqv0u9cf1HGbEr23zllVdMAjpyQzC5SZg23bhxQ0kb9UEfmXfVwK7sG71FsWLFlKRo0E/BwcEmZcqXL68SEhL0RRLnf/jhB5Ny+nrbtGmTorwssBbY3bRpk0l9MqL0l19+Sa5HgpESsNNvx5iKxFpgVyp64YUXTNaXL0bkplraJMeOcbSubM/ZArsSxJVgrmYp5wQ5d+gnCXqXKFEiuYyU7dq1q75IYvBdq0N7lP0oN/GLj49PLPu4A7uykV69epm0U/ojI/glpYS0OV++fCavS1sJ7Kbz4sZqCCCAwBMWkOBDw4YNJ2nXHXnU/21bo0aNlRKceMLNzPTNK6WyHzp06EiSy4uZ3gA72OD58+fdfXx8dmnHhvHL49q1aw+3g2ZmWhPkffDGG280at269cISJUqcqlKlytn27duv3bRpU0tXD95pOyE0NDR7/vz5o4YNG1ZMW+ZKj3369MnVs2fPrj179vwiKCgo8SbK8tizZ897QUFBy4YPH17IlTz27t1bPleuXA+1c4j+2uLu7n59+/btRZ3ZY9q0aUWDgoLeDAoK2tOzZ8/LQUFBCf97/jDp382goKBTQUFBG3r06DFk9OjRxZ3Zgr4hkCjwuAK7MprNOPJMTjylSpVKDFQYR65pJyUtsCtBEMmHqi2XRxnFKTdTk2Dn7NmzVZkyZUxelxuP6SfJa6pfX35C37hxYyV5WAsUKGDymowKlPyp2pTRgd2TJ0+a/DEv7ZKAlbRHgoj6UYn6NrtqYFf2gwS89BaSW1mC323btjVJtaGVsRbUlNzMWjn94+rVq7VdbvJoLbArBf39/U3qy5s3b+J+lLZ5eHiYvCbBOuOI29QCu4cOHTKpQ9osx4jcSK5Ro0ZKnyNY3x9rBiYdtPJEX5+VYo/00ttvv23SP2upGIz7TvJyv/fee+rDDz9UctO50qVLm9Ql7TfmWpYAsSUzLYdzZgR25Rwj6Tv0xsZ5Obb050cCu1ysEUAAAccU6NOnT0c5x8vfn5KORwYtyK+E5Ndicv8Hea1du3abHLN3aW910ii74jt37owtWLCgdi18O+01OfYaEsSsXLny97L/K1SoIPcSmHb//n2fX3/9tfmCBQt+0P6ODAwMbO3YPbWt9UePHi1asmTJ37W/h/QBKlnWvHnzWFcP7kr/c+XKtUc8BgwYMNo2WecpdeXKFRnZH68dI+YeS5QocdF5emy9J6dPn87p4eGR6CE3bP/iiy+W//333x22bNkS3aRJk8Rzq5eXl4xcyWO9Jsd9tWXLlr+aOw7MLfP29j7kuD2l5QjYKPC4ArsS9TEGb4xvNAlg9OvXT/vDLvFRH9iVUZAVK1Y0ed1Yh/Zcgl0y+k4/yU3UjAE4rbz+Uf7g/uyzz/Srprh52qOO2JXKJYioH32ob4PMS8BHRu3pl7tyYFdGZEvgW+9hbl723/z58032n/HJzJkzU9Qjgb5bt24ZiyY+Ty2w+/PPP6cY1WuubfLHuaQVMU6pBXalvOQP1gf4jPXLCOXAwECTfjljYHfHjh0pvhQxWhjPEzKK2jh17NjRxEqrIzMDu9ImGXEs5ytt+/rHLl26KBnxrT9PENi18WJGMQQQQMCOBJICUQlyjo+KijJekpT+l21HjhwpYUdNfyxNeeuttxa/9NJLD2SAh/665+bmtv2xbNCOK33vvfdeFgMJ7v/2228t9E2VoO/mzZs/TTJKcPafVCulclWqVOmO9LdevXoPvvzyyzfv3r3b/9ixY5/Kl/fa30MhISEuEeTWHwvavHwh4uvru0x73wwcODBae81VHjdu3Ogn/W/fvr3au3ev8d/ve/fu3XDs2LGyruJRo0aNEeIxZMgQ+flvEX2/f/nll+7aYJb169ev1L/mTPM7d+4sHRERsTIiIuJiRETEA/ny1PivZcuWidebXr16+TpT3+kLAmYFHmdgV/6KXbZsmcqTJ4/JH3Fysundu3dirsyRI0eavKYP7Mr68pPzkJAQZQyEaRc3+QNx8uTJ6s6dOyn+aNYWrFixwuyoPhkB2rlzZ/X1119rRZMfM3rErlaxBPmee+45JdvW+iCPMirx0qVLiXl+9ctdObArZv/973/V4sWLzY5ylBGskrLAXL5izVt7lDQcxhEA8seBpSm1wK6sJ22T94+5EZiSF7d79+5KRoGam4zHs/zxam6SLxyqVatmkjJE+iG5heW9MWbMGJPjyBkDu+Kybt06s+9hLy+vxIu4BOj17yk5x2gpFjRXeS7pVnSjhBLtMjuwK+2RY+fcuXOJN4GcOHGiknzMZ86cSVwugV39TzLr1KmjdSHNj7ac381eGFiIAAIIIPBIAtOnTy8nf8/JiEw555ubtJz9r7/+ep9H2pgDrFy7du1qbm5u5kZYHXeA5mdoEzt16hQrx8bIkSMlHUWKSSnlKX/fSJkNGzZUT1HAiRasXLlynPRTUmolJCSYfMGhlCo5ffr0e/K6t7f3Rifqdpq6MmHChN5iIJ9b5HHQoEFn01SBExSeMGHCBun7ggULrssoVFcewR0aGip5hRMkTeH/Qi1m03JIDvegoKDtGzZskC8EXGbS5V4uJDEl+Tzu6+t7SJa7DAIddV0BWz74m/tjNC3L5A72kuf0o48+UkeOHDF706HU6pNgh+RYlUDXxo0bE0c6yPOHDx+mtmry6xL8kcDq5s2b1bFjx0xyliYXyqSZv/76S342kZgT1dzNux61GXLx0/49al32sr44yf6Ljo5OzJkqx5W9TNI2uYDIsSU36rt582aGNk1uFChBWzlmLI0yzqgNaseNPNrTJOcAueGi7P/du3eruLi4NL3/tb7IOUNyWl+4cEHJqHBj7m6tXEY/SnoaScmi/bN00z1Zrt8H8uVTeidbzu+ue/Wj5wgggMDjEwgMDOwq5/L+/ftbPIVr9wpo0qTJ6sfXEvupWT5cnzx5Mu+PP/7YVf6mSbrWXbWfFmZOS+rWrXtD+r527drG5rYoo1i1+yjMnTs30FwZZ1nWu3dvCeyrKVOmyM/KU0xff/31wKTj5EKKF11gwYEDB56RL/vl5/aLFi1KfM8MHDhQRji7zCRB3LZt2ybmko2JiZngMh230NEpU6Z4y3uib9++YvJ/7J0JmFTVmb+ru9lklUUgghub4gIqiqKIWxCdccW4Ytzivo00oEnUsQVcRoxxS1wS3DDGYBzHgEvQiCBDnEic6AQnY4sajZjIP4MyShSD559T4dZ3urqq++vbtZxz73ufh6d+deucW995v4/fOXUobnEUIPCHP/xh9BZbbGHsP5CtXr26X4EmnIJA8ghoPvgXXZHygrcENi2CsgsAb4MkMC8JUDvlSYu9z2+vXr2iD7LZx6effrrZm9nFu5sD+z8O4h4af0/erMaIIAABCFSfwK677nqz9XL7mxDFjnvvvTfr99tss81vqh9xZSNobGycv2muS9UmlaX80EMPnXznnXfeXOxbZJ9++ukR0a24Fi1atEdlM1PZd/va1752yLCN+s/xAAAgAElEQVRhwz5YsGDBAYXe+ec///ksWyd9+vRZWuj1JJ+zG/zbbrvtWnvrNfu/zpyN3Q1JHnf+2Iwxve3/0LX/Y/Gjjz6y/xMi1ceECRNOtn8nNv0o/ZFr1qwZ8eSTTx41e/bsS++9995JK1asSOx9dTWJt7662267vWEZLVy48BuaPrSBQCIIaD74F1uQct5fApsWy9kPDP5GSWQ+EqB2ypeVKVOmNNm0tbfksPciX7x4sV18mNNPP73J61tvvXX2nrtxI9L4eyImMgYBAQhAwDMCgwYN+pWdT++///6iFm7/J5tt06VLF/sNzlQdjY2NkzatN1K1SdVaku39MhsaGrLfTuzVq9d6Y0zH1vok9XVjzF7Rb6WcffbZU5I6zkLjsptTp5566lP227rRb3U4G7vWN1JzrF27drT1iiFDhth7Ut92+eWXH3/ooYfO2n///R+44IIL/umJJ54YkBoYmUxm++23z95v+d///d9Nod+QsawOO+ywr6WJiTvWm266yd6P2xx88MHvp/mWHS4TdEoIaD74F12R8oK3BDYtlrMfGLwNksC8JEDtlC8t9r7I9p7JLuNi2n47wS7a2nNo/D0lUx3DhAAEIFBRAv369cveT3bTt6oKWrm9rZCdA2pra1O3ublq1aoRm+Y//jvxpso0xvR74IEH1tn7Qlo2t9566z4VLVoP3sxuxCxevPiAH/7wh8vtbwxYDvvvv/9jadugefTRR7O3cpk2bVrOO9yN3WLf9vYghSUPYcmSJUfaOthyyy3tN7cLrqEPO+ww+2MlqbiP6uabb25vS2JOOeWULIsxY8Zkf2/o9ttvz/6GUeQfw4YNS9U/htjCs/8Q1rNnz0/st7tffvnlfUtejFwQAj4T0Hzwz80oiGAIWG+L/gQTNIF6QSCqm7/Pj16ElKgg/t//+3/ZH3Hr1q1b7u+oy9x+O+OEE04wpbj3tsbffZ6fiA0CEIBAqAT69OmT/dblww8/XHQOc36oN3Ubu2+99Zb9lp2dB1M39kI1/dFHHw299NJL10frgYsuusj+d+vUHbNnz74vYmAf7X0yX3755VR9+/CPf/xjf7uBae+z7P4ORN7Grv0BrVQct99++3FRTdgfzX7kkUceWLVq1eTnn3/+xgsuuCD349hHHXXUWakAksnkfOLcc881+b8588tf/tJsttlm2c8YDQ0Nm6eESXaYZ5111vm2Vo477jj7I3up+TuSphwz1hYIaD74F12R8oK3BKIJ0D5yQKAtBKidttCK39b+IN6CBQuy90ybOXOmsf/S/thjj2V/2C3+VZv21Ph7C9MDL0EAAhCAQEwCAwcOzP5A1n333dfUmJ1nTzzxRPbDd+fOndfEfJtgu61atarXpvVGwR/NCnZgMQJ/4YUXDhw2bFi2Frp06bLhu9/97rgYl0lEl+eee27UFVdcscZuWLn/w+nSSy+9NA3fyLSbURMnTnzN3mP55ZdfdtzCuPfYtec7JyLhikHMnTt3y4MPPnjjFVdcYc20yQ9hGWMGzps377Pos0sabsvQqVOnrFcMHDgwe+/lJkWy6cn06dOzbXbYYYeLFYgT0WTlypWdamtrs/+g+vrrr9tvvHNAIF0ENB/8CxkG5/wmEE1w9pEDAm0hQO20hZbfbTX+nq4Zj9FCAAIQqAyBYcOGvWbnU+vDxY6HHnoo++G7b9++9n68qTree++9zTatN+wtK1J7XHDBBafb/zZsWUyYMGF5Y2Njz9TC2DRwu4FrjOlhjPn6nDlzsmwsnxdeeGHPpLO55ZZbTrFjveqqq5rZRt43dr+SdBbu+Fra1DfGHD1hwoRsnVx00UXXuf2SqAcOHPi+rZETTzyxWY1EJxYtWpTl0aFDhxVJZFBoTN/85jePsVx23XVXi6FboTacg0CiCWg++EcmwWM4BKyxRX/CiZpIfSAQ1Y195AibgMbfEz3BMTgIQAACVSLw1a9+9R47j55//vlFJ5Irrrgiu1YbM2bMbVUKs2pvu+lHwez47QZ4Ko9x48ZdaGukd+/e5sEHH7yQ/zrcvAyMMbcccsgh2b8n3/rWtx5q3iI5Z1auXNm9S5cuZvjw4eb3v/+9Wb16dZM/1157bZaD/SHe1atXp/JWHYWybYzpeeWVV2bZHHTQQYn/HwCjR4+eb33j719iLzy9vPrqq1kemUxmXSFmSTtnN/4HDRr0J8vlX/7lX15I2vgYDwRUBDQf/AtbBmd9JmCNLfrjc5zE5h+BqG7sI0fYBDT+rpooaAQBCEAAAm0icMkll5xm59F999236ERyxBFHZNdqp5xyyvFtungCGm/axLTjX5CA4bR5COPGjbMbc2b33Xff+Ic//GF0my+QkA7Tp0//3re+9a2iP3JkjJnwL//yL9m/J7vvvvvrCRl2wWEsXLjwWncN3oq291kdWfBCKTtpjOly4403Zmtkxx13tH6b6HurTp8+/Ru2No488siic8vjjz+e5dG9e/dX0lAOv/jFL7axTOz/fnjvvfcOS8OYGSMEmhHQfPAv6hq84C0BdzHgbZAE5iUBasfLtMQKSuPvzSYFTkAAAhCAQLsJPPXUU0Oj+XTZsmXNPPy1114zdXV12Q/f8+bNS9V/q3bg2h9Ou9l5ngr54IMP2g05M2LECPPhhx8OS8Wgiw8ye3/Ud9991/59aXYYY/7hmmuuyf492WeffRL9jwDLli37hz322OORMWPGvDlmzJj1Y8aMMe6frbbaKsuhX79+9vyfx4wZs0MzYAk8scsuu3x1xx133K/Y7RiMMV8588wzs2yOPfbYz4q1SwqaxYsXD7T+0bVrV7uJ2WxusSeOOuqoLI9JkybNTMq4WxrH6aef/m3LZNy4cXb4qb+dTUuseC3BBDQf/As6Bie9JhB9mLCPHBBoCwFqpy20/G6r8fcET28MDQIQgEDVCNhvje2www7ZeyGOGjXKNDY25iaMd955J/tNXjvfDh48eHnSNyJaSMLSTCaTll+yz2IwxtQNGzbM/WG9ve39IG29pLEO+vXr97j9ezBnzhz7K/Zd8mvliy++eNJubto2U6dOTd0PItmaMMZ0MsZ8Le8eu6nY1LX1MGrUqGU2/zfccMPjlkV+jXz44YfX9u3bN1sjc+bMmZP/ehKf77HHHvMsE/s/Qt5///3c3GJF9A13+/pLL700Konjzx/TqFGjsp568cUX/y7/taQ+Hz169Pjddtvt3auuuqrg/3g488wzs6/vuuuuBV9ftGjR8NGjR79m/9x3333Dk8opVePSfPBv4hY8CYKANfPoTxABE6Q3BKK6sY8cYRPQ+HuqJjwGCwEIQKCCBF566aUBnTt3XhPNq2PHjjX77bdf9r+L2nN1dXVrly1b1qOCIfn2VvZbVon/QSwX+urVq7eO6qF///5myy23zP+zccstt/xgyy23XPa3165esGBBoj9wz549e2/Lo0ePHmbhwoVvGWNGGGM62E3etWvXTjvttNOyn2c6depkVqxY0dVlmSZtN3jzNnYTfbsBN7ezZ88+ztaIrYFHH330T8aYA4wxXe0/iKxevfrc6B7MQ4YMMR9//HEft29Stf0HoqFDh95luXTv3t0ceOCB5oQTTjBDhw7N/n2xtyS46qqrViT9thQ2v3/by96sc+fO2XF///vf/2pSc15gXNl/OD7jjDPeKfBaZvz48dnXM5lMwdcfeeSRNyw+++f6669PzYZ4IVaJOaf54B/21kY6o4/+ov7d79LJgFHHI0DtxOPmYy+NvydmMmMgEIAABDwkMH/+/Lp99tlnXG1trf0xNftBa01NTc0zf7tf6PErVqzo6GHIlQxpSCaTafYtzUoGUOn32pRz+9+j7a/V203/7K0INq29rLY1Yr+heGcmkzlt/vz5gyodYyXfz25Y7r333k9Ga8/ddtvNnHzyyebQQw81m2++eXbTwb529913H1jJuHx8rzvuuMP+0KA5++yzf+tjfOWKyW5OTpw4MVcjO+20kznppJPMpEmTTM+ePbM10q9fvw3PP//8mHLF4Ot1Dz744L6ZTGZKJpOxP6j2RseOHV/fbbfd5j7++ON28zsVm/+NjY2DN/mH/YehVIx5Uz2Oz2Qy755xxhn7FKrPfffdN/t6JpMp+PqPfvQj+4+G1lNemzVrVqL/AbEQn0Se03zw93HDgphaJhAtkOwjBwTaQoDaaQstv9tq/D2RExuDggAEIAABCEAgCAJ2M+amm246rG/fvtmNy2gdWlNT88nBBx88c+nSpVsEMZAyB3nrrbfazZc3zz777BFlfivvLm//AeCWW27Zs3///o9mMpmNUY1svvnmr5144olfb2xs7Oxd0ARUEQJPPPGE/V8v92Uymc0r8oa8CQR8JaD54O/31gXRFSIQTXj2kQMCbSFA7bSFlt9tNf7u69xEXBCAAAQgAAEIpIuA3eRduXJlp8WLF3dI18gZbRsI1Nj/CWE3e9vQh6YQgAAEkk1A88Hf760LoitEgM25QlQ4pyFA7WgohdFG4+/JnuEYHQQgAAEIQAACEIAABCAAAQhAIMEENB/8w9jCIEqXAJtzLg10WwhQO22h5Xdbjb8neHpjaBCAAAQgAAEIQAACEIAABCAAgWQT0Hzw93vrgugKEWBzrhAVzmkIUDsaSmG00fh7smc4RgcBCEAAAhCAAAQgAAEIQAACEEgwAc0H/zC2MIjSJcDmnEsD3RYC1E5baPndVuPvCZ7eGBoEIAABCEAAAhCAAAQgAAEIQCDZBDQf/P3euiC6QgTYnCtEhXMaAtSOhlIYbTT+nuwZjtFBAAIQgAAEIAABCEAAAhCAAAQSTEDzwT+MLQyidAmwOefSQLeFALXTFlp+t9X4e4KnN4YGAQhAAAIQgAAEIAABCEAAAhBINgHlB3/jbvagM/DIwIC/B9SA7zWg9PdkT3KMDgIQgAAEIAABCEAAAhCAAAQgkFQCyg/+bGSykUkNUAPUQGA1oPT3pE5vjAsCEIAABCAAAQhAAAIQgAAEIJBsAsoP/mzoBLah4/s3CYmPb7tSA+WvAaW/J3uSY3QQgAAEIAABCEAAAhCAAAQgAIGkEtB88Pf7LpJEV4iAu2lW6HXOQaAYAWqnGJnwzmv8PalzG+OCAAQgAAEIQAACEIAABCAAAQgknoDmg3942xlEzOYcNRCXALUTl5x//TT+nvhJjgFCAAIQgAAEIAABCEAAAhCAAASSSkDzwd+/7Qoiao0Am3OtEeL1YgSonWJkwjuv8fekzm2MCwIQgAAEIAABCEAAAhCAAAQgkHgCmg/+4W1nEDGbc9RAXALUTlxy/vXT+HviJzkGCAEIQAACEIAABCAAAQhAAAIQSCoBzQd//7YriKg1AmzOtUaI14sRoHaKkQnvvMbfkzq3MS4IQAACEIAABCAAAQhAAAIQgEDiCWg++Ie3nUHEbM5RA3EJUDtxyfnXT+PviZ/kGCAEIJA6Ahrvo81tBgYwoAaoAWqAGqAGqIFK10DqFqaVGLAmif5tVxBRawTYnGuNEK8XI0DtFCMT3nmNv1dinuE9IAABCFSSgMb7aMMHWWqAGqAGqAFqgBqgBipfA5VcE6bmvTSFHN52BhGzOUcNxCVA7cQl518/jb+nZrJjoBCAQGoIaLyPNpX/IAdzmFMD1AA1QA1QA9RAahaklRyo5i+Wf9sVRNQaATbnWiPE68UIUDvFyIR3XuPvlZxveC8IQAAClSCg8T7a8MGSGqAGqAFqgBqgBqiBytdAJdaCqXsPTSGHt51BxGzOUQNxCVSjdtaM2MbwR89Am1uNv6du0mPAEIBA4glovI82lf8gB3OYUwPUADVADVAD1EDiF6LVGKDmL5Z2E4F2/hCoxuacP6MnkvYQqEbtsKmr39S1rLSHxt+rMe/wnhCAAATKSUDjfbThgyU1QA1QA9QANUANUAOVr4FyrgFTe21NIWs3EWjnD4FqbM75M3oiaQ+BatQOG7ts7KZ2EmbgEIBAyQlo1ra0qfwHOZjDnBqgBqgBaoAaoAZKvvDjgpmM5i9WezaJ6FsdAtXYnKvOSHnXUhOoRu2wscvGLvMxBCAAgVIR0KxtacMHS2qAGqAGqAFqgBqgBipfA6Va73Edh4CmkEu9ccT1yk+gGptz5R8V71AJAtWonfyN3UqMM6T3iMtH4+/OdICEAAQgkAgCGu+jTeU/yMEc5tQANUANUAPUADWQiMWmb4PQ/MUKaQOEWP9OoBqbc7BPBoFq1E7cjctkEG99FHH5aPzdtzmJeCAAAQi0l4DG+2jDB0tqgBqgBqgBaoAaoAYqXwPtXefRvwABTSG3vu1AC98IVGNzzjcGxBOPQDVqJ+7GZbwRhtcrLh+NvxeYFjgFAQhAIGgCGu+jTeU/yMEc5tQANUANUAPUADUQ9CLT1+A1f7HC2wYh4mpszkE9GQSqUTtxNy6TQbz1UcTlo/F3X+cm4oIABCAQl4DG+2jDB0tqgBqgBqgBaoAaoAYqXwNx13f0a4GAppBb33aghW8EqrE55xsD4olHoBq1E3fjMt4Iw+sVl4/G31uYHngJAhCAQJAENN7ntglvVogXcTXm93iRlr8XLIQxLGAhBERRF7AQAqKoC1gIAVHumkqjg1xc+h60BrykDBUKAUw3lEz5F2c1aifuxqV/9MoTUVw+Gn/3fY4iPghAAAJtJaDxPrdNeZzbv6tWY373j8LfI4KFZAYWsBACoqgLWAgBUdQFLISAKHdNpdFtXdfRXkFAA15ShgqFAKYbSqb8i7MatRN349I/euWJKC4fjb8rpgmaQAACEAiKgMb73DblcW7/rlqN+d0/Cn+PCBaSGVjAQgiIoi5gIQREURewEAKi3DWVRge1qAwlWA14SRkqFAKYbiiZ8i/OatRO3I1L/+iVJ6K4fDT+HspcRZwQgAAEtAQ03ue2KY9z+3fVaszv/lH4e0SwkMzAAhZCQBR1AQshIIq6gIUQEOWuqTRau56jXRsIaMBLylChEMB0Q8mUf3FWo3biblz6R688EcXlo/H3NkwXNIUABCAQBAGN97ltyuPc/l21GvO7fxT+HhEsJDOwgIUQEEVdwEIIiKIuYCEERLlrKo0OYjEZWpAa8JIyVCgEMN1QMuVfnNWonbgbl/7RK09Ecflo/D20OYt4IQABCLRGQON9bpvyOLd/V63G/O4fhb9HBAvJDCxgIQREURewEAKiqAtYCAFR7ppKo1tbx/F6DAIa8JKyZKlf/vKX5tFHHzUvvvhisgZmjMF0257SDz74wPzqV78yCxYsMP/5n/9pPvnkk7ZfJAE9qlE7cTcu83H/9a9/Na+//rp58sknzW9+8xuzbt26/CZlef7ll1+ad955xzzzzDPm17/+tVm/fn1J3ycuH42/x5g26AIBCEDAawIa73PblNSwPb5YNeZ3X3HAQjIDC1gIAVHUBSyEgCjqAhZCQJS7ptJorxeRoQanAS8pS47asGGDGTBgQHYDdNKkSckZ2KaRJNF0Dz30UPOVr3xF/eewww5rNa8bN2409957r9ltt92abIZH/HbddVfz3HPPtXqdJDWIxm4fK3XE3biM4vu3f/s3s8cee5guXbo0y+N2221n7rzzTvP5559HzUv2+NJLL5kJEyaY7t27N3nf2tpaM3ToUHPNNdcY6zXtPeLy0fh7qHMXcUMAAhAoRkDjfW6b9np0KP2rMb/7ygYWkhlYwEIIiKIuYCEERFEXsBACotw1lUYXW79xvh0ENOAlZclRP/3pT3MbMWzs+p9XuwHbrVu3XM7cSaWY3nPPPVsd2Nlnn6265llnndXqtZLSwOVZqTHF3bj8v//7P3PmmWeqcrj11lubN998syRDst8MnjZtmqmrq2v1vUeNGmVee+21dr1vXD4af2/H9EFXCEAAAl4S0Hif26ZdBh1Q52rM777igYVkBhawEAKiqAtYCAFR1AUshIAod02l0V4uHkMPSgNeUpYMZTdZBg0alNuQYWPX/7w2Njbm8mW/tbv33nu3+sdu+LV02I25aHKqqakxRx11lLn++uvND3/4Q/Ptb3/bDBs2LPe6bTd37tyWLpeY1yIm9rFSR9yNy69//etNcrTXXnuZ6dOnmx/84Afm6quvNvvuu2+T10ePHl2S2yTccMMNTa675ZZbmlNPPdXccccd5pvf/KbZb7/9mrw+ZMgQ8+mnn8bGGZePxt9Dn8OIHwIQgEA+AY33uW1im3NgHasxv/uKCBaSGVjAQgiIoi5gIQREURewEAKi3DWVRuev23heAgIa8JKysNWHH35ovve975levXo12XRhY9f/vD722GO5nH33u99td8CzZ8/OXa9r165m+fLlza752WefmdNOOy3Xzn5j+OOPP27WLmknqjFhx9m4tLdBsBvyNt4OHTqYYnXxk5/8xNhbI0Tj+ta3vtWulP3P//xPk1s+HHTQQeajjz5qdk17iw8bV/S+U6dObdZGeyIOH3ttjb+XYBrhEhCAAAS8IqDxPreN1otDbxfNR/Yx7QcspAJgAQshIIq6gIUQEEVdwEIIiHLXVBrt1aIxKcFowEvKwlP2W5n2m5hjx44t+t+m2dj1P6/225fRRLJ48eJ2Bfy///u/plOnTrnrPfjgg0Wv95e//KXJN3efeuqpom2T8kLE2T5W6oizcXnggQfmclhfX99iqJdffnmurf0Wb3sO9/Yd22yzTYv37r3xxhtz72s3edeuXRvrrePwsW+k8fekzGWMAwIQgEBEQON9bptYxhxgp2rM775igoVkBhawEAKiqAtYCAFR1AUshIAod02l0dF6jccSEtCAl5SFp9xbLrhG5Gr7o1xJO9zxJWFsxxxzTG6DzG7Mtue45557ctc644wzWr2U/a/1EU+rk35EY7WPlTraunFp73G72WabZfNiN+n/+Mc/thjqsmXLcjm037y292yOc3z55ZfZH++LGNlbL7R02HsA9+nTJ/feP/7xj1tqXvS1tvKJLqTx9xJOJ1wKAhCAgBcENN7ntok8M+mP0dxVyfndV6awkMzAAhZCQBR1AQshIIq6gIUQEOWuqTTai8Vi0oLQgJeUhafsvS5HjBjR7I+9T2tkTGzs+p/XoUOHZvNlfwCrvYf7Tc//+I//aPVydnNu1apV2T+tbSC2erEAGkR/L+xjpY62blz+7ne/y/393XnnnVsN8/e//32uvR3XH/7wh1b7FGqwYsWKJtfR/CPD6aefnuszZcqUQpdt9Vxb+UQX1Ph70uY0xgMBCEBA431um8gzk/5YjfndV6awkMzAAhZCQBR1AQshIIq6gIUQEOWuqTSalWoZCGjAS8qSo/71X/81t9nCxq7febUbq9G9VI888sh2Bfv+++/n7re6xRZbxP7mZruC8LxzNSbstm5cLlq0KPePNeecc06rRH/2s5/l/r7bb/jab/zGOe6///7cdYYPH666xPe///1cH/vjbXGOtvKJ3kPj72WYVrgkBCAAgaoS0Hif2ybyzKQ/VmN+95UpLCQzsICFEBBFXcBCCIiiLmAhBES5ayqNruoiMalvrgEvKUuOYmM3nFz+8pe/zG2MXXXVVdnA7Tdtb7/9dnPuuecau7F36623mueee87YTeCWjnnz5uWu9fWvf71Z03Xr1pkXX3zRvP32281eS8uJakzYcTcuNTmxt084/PDDc3k/9thjNd0KtmloaMhdx94eRHMsXbo018f+cGOcIy4fjb8ndW5jXBCAQHoJaLzPbRPHl0PsU4353VdOsJDMwAIWQkAUdQELISCKuoCFEBDlrqk0Or0r1DKOXANeUpYcxcZuOLm8++67cxtjd911lzn55JNzz93Jxeott9zS/PSnPy06uJtuuinX99prr822+8///E9z5plnmp122in3bV57rc0339zY2zb84he/KHq9JL7gMq3U+OJuXLYW38cff2wuuOCCXM4HDBhg3njjjda6FX39G9/4Ru5amm8K2wv993//d66PZWtjausRl4/G38s4vXBpCEAAAlUhoPE+t01bPTnU9tWY331lBQvJDCxgIQREURewEAKiqAtYCAFR7ppKo6uyOEz6m2rAS8qSo9jYDSeXF110UW5jrGPHjjntTiz5+uijjy743+1nzJiR6z937lxjf0jN/tf8/P7uc3sbiMsuu8xs2LAhHGjtiNQdezsu06aucTcu89/kgw8+MLfccouZOXOmsd/Idn+4bOzYsbHvrRu9zwknnJCrFe0P6f3pT3/K9bFs7e1A2nrE5aPx96TPcYwPAhBIHwGN97lt2urJobavxvzuKytYSGZgAQshIIq6gIUQEEVdwEIIiHLXVBqdvpVpBUasAS8pS45iYzecXE6YMKHJxti+++6bvfXCq6++mv324/Lly813vvOdJpt4dtKx387NP0499dTctS699FJTV1eXfd69e/fsf9e/+uqrjf0mr/1v9u6moL2e9hua+e8Z2vNqTNhxNy7z2dpbdLjxR9r+WOKbb76Z37zNz+0/GETXvPLKK1X9//znP+f62L5xbvMRl4/G3yswzfAWEIAABCpKQON9bhuVmSegUTR/2ce0H7CQCoAFLISAKOoCFkJAFHUBCyEgyl1TaXRFF4VpeTMNeElZchQbu+Hk0t4SIZpE7Ld3i/3wlf225v77759r27VrV7Nq1aomA7U/lBddK3rcc889m7Wznew3LQ866KBc+9raWvPKK680uV4Sn0Rc7GOljrgbl/nxFdvYtWOxm/j2/rr2Pspxj3/8x3/M1UN0v+fWrvW///u/uT42jji3gojLR+PvaZnrGCcEIJAeAhrvc9u05uNJeb0a87uv7GAhmYEFLISAKOoCFkJAFHUBCyEgyl1TaXR6VqQVHKkGvKQsOYqN3TByaTdxn3nmGTN//nzz5JNPthq0/W/u9geqoknH3l/VPfbbb7/ca7bNoEGDzKeffuo2aaLt+48cOTLXx270Jv2I2NnHSh1xNy7z47O3y/joo4/MF198Yd55551s7eRv5uNcDG8AACAASURBVO+9997mk08+ye+qen7UUUflauHyyy9X9fnjH/+Y62OZvvXWW6p+bqO4fDT+XsHphreCAAQgUBECGu9z27h+m2RdjfndV56wkMzAAhZCQBR1AQshIIq6gIUQEOWuqTS6IovBtL2JBrykLDmKjd3k5DJ/JNddd11uI238+PFNXnY35uzEdN999zV5vdCTRx99NHc9e4/fpN9rtxoTdtyNy0L5KnTuBz/4QS6Hdnw333xzoWatnjv++ONz17G38tAcv//973N97Htzj920zbKMFwIQqDQBzdrWbaPx8iS0qcb87is3WEhmYAELISCKuoCFEBBFXcBCCIhy11QaXel1YSreTwNeUpYcxcZucnKZP5LFixfnNtJ69+7d5OUzzjgj95qdmOx/k2/tsN/odSexlStXttYl6NfdsVZqIOXe2LXjsD+mFo1t2223jTW0008/PXeN8847T3WN//mf/8n1se+/du1aVT+3UVw+Gn9PxUTHICEAgVQR0Hif28b12yTraA60j2k/YCEVAAtYCAFR1AUshIAo6gIWQkCUu6bS6FQtSis1WA14SVlyFBu7ycll/kjsvXHdSWf16tW5JtOnT8+9tsUWW+TOtybsj29F17Tf4E3yEY3TPlbqiLtx2Zb4Fi1alMuhHZu9ZUNbD/uDaRGfiRMnqro/9dRTuT7dunVT9clvFJePxt8rNdfwPhCAAAQsge9973tbTZ48edaIESN+M3To0FeOPPLImd/97ne3LSUdjfe5bfI9N6nPo/mrkvO7ryxhIZmBBSyEgCjqAhZCQBR1AQshIMpdU2l0Kdd8XGsTAQ14SVlyFBu7ycll/kh+97vf5TbS7ORjf1QtOmy9RxOSvb+u9rDf8Iz6Pf7449puQbaLxmkfK3W0dePysMMOM7vsskv2j/1GrOb485//nMuhHdtrr72m6dakjXtLB7vZrzluvPHG3PvuuOOOmi7N2rSVT3QBjb8zGUIAAhCoBAFjTM0+++xzpTvH1NTU5Pxx9OjRcxcvXtyhFLFovM9tE3lm0h9d9kkfa2vjg4UQggUshIAo6gIWQkAUdQELISDKXVNpdCnWelwjj4AGvKQsOYqN3TByOWPGjNwG3k9/+lNV0G5u+/Xr16SP/eEqd0Jat25dk9cLPVm/fr1xP3z+9re/LdQsMedcPpUaVFs3LidNmpTL4yOPPKIKc9WqVbk+Np9xvrH74osv5q5hOdnN4taOU089Nddn8uTJrTUv+Hpb+UQX0fh73pTAUwhAAAJlIXD66acfbX1zs802M3PnzjVr1qzJ3g7p4YcfNj179sz65BFHHPFYKd5c431um8gzk/5YjfndV6awkMzAAhZCQBR1AQshIIq6gIUQEOWuqTS6FGs9rpFHQANeUpYc5W7+HXroockZ2KaRJMV03W87TpkyRZWnSy65JLeRdtBBBzXrM2rUqNzrTzzxRLPX808sXLgw176urs589tln+U0S9bwatdPWjUv7w2VRnOeff76K/49+9KNcn+23317VJ7/RX//6V9OnT5/cdW699db8Jk2e23s4239ciGK1mxlxjrbyid5D4+95UwJPIQABCJScgDGmNpPJrLdeOH/+/Miico/PPfdczidfeumlwe0NQON9bptcIAkX0VxkH9N+wEIqABawEAKiqAtYCAFR1AUshIAod02l0e1d59G/AAENeElZchQbu2Hk0v2GZOfOnc0rr7zSYuD2v9d36NAh9wHxnnvuadb+n//5n3Ovjxw50nzxxRfN2kQnNm7caNyNYPvjWUk/qjFht3Xj8r777svlsGPHjsbefqOl4+OPPzZ2Mzca2ymnnNJS8xZfs32j62y++ebG3tO52HHhhRfm2tbW1rbYttg17Pm28omupfH3AtMCpyAAAQiUlMD1118/xPrmsGHDzJdffhlZVJPHPfbYI+uXl1122RntfXON97ltmgSS4CfR3GUf037AQioAFrAQAqKoC1gIAVHUBSyEgCh3TaXR7V3n0b8AAQ14SVlyFBu7YeTSfjvW3pc0mkSGDBlifv3rXxcM3m762o3aqO24ceMKfoC0t2Po27dvrt0xxxyT/e+g+Rf95JNPzEknnZRrZzcQ33777fxmiXse8bOPlTraunG5YcMGM3r06Fxudt55Z7Ny5cqC4b777rvmkEMOybW1/0Dw8ssvN2trb7HRpUuX3J/x48c3a2NP2L72m9sRJ1sjhf5xYOnSpU3a2VsyxD3ayid6H42/F5gWOAUBCECgpASOOeaYE61nfuMb34jsqdmjvfWSbbP//vvPa++ba7zPbdMsmISeiOYt+5j2AxZSAbCAhRAQRV3AQgiIoi5gIQREuWsqjW7vOo/+BQhowEvKkqPY2A0nl//93/9tevTokdtIs998tJtp9r/B29skfP/73zf2m7TuN3Xt5t2rr75adJC//OUvTdeuXXPXHDx4sLG3cHjwwQfNT37yE2M/YI4YMSL3up3ErrzyyqLXS9IL1Ziw42xc2g1+N+d2U/acc84xd9xxh3nyySezdXH22WdnN2rdMRX6FrfN33/91381yfeee+5ZNK2XX355k7b2W90333yzWbBggbn//vuNfV9383fgwIEF//Gg6BvkvRCHj72Ext8LTAucggAEIFBSArvuuuvN1odvuummPHeTp/fee2/WV7fddtvX2vvmGu9z20gUyVbuXJjskbY+OlgII1jAQgiIoi5gIQREURewEAKi3DWVRrd3nUf/AgQ04CVlyVFs7IaVS7th1r9//yabae7E4uoxY8YYzQ+c2U1hd2PQvYar7Yah/cCZlsMde6XGHHfj0v5w2oABA1R1YX+w55prrik6pLZs7P7lL38x9p7PLqtieuuttzb2liLtOeLy0fh7gWmBUxCAAARKSmDQoEG/sh5p/+Gr2PGzn/0s66mbbbbZ2va+ucb73DbFYkraeXeeStrY2joeWAgxWMBCCIiiLmAhBERRF7AQAqLcNZVGt3edR/8CBDTgJWXJUWzshpfLdevWmauuusr06tWr2YaavU3CLrvsYmbPnl3wv8UXG+3zzz+f/W/6NTU1za5pv3Fpf3yt2K0fil0z9PPVmLDjblxa1vb+ufbH1Hr37t0sh3Ys9pvZ9gfWVq9e3WJq2rKxG13IfjPY3v7Dfovc5Wa1rdMLLrjA2Lpt7xGXj8bfC0wLnIIABCBQUgL9+vX7wPrij3/846J2+POf/zzro7W1tRva++Ya73PbFA0qYS+481TChtbm4cBCkMECFkJAFHUBCyEgirqAhRAQ5a6pNLq96zz6FyCgAS8pQ4VCIOmm+4c//MHYX9G2HxLtLRc+//zzdqXGbvotW7bM2G+A2j+LFy82H374YbuuGWrnatRO3I3LfMb2h8zsvW0feuihbA5tnRT7oZ78vu15vn79+uwP+9l6fPbZZ83777/fnss16xuXj8bfC0wLnIIABCBQUgJ9+vTZaOeWhx9+uJm/RSeeeeaZ6B/IbNt2HRrvc9tEMST9sRrzu69MYSGZgQUshIAo6gIWQkAUdQELISDKXVNpdLsWeXQuTEADXlKGCoUAphtKpvyLsxq1E3fj0j965YkoLh+NvxeeGTgLAQhAoHQEBg4c+Gc7t9x3331FTfKJJ57Ibux26tTJtm3XofE+t03RoBL2QjXmd18RwkIyAwtYCAFR1AUshIAo6gIWQkCUu6bS6HYt8uhcmIAGvKQMFQoBTDeUTPkXZzVqJ+7GpX/0yhNRXD4afy88M3AWAhCAQOkIDBs2zP4gWvYHHYu5pP2fFrZN37597f1423VovM9tUyympJ2vxvzuK0NYSGZgAQshIIq6gIUQEEVdwEIIiHLXVBrdrkUenQsT0ICXlKFCIYDphpIp/+KsRu3E3bj0j155IorLR+PvhWcGzkIAAhAoHYGvfvWr99i5xd7vvNhxxRVXZDd2d99999vb+84a73PbFIspaeerMb/7yhAWkhlYwEIIiKIuYCEERFEXsBACotw1lUa3d51H/wIENOAlZahQCGC6oWTKvzirUTtxNy79o1eeiOLy0fh7gWmBUxCAQAII3H333b2mTJly2pAhQ57PZDL29gYf9OvX7/mJEyeeNX/+/C0qOcRLLrnkNDu37LvvvkVN8ogjjshu7E6ZMuWE9sam8T63TdGgEvZCNeZ3XxHCQjIDC1gIAVHUBSyEgCjqAhZCQJS7ptLo9q7z6F+AgAa8pAwVCgFMN5RM+RdnNWon7salf/TKE1FcPhp/LzAtcAoCEPCQwOLFi/sdcsghszp27Lg2k8m88fjjjw8tFKYxpubwww8/z/XyQnrkyJE3NDQ01Ba6RqnPPfXUUzbW7Mat/aHS/OO1114zdXV12dcfe+yxr7T3/TXe57bJjyepz6Mc2Me0H7CQCoAFLISAKOoCFkJAFHUBCyEgyl1TaXR713n0L0BAA15ShgqFAKYbSqb8i7MatRN349I/euWJKC4fjb8XmBY4BQEIeETAGFN76qmnXu56s9ULFy5cVCjMffbZpyG/bbHnw4cPf9RuBBe6TinP2THssMMO79s4Ro0aZRobG3Nm+c4772S/yWtfGzx48PJSxKPxPrdNLpiEC7cOEj7UVocHC0EEC1gIAVHUBSyEgCjqAhZCQJS7ptLoUq4xudYmAhrwkjJUKAQw3VAy5V+c1aiduBuX/tErT0Rx+Wj8nckQAhDwl4Axpu7MM89c4PpypBcsWLAuP/KrrrpqTPS69nGbbbaZlX+dcjx/6aWXBnTu3HlNFNfYsWPNfvvtZ2pqarLf1K2rq1u7bNmyHqV4b433uW3K49z+XTVibx/TfsBCKgAWsBACoqgLWAgBUdQFLISAKHdNpdGlWOtxjTwCGvCSMlQoBDDdUDLlX5zVqJ24G5f+0StPRHH5aPw9b0rgKQQg4AkB+83Vc889d57rya5euHDhBjdU+63Ynj175jZO3bat6f3333+ce61y6fnz59fts88+42pra+2Pqdlv8K6pqalZtPvuux+/YsWKjqV6X433uW3K49z+XdWtA/+iq2xEsBDesICFEBBFXcBCCIiiLmAhBES5ayqNLtV6j+s4BDTgJWWoUAhguqFkyr84q1E7cTcu/aNXnoji8tH4uzMdICEAAY8IPP/883u5fpyvFyxY8K4bbkNDwwH5bdrwfP3KlSs7udcLWWu8z21THuf276puPfgXXWUjgoXwhgUshIAo6gIWQkAUdQELISDKXVNpdMhrTG9j14CXlKFCIYDphpIp/+KsRu3E3bj0j155IorLR+Pv3k5OBAaBlBM46aSTfuP6cb5euHDhzS6iESNG/Da/TVueT58+/VL3eiFrjfe5bcrj3P5d1a0H/6KrbESwEN6wgIUQEEVdwEIIiKIuYCEERLlrKo0OeY3pbewa8JIyVCgEMN1QMuVfnNWonbgbl/7RK09Ecflo/N3byYnAIJBiAsaYTl26dMnee9b1ZFcvWLBgeITotdde6+2+Vkh36tSpxev1799/ozGmQ3TNkB813ue2KY9z+3dVty78i66yEcFCeMMCFkJAFHUBCyEgirqAhRAQ5a6pNDrkNaa3sWvAS8pQoRDAdEPJlH9xVqN24m5c+kevPBHF5aPxd28nJwKDQIoJ3HbbbVu4Xuzq0aNHmyuuuOIEF8+dd955uNvG1XaDeN68eW/+3//938jGxsadpk2bVvSbvYsXL97ZvW6oWuN9bpvyOLd/V3Xrwr/oKhsRLIQ3LGAhBERRF7AQAqKoC1gIAVHumkqjQ11feh23BrykDBUKAUw3lEz5F2c1aifuxqV/9MoTUVw+Gn/3eoIiOAiklMBpp5021PXiSB9zzDHm888/H5mP5bjjjns8apP/eN11120wxnSP+thv5Z577rlv5rezzx944IGLo3YhP2q8z21THuf276puzv2LrrIRwUJ4wwIWQkAUdQELISCKuoCFEBDlrqk0OuQ1prexa8BLylChEMB0Q8mUf3FWo3byNy55vo1piYG2ajT+7u3kRGAQSDGBr371q7u4Xmx1t27dzCeffPKdfCzGmNrBgwcXvM3CwIED7UbwlPw+77777oTa2tpmfW644Qa7QRz8ofE+t43WU0Nv59ZU6GNpb/ywEIKwgIUQEEVdwEIIiKIuYCEERLlrKo0OfqHp4wA04CVlqFAIYLqhZMq/OKtROy1tYvJa801ebdVo/N3HeYmYIJB2AjvssMMY14utPumkk+xf/a3y2bz99tsD89tGz88991zbp1N+H2NMt7Fjxzbb2L300kvfyW8b4nON97lttJ4aeruoLuxj2g9YSAXAAhZCQBR1AQshIIq6gIUQEOWuqTQ6xLWl9zFrwEvKUKEQwHRDyZR/cVajdti8bb552xITbdVo/N37SYoAIZBCAn379t3T9WKrr7/+evtXvy4fx/z584/Jbxs9f+aZZ27Jb2+f2+uceOKJzTZ2jzvuuPWF2od2TuN9bhutp4beLqqLv5dA6KNpX/ywEH6wgIUQEEVdwEIIiKIuYCEERLlrKo0ObV0ZRLwa8JIyVCgEMN1QMuVfnNWonZY2MXmt+aavtmo0/h7EREWQEEgfgbGuF1v9wAMPfFIIw3nnnbciv619bn807bPPPtu+UB+7sXvaaac129g9/PDDC75HoWv4fE7jfW4braeG3s6tk9DH0t74YSEEYQELISCKuoCFEBBFXcBCCIhy11Qa7fMaMtjYNOAlZahQCGC6oWTKvzipHf9yEjcijb8HO3kROAQSTKBnz57NNnbvu+++d/OHbIzpNXz48GYbtNbHJ0yYYK2j2Td87TXsrRgOOOCAZv3OOeec3+W/R4jPNd7ntonrsaH1Y36XjMECFkJAFHUBCyEgirqAhRAQRV0IC3dNpdEhri29j1kDXlKGCoUARhNKpvyLk9rxLydxI9L4u/eTFAFCIIUEhg4d2uweuzNnzrRWUOPiWLly5XTXs1195ZVXPuC2dbUxZhf7w2pue6sbGhoectuFqjXe57aJ67Gh9XPzHVrspY4XFkIUFrAQAqKoC1gIAVHUBSyEgCh3TaXRoa4vvY5bA15ShgqFAKYbSqb8i5Pa8S8ncSPS+LvXExTBQSClBMaPHz/a9WKr99tvP2sF/SIkxpjekydPbrY5G/X7+c9/PiFqm/84f/7826N27uM999wzJb9tiM813ue2ieuxofVzcx1a7KWOFxZCFBawEAKiqAtYCAFR1AUshIAod02l0SGuLb2PWQNeUoYKhQCmG0qm/IuT2vEvJ3Ej0vi795MUAUIghQSOPfbY4a4XR/qOO+54zhizxV/+8pdtb7/99rei8/mPHTt2tLbRtRC6devW9d15550LbggvWLDAvm/wh8b73DZxPTa0fm6dhBZ7qeOFhRCFBSyEgCjqAhZCQBR1AQshIMpdU2l08AtNHwegAS8pQ4VCANMNJVP+xUnt+JeTuBFp/N3HeYmYIJB2Ag0NDQNdL3b1gAEDTP/+/QtuzEbtJkyY8KtCDF955ZUtdtxxx4IbwrW1tWblypWdCvUL7ZzG+9w2cT02tH5RfdjHtB+wkAqABSyEgCjqAhZCQBR1AQshIMpdU2l0aOvKIOLVgJeUoUIhgOmGkin/4qR2/MtJ3Ig0/h7EREWQEEgZgbfffruL68Vt1ddee+0kF9mPfvSjbQYMGLC+petMmjTpHrdPyFrjfW6buB4bWj83/6HFXup4YSFEYQELISCKuoCFEBBFXcBCCIhy11QaHfIa09vYNeAlZahQCGC6oWTKvzipHf9yEjcijb97OzkRGARSTmDs2LFvun7cFt3Y2NjZxdfQ0GA3bVv8lu+//uu/jnD7hKw13ue2ieuxofVzayC02EsdLyyEKCxgIQREURewEAKiqAtYCAFR7ppKo0NeY3obuwa8pAwVCgFMN5RM+RcnteNfTuJGpPF3bycnAoNAygncdttt+7t+rNWTJk26Nh/d1VdfXfD2C9E1BwwY8IIxpia/X6jPNd7ntonrsaH1i/JtH9N+wEIqABawEAKiqAtYCAFR1AUshIAod02l0aGuL72OWwNeUoYKhQCmG0qm/IuT2vEvJ3Ej0vi71xMUwUEgxQTsRuvIkSMfcD1Zo5999tle+dgaGho2tNR39uzZg/L7hPxc431um7geG1o/twZCi73U8cJCiMICFkJAFHUBCyEgirqAhRAQ5a6pNDrkNaa3sWvAS8pQoRDAdEPJlH9xUjv+5SRuRBp/93ZyIjAIQMB+rbJ2++23f8T15Zb01772tW8VwtbSxu60adMuLtQn5HMa73PbxPXY0Pq5tRNa7KWOFxZCFBawEAKiqAtYCAFR1AUshIAod02l0SGvMb2NXQNeUoYKhQCmG0qm/IuT2vEvJ3Ej0vi7t5MTgUEAAlkC9pu7Q4cOPdv15kL6lFNOmW83ggthu/rqq98v1Oeyyy77XpJuwRCNXeN9bpu4HhtaP7cGQou91PHCQojCAhZCQBR1AQshIIq6gIUQEOWuqTQ6Wq/xWEICGvCSMlQoBDDdUDLlX5zUjn85iRuRxt9LOJ1wKQhAoIwEGhoaum+11VZnZDKZdyKf7tSpk9l3332fv/7668e0tEHb0NDwcNTHPnbr1s3MmjXrwpb6lHEoZb+0xvvcNnE9NrR+bg2EFnup44WFEIUFLISAKOoCFkJAFHUBCyEgyl1TaXTZF4JpfAMNeEkZKhQCmG4omfIvTmrHv5zEjUjj72mc9xgzBEInYIypmz9/fqdi39DNH9/111+/7c477/ynY4455o3vfve70z/66KPe+W2S9FzjfW6buB4bWj/md8kYLGAhBERRF7AQAqKoC1gIAVHUhbBw11QanaQ1pzdj0YCXlKFCIYDRhJIp/+KkdvzLSdyINP7uzWREIBCAAARKREDjfW6buB4bWj/md8kYLGAhBERRF7AQAqKoC1gIAVHUhbBw11QaXaLlHpdxCWjAS8pQoRDAaELJlH9xUjv+5SRuRBp/d+cDNAQg4AeB5cuXj3366aeXPf3008uffvrph59++umGZ5555qhnn322lx8R+h2FxvvcNnE9NrR+zO+SMVjAQgiIoi5gIQREURewEAKiqAth4a6pNNrvVWSg0WnAS8pQoRDAaELJlH9xUjv+5SRuRBp/D3TqImwIJJrA1ltv/Zbrxa4+77zz+id68CUYnMb73DYuX3TGwAAG1AA1QA1QA9QANaCtAXdNpdElWOpxiXwCGvBxNxXoVz0C7l/C6kXBO4dIgNoJMWuFY9b4e/6cwHMIQKD6BGpraze6XuzqmTNnXln9CP2OQON9bhuXL5oPstQANUANUAPUADVADehrwF1TabTfq8hAo9OAL7xlwFmfCbhG5HOcxOYfAWrHv5zEjUjj74FOXYQNgUQT2Hrrrd9xvdjVc+bMsa9xtEBA431uG5cvWv9BDlawogaoAWqAGqAGqAF3TaXRLSzheCkuAQ34uJsK9KseAddgqxcF7xwiAWonxKwVjlnj73HnDvpBAALlI3DIIYdc7Xqxq8866yz7F76ufO8e/pU13ue2KeygyTvr1lHyRte2EcFCeMECFkJAFHUBCyEgirqAhRAQ5a6pNDr8laaHI9CAl5ShQiGA6YaSKf/ipHb8y0nciDT+7uG0REgQSD2Bb37zm0NcL3b17rvvbi2hX+ohtQBA431um7geG1o/t45Ci73U8cJCiMICFkJAFHUBCyEgirqAhRAQ5a6pNLqFJRwvxSWgAS8pQ4VCANMNJVP+xUnt+JeTuBFp/D3u3EE/CECgfASMMTWdO3d+xfXjSHfq1Ml89tlnR5bv3cO/ssb73DZxPTa0flEN2ce0H7CQCoAFLISAKOoCFkJAFHUBCyEgyl1TaXT4K00PR6ABLylDhUIA0w0lU/7FSe34l5O4EWn83cNpiZAgAIFMJnPxxRcPdf3Y1fPnz3/Dbv4CqjABjfe5beJ6bGj93BoKLfZSxwsLIQoLWAgBUdQFLISAKOoCFkJAlLum0ujCqzfOtouABrykDBUKAUw3lEz5Fye1419O4kak8fd2TSB0hgAEykpg++23v8z15Ej36NHDrFy5km/tFqGv8T63TVyPDa1fVD/2Me0HLKQCYAELISCKuoCFEBBFXcBCCIhy11QaXWT5xun2ENCAl5ShQiGA6YaSKf/ipHb8y0nciDT+3p75g74QgEB5CTQ0NNRuueWWC1xfjvTQoUPN+++/fyTf3G2eA433uW3iemxo/aLasY9pP2AhFQALWAgBUdQFLISAKOoCFkJAlLum0ujmKzfOtJuABrykDBUKAUw3lEz5Fye1419O4kak8fd2TyJcAAIQKCuBFStWdBw3btwbrjdHunPnzubMM8/808qVKy8yxuxsjOljjOlijKmzG75p3fTVeJ/bJq7HhtYvqhv7mPYDFlIBsICFEBBFXcBCCIiiLmAhBES5ayqNLuvCOa0X14CXlKFCIYDphpIp/+KkdvzLSdyINP6e1rmPcUMgJAJ//vOfe15//fXr7Uau69GRrqmpMSNHjjQTJ040Z5xxhrnyyivNtdde2+Y/ITFpKVaN97lt4npsaP2ierGPaT9gIRUAC1gIAVHUBSyEgCjqAhZCQJS7ptLoltZwvBaTgAa8pAwVCgFMN5RM+RcnteNfTuJGpPH3mFMH3SAAgTISWLp06dhMJvOu68cV0mUcVeUurfE+t01cjw2tn1tDocVe6nhhIURhAQshIIq6gIUQEEVdwEIIiHLXVBpduRVhit5JA15ShgqFAKYbSqb8i5Pa8S8ncSPS+HuKpjuGCoFgCCxZsmSp68UV1MEwailQjfe5beJ6bGj93DoKLfZSxwsLIQoLWAgBUdQFLISAKOoCFkJAlLum0uiW1nC8FpOABrykDBUKAUw3lEz5Fye1419O4kak8feYUwfdIACBMhJYsmTJMteLK6jLOKrKXVrjfW6buB4bWj+3jkKLvdTxwkKIwgIWQkAUdQELX9uEVgAAIABJREFUISCKuoCFEBDlrqk0unIrwhS9kwa8pMw/9Ze//MV06dIl9+crX/lKi0GuWrUq19b2GzNmTIvtly1b1qT94Ycf3mJ7X15Mi+mS/9JXXJJqJ+31ofH3FE13DBUCwRBYunTpw64XV1AHw6ilQDXe57Yp/Uzq5xXdOvIzwspFBQthDQtYCAFR1AUshIAo6gIWQkCUu6bS6JbWcLwWk4AGvKTMP2U3blyD6d27d4tBvvnmm03a77TTTi22X7p0aZP2hxxySIvtfXnRZeJLTOWIg/yXnmqSaift9aHx95hTB90gAIEyEli6dOm1rhdXUJdxVJW7tMb73Daln0n9vKJbR35GWLmoYCGsYQELISCKuoCFEBBFXcBCCIhy11QaXbkVYYreSQNeUuafSvvGTbGMpMV0yX+xCoh/Pkm1k/b60Ph7iqY7hgqBYAgsWbLkXNeLK6iDYdRSoBrvc9vEnzHD6unWUViRlz5aWAhTWMBCCIiiLmAhBERRF7AQAqLcNZVGt7SG47WYBDTgJWX+qbRv3BTLSFpMl/wXq4D455NUO2mvD42/x5w66AYBCJSRwAsvvHCE68UV1GUcVeUurfE+t038GTOsnm4dhRV56aOFhTCFBSyEgCjqAhZCQBR1AQshIMpdU2l05VaEKXonDXhJGSoUAphuKJnyL05qx7+cxI1I4+8pmu4YKgSCIdDY2Nhz2rRp4+vr6w+cNm3axPr6+n+YNm3a0VOnTj1+2rRpU6ZOnXrG1KlTz5s6deo/1dfXT586deqV06ZNm1VfXz+nvr7+9vr6+h/W19c/NHXq1Mfq6+ufrK+vf37q1Kkv1dfXvzZ16tQ36uvr36+vr19bX1+/ob6+3kR/ggHUSqAa73PbxPXY0Poxv0vGYAELISCKuoCFEBBFXcBCCIiiLoSFu6bS6FaWcbwch4AGvKQMFQoBjCaUTPkXJ7XjX07iRqTx9zjzBn0gAIHkETDG1CRlVBrvc9vE9djQ+jG/S8ZgAQshIIq6gIUQEEVdwEIIiKIuhIW7ptLopKw3vRqHBrykDBUKAYwmlEz5Fye1419O4kak8XevJiSCgQAEIFACAhrvc9vE9djQ+jG/S8ZgAQshIIq6gIUQEEVdwEIIiKIuhIW7ptLoEiz1uEQ+AQ14SRkqFAIYTSiZ8i9Oase/nMSNSOPv+XMCzyEAAQiETkDjfW6buB4bWj/md8kYLGAhBERRF7AQAqKoC1gIAVHUhbBw11QaHfo608v4NeAlZahQCGA0oWTKvzipHf9yEjcijb97OTERFAQgAIF2ENB4n9smrseG1o/5XTIGC1gIAVHUBSyEgCjqAhZCQBR1ISzcNZVGt2OJR9diBDTgJWWoUAhgNKFkyr84qR3/chI3Io2/F5sbOA8BCPhNwN4Td926df3+/d///ZC77rrrxksuuWTR8ccf/9bXvva1tZMnT16/fPnyjX6PoHzRabzPbRPXY0Prx/wuGYMFLISAKOoCFkJAFHUBCyEgiroQFu6aSqPLtwJM8ZU14CVlqFAIYDShZMq/OKkd/3ISNyKNv6d4+mPoEAiSgDGm9oknnph44oknvtO1a1fjerarH330Ufta7hg0aNBpN9988zxjTN/cyYQKjfe5beJ6bGj93PoILfZSxwsLIQoLWAgBUdQFLISAKOoCFkJAlLum0uiELj+rOywNeEkZKhQCmG4omfIvTmrHv5zEjUjj79WdgXh3CECgLQSeffbZkTvssMOfXJ8upvM3djOZzK9s2379+pnZs2cf05b3Da2txvvcNnE9NrR+bq2EFnup44WFEIUFLISAKOoCFkJAFHUBCyEgyl1TaXRo68og4tWAl5ShQiGA6YaSKf/ipHb8y0nciDT+HsRERZAQSDkBe9uF448//jLXn1vTBTZ2P3D7bLfddjPtdZOIVuN9bpu4HhtaPzf/ocVe6nhhIURhAQshIIq6gIUQEEVdwEIIiHLXVBqdxLVn1cekAS8pQ4VCANMNJVP+xUnt+JeTuBFp/L3qkxABQAACLRKwm6977bXXXa43a3SBjd3f5PcbMmTId5K4uavxPrdNXI8NrZ+b/9BiL3W8sBCisICFEBBFXcBCCIiiLmAhBES5ayqNbnHhy4vxCGjAS8pQoRDAdEPJlH9xUjv+5SRuRBp/jzdz0AsCEKgUgV122eUq15e1usDG7p2F+g4fPnx6pcZSqffReJ/bJq7HhtbPzX9osZc6XlgIUVjAQgiIoi5gIQREURewEAKi3DWVRldqPZiq99GAl5ShQiGA6YaSKf/ipHb8y0nciDT+nqoJj8FCIDACF1544e6uJ7dFF9jYnVys/1FHHbVPYGhaDFfjfW6buB4bWj83/6HFXup4YSFEYQELISCKuoCFEBBFXcBCCIhy11Qa3eIijhfjEdCAl5ShQiGA6YaSKf/ipHb8y0nciDT+Hm/moBcEIFBuAosXL+5QU1OzzvXktugCG7tfKda/trZ2w9tvv92l3GMqdn1jTMe999571uDBgzcr1qYt5zXe57aJ67Gh9XPzH1rspY4XFkIUFrAQAqKoC1gIAVHUBSyEgCh3TaXRbVnT0VZJQANeUoYKhQCmG0qm/IuT2vEvJ3Ej0vi7cqqgGQQgUGEC48aNO9n140J6+PDh5tJLLzX2Mf/1/I1dey/dUaNG/S6/XfS8vr7+8goPMft2xpgOy5YtW74pjiNLEYPG+9w2cT02tH5Rru1j2g9YSAXAAhZCQBR1AQshIIq6gIUQEOWuqTS6FGs9rpFHQANeUoYKhQCmG0qm/IuT2vEvJ3Ej0vh73pTAUwhAwAMCDQ0NtZlMZq3rx67ea6+9zK9//eucNYwfP77VjV07rNWrV+8wZMiQZm3ttXv27LnRbrJWavh2o9kY85Unn3xyRe/evaOYbijF+2u8z22TA5lw4dZQwofa6vBgIYhgAQshIIq6gIUQEEVdwEIIiHLXVBpdirUe18gjoAEvKUOFQgDTDSVT/sVJ7fiXk7gRafw9b0rgKQQg4AGB66+/flvXi109depUs3Gj3YOVQ7uxa4f2i1/84gn3eq5esmTJ8EoMf/bs2d879thjN2y11VbRhm70uKAU76/xPreNkEy2cnOd7JG2PjpYCCNYwEIIiKIuYCEERFEXsBACotw1lUaXYq3HNfIIaMBLylChEMB0Q8mUf3FSO/7lJG5EGn/PmxJ4CgEIeEBg0qRJZ7heHOmdd97ZfP75580soS0bu8aY3ceOHRttpDZ5nDdvnn3fsh977LHHzplM5oNoXM7jb0rx5hrvc9s0A5rQEw7nhI5QPyxYCCtYwEIIiKIuYCEERFEXsBACotw1lUaXYq3HNfIIaMBLylChEMB0Q8mUf3FSO/7lJG5EGn/PmxJ4CgEIeEBgp512etT14kg/8MADBe2gjRu73a+55pomG7rR9WfNmnVXpYZvb8Xw6quvdnvzzTdPfPbZZ6N43i/F+2u8z21TEGoCT0Z5to9pP2AhFQALWAgBUdQFLISAKOoCFkJAlLum0uhSrPW4Rh4BDXhJGSoUAphuKJnyL05qx7+cxI1I4+95UwJPIQABDwj07t17jevFkX755ZcL2kEbN3ZrH3rooWgjtcnjN77xjWXVGH5jY+P8TWP8pBTvr/E+t01BqAk8GdWRfUz7AQupAFjAQgiIoi5gIQREURewEAKi3DWVRpdircc18ghowEvKUKEQwHRDyZR/cVI7/uUkbkQaf8+bEngKAQj4QaDJhmvky2vXri1oB8U2du23YvOHY8898cQTBa//D//wD6/lt6/E88bGxkmbxrihFO+n8T63TUGoCTwZ1ZF9TPsBC6kAWMBCCIiiLmAhBERRF7AQAqLcNZVGl2KtxzXyCGjAS8pQoRDAdEPJlH9xUjv+5SRuRBp/z5sSeAoBCHhAoGfPnhtdL470b3/724J20MaN3Y7f+c53Cm7snnTSSc9XY/irVq0aEY2xFO+v8T63TUGoCTzpME7g6No2JFgIL1jAQgiIoi5gIQREURewEAKi3DWVRpdircc18ghowEvKUKEQwHRDyZR/cVI7/uUkbkQaf8+bEngKAQh4QGD48OHLXS+O9P3331/QDlrY2K3LH44xZsB5551XcGP3n/7pnyp2j103rrfeemvApjHaDe12Hxrvc9sUhJrAk1Ed2ce0H7CQCoAFLISAKOoCFkJAFHUBCyEgyl1TaXS7F3pcoDkBDXhJGSoUAphuKJnyL05qx7+cxI1I4+/NZwXOQAAC1SZw4IEHXud6caQvvPDCgnbQwsZu5/yxbNiw4fThw4cX3Ni97rrrvp7fvhLPV61a1WvTGNeX4v003ue2KQg1gSejOrKPaT9gIRUAC1gIAVHUBSyEgCjqAhZCQJS7ptLoUqz1uEYeAQ14SRkqFAKYbiiZ8i9Oase/nMSNSOPveVMCTyEAAQ8INDQ07ON6caS7d+9uVq5c2cwSWtjY7e0OxxjT+cYbb7SbpwU3dpcsWTLSbV8p/d577222KaYPSvGeGu9z2zQDmtATbt4TOkT1sGAhqGABCyEgirqAhRAQRV3AQgiIctdUGl2KtR7XyCOgAS8pQ4VCANMNJVP+xUnt+JeTuBFp/D1vSuApBCDgAYFXX321m+vFrh4xYoT5+OOPm9hCCxu7u0XDMcZ0XLRo0Qt2c9i9XqS7detmr9kxal/Jx03va+MqyY+3abzPbdMEZoKfRLm2j2k/YCEVAAtYCAFR1AUshIAo6gIWQkCUu6bS6EquMVPzXhrwkjJUKAQw3VAy5V+c1I5/OYkbkcbfUzPZMVAIBEZg6NChj7l+7OqtttrKzJ071/z1r3/N2kMLG7uPG2PqGhsbB59wwglvutfI10cdddR91UJkjKndFM+TpYhB431um7geG1o/N+ehxV7qeGEhRGEBCyEgirqAhRAQRV3AQgiIctdUGl2KtR7XyCOgAS8pQ4VCANMNJVP+xUnt+JeTuBFp/D1vSuApBCDgCYFHHnlkqOvHhXTfvn3NxIkTzYABA5p9C9du9o4dO9bYb+IW6pt/bsmSJVtVeegbMpnMLaWIQeN9bpu4HhtaPzfnocVe6nhhIURhAQshIIq6gIUQEEVdwEIIiHLXVBpdirUe18gjoAEvKUOFQgDTDSVT/sVJ7fiXk7gRafw9b0rgKQQg4BGBsWPHPux6crn0P/7jP871YNhLM5nM2aWIQ+N9bpu4HhtaP7d+Qou91PHCQojCAhZCQBR1AQshIIq6gIUQEOWuqTS6FGs9rpFHQANeUoYKhQCmG0qm/IuT2vEvJ3Ej0vh73pTAUwhAwCMC9kfFunfvvtb15VLrHj16fPL222938WDY385kMmNLEYfG+9w2cT02tH5u7YQWe6njhYUQhQUshIAo6gIWQkAUdQELISDKXVNpdCnWelwjj4AGvKQMFQoBTDeUTPkXJ7XjX07iRqTx97wpgacQgIBnBP7t3/5tq9raWtXtFFz/1ui6urqNTz311GBPhmxvPbFZKWLReJ/bJq7HhtbPrYnQYi91vLAQorCAhRAQRV3AQgiIoi5gIQREuWsqjS7FWo9r5BHQgJeUoUIhgOmGkin/4qR2/MtJ3Ig0/p43JfAUAhDwkMC99967VefOnde7/txe3alTp/X333+/3UxN3KHxPrdNXI8NrZ9bM6HFXup4YSFEYQELISCKuoCFEBBFXcBCCIhy11QanbiFpw8D0oCXlKFCIYDphpIp/+KkdvzLSdyINP7uwzxEDBCAQOsEVq5c2X3bbbd9xvXouHrbbbf91UsvvdSz9XcNs4XG+9w2cT02tH5uvYQWe6njhYUQhQUshIAo6gIWQkAUdQELISDKXVNpdJirS8+j1oCXlKFCIYDphpIp/+KkdvzLSdyINP7u+RRFeBCAgEPAGFMze/bsvfv27fum69Va3adPnz9dc801B9vrOJdNnNR4n9smrseG1s+tk9BiL3W8sBCisICFEBBFXcBCCIiiLmAhBES5ayqNTtzC04cBacBLylChEMB0Q8mUf3FSO/7lJG5EGn/3YR4iBghAoG0E7Mbs97///SGHH354Q/fu3de5vp2ve/Xqtf7II4+88Y477tgp6Ru6EUWN97lt4npsaP3c2ggt9lLHCwshCgtYCAFR1AUshIAo6gIWQkCUu6bS6Gi9xmMJCWjAS8pQoRDAdEPJlH9xUjv+5SRuRBp/L+F0wqUgAIEqEVi+fPlmixYt2vLBBx8cedttt+32yCOPjPz5z3++1YoVK7qmZTPXRa/xPrdNXI8NrR/zu2QMFrAQAqKoC1gIAVHUBSyEgCjqQli4ayqNdtds6BIR0ICXlKFCIYDRhJIp/+KkdvzLSdyINP5eoqmEy0AAAhDwhoDG+9w2cT02tH7M75IxWMBCCIiiLmAhBERRF7AQAqKoC2Hhrqk02psFY5IC0YCXlKFCIYDRhJIp/+KkdvzLSdyINP6epPmMsUAAAhCwBDTe57aJ67Gh9WN+l4zBAhZCQBR1AQshIIq6gIUQEEVdCAt3TaXRrFbLQEADXlKGCoUARhNKpvyLk9rxLydxI9L4exmmFS4JAQh4RKCxsbHzsmXLeixevLiLR2GVNRSN97lt4npsaP2Y3yVjsICFEBBFXcBCCIiiLmAhBERRF8LCXVNpdFkXgWm9uAa8pAwVCgGMJpRM+RcnteNfTuJGpPH3tM59jBsCoRIwxnS8++67O7YUv72v7rRp0yaOHTv2jY4dOxrH1/+0zTbbXDhnzpxuLfUP/TWN97lt4npsaP2cOggt9JLHCwtBCgtYCAFR1AUshIAo6gIWQkCUu6bS6NDXmV7GrwEvKUOFQgDTDSVT/sVJ7fiXk7gRafzdy4mJoCAAgWYEbr755j5Dhgx5KPLoxx9/fPNmjeyLxnTYfffdn4/aFXvs37//ecaY2kLXCP2cxvvcNnE9NrR+bi2EFnup44WFEIUFLISAKOoCFkJAFHUBCyEgyl1TaXTo60wv49eAl5ShQiGA6YaSKf/ipHb8y0nciDT+7uXERFAQgECOgP327QEHHHCK681W/+xnPzsq12iTsG2HDBmyNL9tsed9+/Z9aeXKlZ3yrxP6c433uW3iemxo/dw6CC32UscLCyEKC1gIAVHUBSyEgCjqAhZCQJS7ptLo0NeZXsavAS8pQ4VCANMNJVP+xUnt+JeTuBFp/N3LiYmgIACBLAH7jdqJEyfe5fpypBcsWNCQj+nCCy8cF72ufezVq9frxpi6/GuF/FzjfW6buB4bWj+3JkKLvdTxwkKIwgIWQkAUdQELISCKuoCFEBDlrqk0OuQ1prexa8BLylChEMB0Q8mUf3FSO/7lJG5EGn/3dnIiMAiknID99u2hhx5acFPX+vSCBQvsbRlyh23fuXPnN1wP1+pRo0bNyV0oAULjfW6buB4bWj+3HkKLvdTxwkKIwgIWQkAUdQELISCKuoCFEBDlrqk0OgFLTf+GoAEvKUOFQgDTDSVT/sVJ7fiXk7gRafzdv1mJiCAAAUvgsccem+D6cb5esGDBUy6piy66aLv8Nm15/tJLLw1wrxey1nif2yaux4bWz62H0GIvdbywEKKwgIUQEEVdwEIIiKIuYCEERLlrKo0OeY3pbewa8JIyVCgEMN1QMuVfnNSOfzmJG5HG372dnAgMAikncMQRR7zp+nG+/tnPfvZDF9HgwYPvyW/TlufnnHOO/XZwIg6N97lt4npsaP3ceggt9lLHCwshCgtYCAFR1AUshIAo6gIWQkCUu6bS6EQsNn0bhAa8pAwVCgFMN5RM+RcnteNfTuJGpPF33+Yk4oEABDIZY0yXuro64/pxvl64cOF+EavGxsbO+a/nPx86dKjp2rVr0Wv26NHDWk2H6JohP2q8z20T12ND6+fWRGixlzpeWAhRWMBCCIiiLmAhBERRF7AQAqLcNZVGh7zG9DZ2DXhJGSoUAphuKJnyL05qx7+cxI1I4+/eTk4EBoEUE7jxxhsHul7s6qOPPtrcf//959t76kaI5syZc4DbxtV9+vQx//Ef//GGMWaXTz/9dLd77rnn9ZqamoIbvIsWLRoeXTPkR433uW3iemxo/dy6CC32UscLCyEKC1gIAVHUBSyEgCjqAhZCQJS7ptLokNeY3sauAS8pQ4VCANMNJVP+xUnt+JeTuBFp/N3byYnAIJBiAieffLLdYG22+Tp16tQ1xpj++WiOOOKI5wu1t+fmzp271n4DOOpjv5V7zTXXFPyRtR/+8IfHRe1CftR4n9smrseG1s+tkdBiL3W8sBCisICFEBBFXcBCCIiiLmAhBES5ayqNDnmN6W3sGvCSMlQoBDDdUDLlX5zUjn85iRuRxt+9nZwIDAIpJrDffvuNcr3Y6r59+5oNGzbsmo/FGNOtX79+zTaBbZ8hQ4ZY+zgwv8+aNWv26NSpU7M+11577S35bUN8rvE+t01cjw2tn1tTocVe6nhhIURhAQshIIq6gIUQEEVdwEIIiHLXVBod4trS+5g14CVlqFAIYLqhZMq/OKkd/3ISNyKNv3s/SREgBFJIYIcddhjjerHVZ511lrWC3DdvIyxvvvnmoflto+fTpk37zBhTG7WNHo0xXSdMmNBsY/fCCy98ImoT8qPG+9w2cT02tH5RXdjHtB+wkAqABSyEgCjqAhZCQBR1AQshIMpdU2l0yGtMb2PXgJeUoUIhgOmGkin/4qR2/MtJ3Ig0/u7t5ERgEEgxgZ49e451vdjqOXPmWCto9uNm999//yv5baPnL7744uWFMBpjOp5yyinNNnYnT568olD70M5pvM9tE9djQ+sX1YV9TPsBC6kAWMBCCIiiLmAhBERRF7AQAqLcNZVGh7auDCJeDXhJGSoUAphuKJnyL05qx7+cxI1I4+9BTFQECYH0EWi2sTtv3jxrBZ1cFMaYLU499dRmG7TWx3v27Gk+++yzoW77SNvrTJkypVm/o446yt6rN/hD431um7geG1K/NSO2MfzRMQgpr6WIlXWfUIQFLISAKOoCFkJAFHUhLNw1lUYHv9D0cQAa8JIyVCgEMJpQMuVfnNSOfzmJG5HG332cl4gJAmkn0LNnzz1dL7Z67ty51gp6uWz+dmuGGwYNGtRsg9a2nzRpkm3f7Bu+tr/dEB4/fnyzfueff/589/qhao33uW3iemxI/djU1W3qWk5pO1yvSdvY88cLCyECC1gIAVHUBSyEgCh3TaXRoa4vvY5bA15ShgqFAKYbSqb8i5Pa8S8ncSPS+LvXExTBQSClBArdY/fb3/62tYLtIyTGmJ7Lli1rtjkbefjs2bMXRG3zHz///PNjevfu3azvrFmzvpXfNsTnGu9z28T12JD6sbHLxm6xeo08wz6m/YCFVAAsYCEERFEXsBACotw1lUaHuLb0PmYNeEkZKhQCmG4omfIvTmrHv5zEjUjj795PUgQIgRQSmDBhwi6uF1s9evRos3HjxsssDmNMjTHmsUI/gBb1e/HFF+2PqjU7bN+77777zaid+zh37tzDmnUI8ITG+9w2cT02pH5s7LKxW6xeXQ8o1iYt52EhmYYFLISAKOoCFkJAlLum0ugAl5b+h6wBLylDhUIA0w0lU/7FSe34l5O4EWn83f9ZigghkD4CJ5xwgr03brNv1F566aUbP/zwwwnvvffeLRdffHGz16M+Xbt2NWvWrOlRiFxjY+ORgwcPLth3wYIFgwr1Ce2cxvvcNnE9NqR+bOyysVusXiPfsI9pP2AhFQALWAgBUdQFLISAKHdNpdGhrSuDiFcDXlKGCoUAphtKpvyLk9rxLydxI9L4exATFUFCIGUEbrvtti1cL3Z1XV2d6dChQ8GN2ajdYYcdtiwf2fz58+seffTRw/v371+wb6dOnazV1OX3C/G5xvvcNhG3JD+ysavf2E1yHTC25v9gBhOYUAPUADXQvhpw11QaHeLa0vuYNeDjbirQr3oEXHOqXhS8c4gEqJ0Qs1Y4Zo2/ez9JESAEUkjAGNOptra24Aas69HF9M0337yfi+2mm24a09r1TjjhhO+5fULWGu9z2xTjmKTzbOyysZukemYs7duEgR/8qAFqoJQ14K6pNDrkNaa3sWvAF94y4KzPBNy/qD7HSWz+EaB2/MtJ3Ig0/u7t5ERgEEg5gYkTJ/7G9WOtrqur+2zx4sUdXHxXX3213bRtcaN40aJFw90+IWuN97ltWmOThNfZ2GVjNwl1zBha9nH4wIcaoAaqUQPumkqjQ15jehu7BnzcTQX6VY+A+xe6elHwziESoHZCzFrhmDX+7u3kRGAQSDmBBx98cC/Xj7X6pJNOOisfXUNDw29b6r/ddtv9xv6oWn6/UJ9rvM9tU9hBk3WWjV39xm6yMt/6aFxvaL11slvAQvILC1gIAVHUBSyEgCh3TaXRoa4vvY5bA15ShgqFAKYbSqb8i5Pa8S8ncSPS+LvXExTBQSDFBOxG60EHHTTP9eTWdE1NzfoVK1Z0zMf2z//8z+uK9a2pqTHz5s3bPr9PyM813ue2ieuxIfVjY5eN3WL16npDsTZpOQ8LyTQsYCEERFEXsBACotw1lUaHvMb0NnYNeEkZKhQCmG4omfIvTmrHv5zEjUjj795OTgQGAQjYn6iv23///Re5vtySvvzyy8cXwtbQ0LChUD+7qXvXXXfdUKhPyOc03ue2ieuxIfXTbuyGNKa2xgqDwsRcbyjcIj1nYSG5hgUshIAo6gIWQkCUu6bS6JDXmN7GrgEvKUOFQgDTDSVT/sVJ7fiXk7gRafzd28mJwCAAgSwBu7k7fvz477jeXEg3/O0ohuzqq69+P7+P3dS95557njDG1BbrF+p5jfe5beJ6bEj92NQ0BgaFK9b1hsIt0nMWFpJrWMBCCIiiLmAhBES5ayqNDnV96XXcGvCSMlQoBDDdUDLlX5zUjn85iRuRxt+9nqAIDgIQyBF4+OGHBxxwwAHf6Nmz59JMJmNvrbBh6NCh759xxhn8+iGUAAAgAElEQVQPPPbYY7u3dI/choaGh11vHzJkiPnxj388K4mbuhaYxvvcNnE9NqR+bGqysVusXl1vKNYmLedhIZmGBSyEgCjqAhZCQJS7ptLo3OIWUToCGvCSMlQoBDDdUDLlX5zUjn85iRuRxt9LN5twJQhAwFcCd95557aTJ0/+0ze/+c13FixYcLUxZqCvsZYiLo33uW3iemxI/djYZWO3WL2y7hMysICFEBBFXcBCCIiiLoSFu6bS6FKs9bhGHgENeEkZKhQCGE0omfIvTmrHv5zEjUjj73lTAk8hAAEIBE9A431um7geG1I/NnbZ2C1Wr6z7hAwsYCEERFEXsBACoqgLYeGuqTQ6+IWmjwPQgJeUoUIhgNGEkin/4qR2/MtJ3Ig0/u7jvERMEIAABNpDQON9bpu4HhtSPzZ22dgtVq+s+4QMLGAhBERRF7AQAqKoC2Hhrqk0uj1rPPoWIaABLylDhUIAowklU/7FSe34l5O4EWn8vcjUwGkIQAACwRLQeJ/bJq7HhtSPjV02dovVK+s+IQMLWAgBUdQFLISAKOpCWLhrKo0OdoHpc+Aa8JIyVCgEMJpQMuVfnNSOfzmJG5HG332en4gNAhCAQBwCGu9z28T12JD6sbHLxm6xemXdJ2RgAQshIIq6gIUQEEVdCAt3TaXRcdZ29GmFgAa8pAwVCgGMJpRM+RcnteNfTuJGpPH3VqYIXoYABKpE4OKLL+48e/bsPWbOnHnezJkzb585c+aCmTNnrpg5c+abM2fOXDNz5sx1s2bN+mzWrFkbZs6caUrxp0pDLfnbarzPbRPXY0Pqx8YuG7vF6pV1n5CBBSyEgCjqAhZCQBR1ISzcNZVGl3zhxwUzGQ14SRkqFAIYTSiZ8i9Oase/nMSNSOPvzIMQgIB/BJYsWTLS9eIKav9gxIhI431um7geG1I/NnbZ2C1Wr66/FGuTlvOwkEzDAhZCQBR1AQshIMpdU2l0jKUdXVojoAEvKUOFQgDTDSVT/sVJ7fiXk7gRafy9tTmC1yEAgcoTWLJkyWuuF1dQV36wZXhHjfe5beJ6bEj92NhlY7dYvbr+UqxNWs7DQjINC1gIAVHUBSyEgCh3TaXRZVj6cUkNeEkZKhQCmG4omfIvTmrHv5zEjUjj78yCEICAfwSWLFliXC+uoPYPRoyINN7ntonrsSH1Y2OXjd1i9er6S7E2aTkPC8k0LGAhBERRF7AQAqLcNZVGx1ja0aU1AhrwkrLw1Jdffmk+//zz8AJvZ8SYbjsBprg7tZOc5Gv8vbU5gtchAIHKE1i6dOk7rhdXSG+o/EjL844a73PbJMf1i4+EjV02dotVh+svxdqk5TwsJNOwgIUQEEVdwEIIiHLXVBpdntVfyq+qAS8pC0vZDd0TTzzRTJ482fz1r38NK/h2RovpthNgirtTO8lJvsbfUz4FMnwIeElgyZIlj7leXCH9lpcwYgSl8T63TXJcv/hI2NhlY7dYdbj+UqxNWs7DQjINC1gIAVHUBSyEgCh3TaXRMZZ2dGmNgAa8pCwcZTd1Dz744Nx/ZTz77LPDCb4EkWK6JYCY0ktQO8lJvMbfW5sjeB0CEKg8gaVLl17lenGF9D2VH2l53lHjfW6b5Lh+8ZGwscvGbrHqcP2lWJu0nIeFZBoWsBACoqgLWAgBUe6aSqPLs/pL+VU14CVlYanp06fnNnatCX37298OawDtiBbTbQe8lHeldpJTABp/T/kUyPAh4CWBJUuWHO96cQX0+kwms42XMGIEpfE+t01yXL/4SNjYZWO3WHW4/lKsTVrOw0IyDQtYCAFR1AUshIAod02l0TGWdnRpjYAGvKQsLGXvr3vaaac12dy95ZZbwhpEzGgx3Zjg6Nbk7ws4wiag8ffW5ghehwAEKk9g1apVvS677LKDL7vssqOnTZt22owZMy7+2z9WXz1jxozbZsyY8fCMGTOemzFjxmszZsxYM2PGDJP/54ILLsjehmrcuHFmu+22MzU1NU283a4R6urqzA9+8APT2Nj4aOVHWN531Hif2yZsp9dFz8YuG7vFKoXPDEIGFrAQAqKoC1gIAVHUhbBw11QaXd5VYEqvrgEvKQtPffHFF+aII47IfaCxH24eeuih8AbSxogxmjYCo3mOALWTQxG80Ph7Sqc+hg2BRBEwxtQYY+qMMZ2MMd2NMVsYY4YZYyYYYy58/fXXX7Cbvd27d8+th6zXd+jQwdx+++1rjTG1SQKi8T63TfBmrxgAG7ts7BYrE9Z9QgYWsBACoqgLWAgBUdSFsHDXVBqdpDWnN2PRgJeUhanWr19vxo8fn/sw07FjR/PUU0+FORhl1BiNEhTNmhGgdpohCfaExt+9mYwIBAIQKCsBu+n7X//1X+d169Yttx6K/P7OO++cVNY3r/DFNd7ntgnW5NsQOBu7bOwWK5fIB+xj2g9YSAXAAhZCQBR1AQshIMpdU2l0hZeF6Xg7DXhJWbhq7dq1ZtSoUbkPM127djXLly8Pd0CtRI7ptgKIl4sSoHaKognuBY2/p2OmY5QQgEBE4IEHHjjL9Xmru3Xr9okxpkPUJvRHjfe5bYIz9xgBs7HLxm6xsnH9oFibtJyHhWQaFrAQAqKoC1gIAVHumkqjQ19nehm/BrykLGy1evXq7L3mIkPq06eP+e1vfxv2oIpEH43RPnJAoC0EqJ220PK7rcbfvZyYCAoCECgbAWNMj969e+f+oTvy/GOPPdb+YFsiDo33uW38dvLSRMfGLhu7xSop8gA+M5gmvliMV1rOUxeSaVjAQgiIoi6Ehbum0uhELDZ9G4QGvKQsfNXY2Gj69++fm7gHDRpk3n777fAHljcCjCYPCE/VBKgdNSrvG2r83bc5iXggAIHyErD303VvTxV5fufOne23dmvK++6VubrG+9w23pt5CQJkY5eN3WJlFHmAfUz7AQupAFjAQgiIoi5gIQREuWsqja7MajBl76IBLylLhnrllVdMz549c5u7Q4YMMe+//34yBrdpFJhuotJZ0cFQOxXFXdY30/h7yqY8hguB1BOwm7fnnHNObg3kev599903MAmANN7ntimrEXtycTZ22dgtVoquBxRrk5bzsJBMwwIWQkAUdQELISDKXVNpdBLWmt6NQQNeUpYctXjxYtOlS5fcB5sdd9zRrFmzJjEDxHQTk8qKD4TaqTjysr2hxt+9m5QICAIQKCsB+43dyZMn59Y/rudffvnlFf8RNbvRPGfOnO0mT5582ZAhQ54cMWLEgqOPPvrie++9d4u4IDTe57Ypmwl7dGE2dtnYLVaOrgcUa5OW87CQTMMCFkJAFHUBCyEgyl1TaXTc9R39WiCgAS8pS5ZauHCh6dixY+7Dze67724++uijRAwS001EGqsyCGqnKtjL8qYaf29heuAlCEAggQTsPXaHDRuWW/u4nn/SSSdNq+SQGxsbO++yyy5PRTHU1tY2iWvMmDEXx4lH431um7IYsGcXZWOXjd1iJRn9/bOPaT9gIRUAC1gIAVHUBSyEgCh3TaXRcdZ29GmFgAa8pCx56ic/+YlxP0jY+859+umnwQ8U0w0+hVUbALVTNfQlf2ONv7cyRfAyBCCQMAK/+MUvzqqpqWmygRr5/qGHHnpjpYZrjKkbOXLk6/a97UbzokWLrvv88893+eCDDw687bbb3ujRo0c2xqOPPvqQtsak8T63TcnN18MLsrHLxm6xsoz+/tvHtB+wkAqABSyEgCjqAhZCQJS7ptLotq7raK8goAEvKUumuvfee437IWfixInms88+C3qwmG7Q6atq8NROVfGX9M01/q6YJmgCAQgkgIAxZrNXXnnl4t69exfc1LXef9JJJ11XqaHefffdx9n3tL958Mc//vFg933tpu9Pf/rTZzbNR+sXL17cwX29Na3xPrdNSY3X04uxscvGbrHSZN0nZGABCyEgirqAhRAQRV0IC3dNpdGtreN4PQYBDXhJWXLVrbfe2uSDztFHH22++OKLYAeM0QSbuqoHTu1UPQUlC0Dj7zGmDbpAAAJVJGDvSWv/zJ8/v84Y08EY08lu2q5Zs6bHxx9/3Oe9994b9OGHHw5/77339nr55Ze/9tRTT828/fbbXx83blyTdY7r9ZG+5JJLzqrU0CZPnrzCvu8ll1zyUqH3NMb06devXzbmefPmjS7Uptg5jfe5bUpmuh5fiI1dNnaLlWf0998+pv2AhVQALGAhBERRF7AQAqLcNZVGF1u/cb4dBDTgJWXJVrNnz27yoWfKlClm48aNQQ4a0w0ybV4ETe14kYaSBKHx93ZMH3SFAATKRGDJkiV3ZTKZRzKZjP3Wqt34fCOTyfzZ9edy6FtuuWWvMg2p2WXHjh2bHc+8efP2a/aiHZwxXUaOHJldl918883HFGpT7JzG+9w2JTFczy/Cxi4bu8VK1PWSYm3Sch4WkmlYwEIIiKIuYCEERLlrKo0utn7jfDsIaMBLypKvLrvssiabu+eee26Qg8Z0g0ybF0FTO16koSRBaPy9HdMHXSEAgTIRWLJkSZO1iOvL5dSvvvpqtzINqdllH3rooZPvvPPOm+23j5u9mMlkPv300yM6dOiQ5fD000/vWahNsXMa73PblMRwPb8IG7ts7BYrUddTirVJy3lYSKZhAQshIIq6gIUQEOWuqTS62PqN8+0goAEvKUuHOv/885t8oLrkkkuCGzimG1zKvAmY2vEmFe0OROPv7Zg+6AoBCJSJQDU2docMGbK0TMNp82WNMf0bGho22vmoV69e640xHdtyEY33uW3abbYBXICNXTZ2i5Up6z4hAwtYCAFR1AUshIAo6kJYuGsqjW7Lmo62SgIa8JKydKgvv/zSfP3rX2+yuVtfXx/U4DGaoNLlVbDUjlfpaFcwGn9XThU0gwAEKkigGhu7999//9AKDrHoWxlj/j97dwJv13T//z+zCLlpJILQmOcSUwlJo6QoNcdUX5WoKuWLNLRKtKhQQ03xVf1qWr+kqKb0K1VUKEqoEkpqnmKIkKCCkEjcrP9/3zp5r5Pcc/K5+559zlp7v/J49HE/uWcPaz8/n3zWOsvtuX0nTJjwYdeuXVvWYZdddtngigdXeMHS+/xj2tVoIzmZjV02diuVKus+yWCBhQQUURdYSEARdSELf01liSss3/h2ewQs8EpZcaLPPvvMHXbYYWWbu6eddlo0ADSaaFIV3ECpneBSknpAlv7envmDcxFAIBuBem/s7rnnnudl8yRtu+rcuXPXHzVq1CeleejEE0/8r7Zd4T9HW3qff0zqJhvRiWzssrFbqVxL/96Sr0X/g4UqAAssJKCIusBCAor8NZUlTrO245zlCFjglbJiRYsWLXIHHXRQ2ebumWeeGQUCTTeKNAU5SGonyLSkGpSlvy9niuBlBBBogEA9N3b32muvG5xznRrwmGW3vO+++3bZYIMNWtZc3bt3X3jZZZftWHZAG/5i6X3+MakabGQnsbHLxm6lkmXdJxkssJCAIuoCCwkooi5k4a+pLHEblnQcahWwwCtlxYsWLlzo9t9//7LN3bPPPjt4CBpN8CkKdoDUTrCpafPALP3dOldwHAII1E8g643dzp07u+HDhz9y//33D670y8vq97QdOhx//PEjO3bs2LLWGjp06MMvvvhiU3vub+l9/jFtbq4RnsDGLhu7lcqWdZ9ksMBCAoqoCywkoIi6kIW/prLE7VnjcW4FAQu8UlbM6NNPP3V777132ebu+eefHzQGjSbo9AQ9OGon6PS0aXCW/l5hauDbCCDQQIGpU6e6pqam1v7X3NTU9F5TU9OrvXr1mt7U1PRQU1PTX3r16nVzU1PThKampqt69ep1UVNT04+bmppG9ezZ8zvrrrvuwTvssMNuBx544JdPPPHE9S+99NJVnHNdGvh4ZbfecccdT0jmnd69e7uJEyeeUIufHrb0Pv+YNjXWSA9mY5eN3Uqly7pPMlhgIQFF1AUWElBEXcjCX1NZ4rKFIH+pjYAFXikrbrRgwQL39a9/vWxz96KLLgoWhEYTbGqCHxi1E3yKzAO09PfazCRcBQEEaingnOvqnOucbHImP1Ebwk/V1vL5StfacccdD0/mnG222aZ55syZA0vfb+9XS+/zjzE31YgPZGOXjd1K5cu6TzJYYCEBRdQFFhJQRF3Iwl9TWeL2rvM4vxUBC7xSVuxo/vz5brfddivb3L300kuDRKHRBJmWKAZF7USRJtMgLf29lWmBbyGAAAKZC0ycOHHTZL7ZaKON3Jw5czas5Q0tvc8/xtRQIz+IjV02diuVMOs+yWCBhQQUURdYSEARdSELf01liWu55uNanwtY4JUyok8++cTtsssuZZu7P//5z4ODodEEl5JoBkTtRJOq5Q7U0t+ZDBFAAIF6CyQ/jbzBBhu8l8w31157bdLLBjnnVir9hHJ7x2Ppff4xy22mOTiAjV02diuVMes+yWCBhQQUURdYSEARdSELf01lidu7zuP8VgQs8EoZUSIwb948N3To0LLN3QsuuCAoHBpNUOmIajDUTlTpqjpYS39vZVrgWwgggECmArNmzRpQmmv69evn+vfvv/T/mvv37/9W//79p/7/r5116623tuknei29zz+maiPNyYts7LKxW6mUS/8Wk69F/4OFKgALLCSgiLrAQgKK/DWVJc50kVnUi1vglTKikkCyubvzzjuXbe6OHTu29HLDv9J0G56CaAdA7USbumUGbunvRZ37eG4EEGicwLRp07p26NDhpx06dJjWoUOHdzp06LDAm3uS+M0OHTpM7dChwy87dOgwYtKkSWu2ZbSW3ucfs0zzzOE32NhlY7dSWXv/9iodUpjvY6FUY4GFBBRRF1hIQJG/prLEbVnTcaxRwAKvlBH5Ah9//LHbddddyzZ3zz77bP+QhsU03YbRR39jaif6FC55AEt/N04VHIYAAghEI2Dpff4xS5pmjgM2dtnYrVTerPskgwUWElBEXWAhAUXUhSz8NZUljmZBGdNALfBKGdHSAsln7u6+++5lm7tnnnnm0ofV/e80mrqT5+aG1E5uUuks/T2m+YqxIoAAAhYBS+/zj8lP16/8JGzssrFbqTpY90kGCywkoIi6wEICiqgLWfhrKktsWctxTBsFLPBKGVFrAvPnz3d77rln2ebuaaed1tqhdfsejaZu1Lm7EbWTn5Ra+nsbpwwORwABBIIXsPQ+/5j8dP3KT8LGLhu7laqDdZ9ksMBCAoqoCywkoIi6kIW/prLEwS8kYxygBV4pI6oksGDBArf33nuXbe6ecsoplQ7P/Ps0msyJc3sDaic/qbX09xjnLcaMAAIIVBOw9D7/mPx0/cpPwsYuG7uVqoN1n2SwwEICiqgLLCSgiLqQhb+mssTV1nC8llLAAq+UEVUT+PTTT91+++1Xtrl70kknucWLF1c7LZPXaDSZsBbiotROftJs6e8ppw5OQwABBIIVsPQ+/5j8dP3KT8LGLhu7laqDdZ9ksMBCAoqoCywkoIi6kIW/prLEwS4gYx6YBV4pI1qewMKFC93w4cPLNnePPvpo19zcvLxTa/o6jaamnIW6GLWTn3Rb+nvM8xdjRwABBFoTsPQ+/5j8dP3KT8LGLhu7laqDdZ9ksMBCAoqoCywkoIi6kIW/prLEra3d+F47BSzwShmRRWDRokXu0EMPLdvcTf6ebPrW6w+Npl7S+bsPtZOfnFr6ezunEE5HAAEEghOw9D7/mPx0/cpPwsYuG7uVqoN1n2SwwEICiqgLLCSgiLqQhb+mssTBLRzzMCALvFJGZBVIfkL3qKOOKtvcTT6DN/lFa/X4Q6Oph3I+70Ht5Cevlv6eh3mMZ0AAAQR8AUvv84/JT9ev/CRs7LKxW6k6WPdJBgssJKCIusBCAoqoC1n4aypL7K/ZiGskYIFXyojaIpB8tm7yGbv+P/pdd93VzZs3ry2XSXWsf89UF+CkwgpQO/lJvaW/12gq4TIIIIBAMAKW3ucfk5+uX/lJ2NhlY7dSdbDukwwWWEhAEXWBhQQUURey8NdUljiYBWOeBmKBV8qI0giMGTOmbHN3xx13dO+//36aS5nPodGYqThwKQFqZymQiP9q6e95ms94FgQQQCARsPQ+/5iI27x56GzssrFbqVhY90kGCywkoIi6wEICiqgLWfhrKkvMajUDAQu8UkaUVuCCCy4o29zdaqut3Jw5c9Jebrnn0WiWS8QBFQSonQowEX7b0t8zmFa4JAIIINBQAUvv84+JsL23echs7LKxW6loWPdJBgssJKCIusBCAoqoC1n4aypL3NBFYl5vboFXyojaI3DVVVe5jh07Ltng3WSTTdzMmTPbc8mK59JoKtLwwnIEqJ3lAEX0sqW/53Vu47kQQKC4Apbe5x8TUVtPPVQ2dtnYrVQ8rPskgwUWElBEXWAhAUXUhSz8NZUlLu4KNcMnt8ArZUTtFZgwYYLr3Lnzks3dtdde2z3//PPtvewy59NoliHhG0YBascIFcFhlv6e4fTCpRFAAIGGCFh6n39MBO283UNkY5eN3UpFxLpPMlhgIQFF1AUWElBEXcjCX1NZ4oYsDvN+Uwu8UkZUC4Gbb77ZdevWbcnm7qqrruoeffTRWlx6yTVoNEsoCNooQO20ESzgwy39Pe9zHM+HAALFE7D0Pv+YgNt4zYbGxi4bu5WKiXWfZLDAQgKKqAssJKCIupCFv6ayxMVbmdbhiS3wShlRrQTuvPNOt9JKKy3Z3F155ZXdXXfdVavLL7lu0nD4g0BbBJik2qIV9rGW/l6HaYZbIIAAAnUVsPQ+/5iwO3ltRsfGLhu7lSqJdZ9ksMBCAoqoCywkoIi6kIW/prLEdV0UFuVmFniljKiWAv/4xz9cnz59lmzCJj/F+/vf/74mt6DR1ISxkBehdvKTdkt/L8pcx3MigIAEnHNdnHNNb7/99rp//etfd7r66qsPGTVq1Kg999xzax0Vb2Tpff4x+en6lZ+EjV02ditVB+s+yWCBhQQUURdYSEARdSELf01lieNdYQY8cgu8UkZUa4Fnn33WDRgwYMnmbqdOnVzyS9ba+4dG017B4p5P7eQn95b+HvD0xNAQQKCdAs65rnPmzFn9kUce2WnixIkn/PjHP5508MEHf7jVVlu5Hj16LFl7lPr+V7/61S+185ZBnG7pff4x+en6lZ+EjV02ditVR+nff/K16H+wUAVggYUEFFEXWEhAkb+mssRBLBbzNggLvFJGlIXAG2+84TbbbLOyN1hnnXVWu25F020XX6FPpnbyk35Lf8/bnMbzIIBAhw7f/va39xwyZMgLyWf4+z29WtyxY8d5zrlOefCz9D7/mPx0/cpPwsYuG7uVqsPvC5WOKcr3sVCmscBCAoqoCywkoMhfU1niPKw1g3sGC7xSRpSVwHvvved23HHHsjdg3/ve91xzc3OqW9J0U7FxknNlNQhI3AKW/h7cpMSAEECg3QIjR448xl8HWOKDDz746HbfOJALWHqff0zcnd42ejZ22ditVCl+f6h0TFG+j4UyjQUWElBEXWAhAUX+msoSB7JczNcwLPBKGVGWAh9//LHbc889yzbWhg8f7ubPn9/m29J020zGCZ8LUDv5KQVLf8/XjMbTIIBAIvDOO+/0XGeddcrWE35vXzru2rWre+ONN1bMi56l9/nH5KfrV34SNnbZ2K1UHX4/qHRMUb6PhTKNBRYSUERdYCEBRf6ayhLnZb0Z1HNY4JUyoqwFFi1a5I444oiyN2ODBw92yU/0tuUPTbctWhzrC1A7vkbcsaW/BzUhMRgEEKiZwNSpU89PPrff7+mV4uOPP/6smt04gAtZep9/TNyd3jZ6NnbZ2K1UKX5fqHRMUb6PhTKNBRYSUERdYCEBRf6ayhIHsFTM3xAs8EoZUT0EFi9e7EaPHl32ZmyjjTZyL7/8svn2NF0zFQcuJUDtLAUS8V8t/T1/sxpPhAACiYBzrvcZZ5xRtpbw+3spXmmllVzyE755UrP0Pv+YiNu8eehs7LKxW6lYSr3gP22j0lHF+D4WyjMWWEhAEXWBhQQU+WsqS5ynNWcwz2KBV8qI6ilw+eWXO/+nbfr16+ceeeQR0xBouiYmDmpFgNppBSXSb1n6ezCTEQNBAIGaCjjnut12222uS5cuVTd3f/KTn1xQ0xsHcDFL7/OPibTFt2nYbOyysVupYFj3SQYLLCSgiLrAQgKKqAtZ+GsqSxzAUjF/Q7DAK2VE9Ra4+eab3YorrrjkTVmPHj3cn/70p+UOg0azXCIOqCBA7VSAifDblv6ev1mNJ0IAgVmzZvU47rjjHvH7eWvxqquu6ubMmbNy3sQsvc8/JsL23uYhs7HLxm6lovF7Q6VjivJ9LJRpLLCQgCLqAgsJKPLXVJY4b+vOIJ7HAq+UETVC4KGHHnJ9+/ZdsrnbuXNn94tf/KLqUGi6VXl4sYoAtVMFJ7KXLP09iImIQSCAQM0E/va3v2263nrrfej38p49ey5ZQ/jfHzdu3Bk1u3FAF7L0Pv+YyFp7quFaN3Y5bu1UvjGf5PeEmJ+jFmPHQopYYCEBRdQFFhJQ5K+pLHFAS8b8DMUCr5QRNUrghRdecOuvv37ZG7PTTjvNJZ/H29ofmm5rKnzPIkDtWJTiOMbS3/Mzm/EkCBRbwDnXafTo0af5H+GU9PPhw4cnn6Hr9tprr7I1xHrrrbdwxowZ3fOoZul9/jFxdPT2jZIN27Wd1aB90vGdzbpPOcMCCwkooi6wkIAi6kIW/prKEudx7dnwZ7LAK2VEjRSYM2eO22GHHcremB122GFu/vz5ywyLRrMMCd8wClA7RqgIDrP094ZPQgwAAQTaLfDggw/222STTZ7y+3fv3r3d9ddfP8k5t4ZzruOsWbMGJB+9UDrmhhtuOKTdNw70Apbe5x8TQTtv9xCtm5ocx0/strvYIr5AqT8mX4v+BwtVABZYSEARdSELf01liQNdPsY9LAu8UkYRc2oAACAASURBVEbUaIFPPvnE7bfffkvemCUNZdCgQW727NllQ6PRlHHwlzYIUDttwAr8UEt/j3sGY/QIFFsg+SndM844Y2TyEU1+795rr71effPNNzdeWmfy5MknJ8dts802LyTnLv16Xv5u6X3+MYG38poMjw1bfmK3UiH5vaPSMUX5PhbKNBZYSEARdYGFBBT5aypLnJf1ZlDPYYFXyohCEGhubnb//d//XfYmbu2113bTp09fMjya7hIKgjYKUDttBAv4cEt/D2pCYjAIIGAWmDZtWt+BAweW/YK05LN0r7nmmhOdc51bu1CymXvMMcdcc/fdd6/W2ut5+Z6l9/nHBNzGazY0NnbZ2K1UTKz7JIMFFhJQRF1gIQFF1IUs/DWVJc7LejOo57DAK2VEIQkkufN/Sid5Q3fbbbe1DJFGE1Km4hoLtRNXvqqN1tLfg5qQGAwCCCxXINmc/elPfzqyW7duZf+B96tf/er0GTNmrL7cCxTgAEvv84/x5728xmzs2jd281oDPFeHsp6JBx7UADVADdSmBvw1lSUuwFK0/o9oga+2ccBrjRW44447XFNT05KFSrLRe/nlly/5e9Ks+INAWwT8Ca4t53FseAKW/l7/WYc7IoBAWoGnn3569YEDB073+/SKK67oxo0bd0yeP1qhrV6W3ucf43vmNWZjl43dvNY2z1WbjRkccaQGqIG0NeCvqSxxW9d1HG8QsMCHt13BiHyBp556yq277rplm7n+P0r/WGIElidA7SxPKJ7XLf3dME1wCAIINFgg+WiFMWPGjO7SpUvZXL/jjjtO/9e//pXrj1VIQ2/pff4x/ryX15iNXTZ281rbPBebUdQANUANNLYG/DWVJU6ztuOc5QhY4OPZxijuSOfMmeMGDx5c9oav1OCKq8KTpxEo1U3ylT9xC1j6+3KmCF5GAIEGCzz22GMbbL755q/6vTn5Kd1LLrmEn9KtkBtL7/OPibvT20bPxq59Y9cmmp+j/N6Sn6dK9yRYyA0LLCSgiLrAQgKK/DWVJa6wfOPb7RGwwCtlRCELLFiwwB1xxBHLbO4+99xzIQ+bsQUmwIQdWELaMRxLf2/P/MG5CCCQncDTTz/d7Qc/+MHF/mfpJ/155513fuLJJ5/sl92d47+ypff5x7SjzUZzKhu7bOxWKlbWfZLBAgsJKKIusJCAIupCFv6ayhLHv9IM8Aks8EoZUQwCY8eOLdvc7dWrl/vzn/8cw9AZYwACTFIBJKFGQ7D09wCnJYaEQOEFHnjggR023njjD/1+vPLKK7srr7zyKD5Ld/nlYel9/jE1arnBX8avp+AHm/EAsRAwFlhIQBF1gYUEFFEXWEhAkb+mssTLX8lxRJsFLPBKGVEsAn7TTeJOnTq58847L5bhM84GCvi108BhcOsaCFj6e5snDU5AAIHMBJxzK5988sk3J3O234uHDRs27fnnn++b2Y1zdmFL7/OPqUG7jeISfk1FMeAMB4mFcLHAQgKKqAssJKCIusBCAor8NZUlztmyM4zHscArZUSxCPhN148PPvhg9/HHH8fyGIyzAQJ+vTTg9tyyhgKW/h7GTMQoECi2QPJTuFOmTDl43XXXbfZ7cPL/uBk/fvy3+CndttWHpff5x9Sw7QZ9Kb+2gh5oHQaHhZCxwEICiqgLLCSgiLrAQgKK/DWVJW7bqo6jTQIWeKWMKBYBv+nusssuZT/5M3DgQDdjxoxYHoVx1lnAr50635rb1VjA0t9NEwUHIYBAZgLvvffeWkccccR0v/cm8V577XX/3Llze2d24xxf2NL7/GNq3HqDvZxfY8EOsk4Dw0LQWGAhAUXUBRYSUERdYCEBRf6ayhLneAnauEezwCtlRLEI+E130aJF7sQTTyzb3O3Tp4+75557YnkcxllHAb926nhbbpWBgKW/N2724c4IFFvAOdd14sSJ5/bt23fp+bl5woQJezvnOhZbKP3TW3qff0wG7TfISzK/Ky1YYCEBRdQFFhJQRF1gIQFF1IUs/DWVJU6/wuPMigIWeKWMKBaB1hrNb37zG7fCCisseQPZpUsXd8UVV8TySIyzTgKt1U6dbs1taixg6e8VJwdeQACBTASSDdsZM2bssNtuu73v99sk/q//+q+b33777ZUyuXGBLmrpff4xNW69wV7Or7dgB1mngWEhaCywkIAi6gILCSiiLrCQgCJ/TWWJC7Qkrd+jWuCVMqJYBCo13Ycfftj1799/yeZuctw3v/lNN2/evFgejXFmLFCpdjK+LZfPQMDS3+s323AnBBBwzvW66KKLbu3Ro0fZPLzOOuvMu/322wfzU7q1qRFL7/OPyaD9BnlJ5nelBQssJKCIusBCAoqoCywkoIi6kIW/prLEtVntcZUyAQu8UkYUi0C1RjNr1iw3aNCgsjeVm2++uXvuuedieTzGmaFAtdrJ8LZcOgMBS38vmxD4CwIIZCKQ/PKzRx999Oitt966bO7t3Lmz+/73v3+1c26FTG5c0Itaep9/TAbtN8hLMr8rLVhgIQFF1AUWElBEXWAhAUXUhSz8NZUlLujyNNvHtsArZUSxCCyv0Xz66afu2GOPLXuD2bNnT3fTTTfF8oiMMyOB5dVORrflshkIWPp7tjMMV0cAgQ8//HDj0aNHv5ps4vr9dauttnpz2rRpmyBUewFL7/OPyaD9BnlJv/6CHGAdB4WFsLHAQgKKqAssJKCIusBCAor8NZUlrv3Kjyt2sMArZUSxCFib7oQJE9yKK65Y9mbzlFNOcckvXONPMQWstVNMnbie2tLfmQYRQCAbAedcj5tvvnn8WmutVTbHJnPuhRdeOMo51zmbO3NVS+/zj4mrs6cfLfO77LDAQgKKqAssJKCIusBCAoqoC1n4aypLzEo1AwELvFJGFItAWxrNk08+6TbYYIOyN55Dhw51b731ViyPyzhrKNCW2qnhbblUBgKW/p7BtMIlESi0QPKxC6+++uoB3/jGN5r9fprEX/va1x5+6aWX+hUaqA4Pb+l9/jEZtN8gL+nXY5ADrOOgsBA2FlhIQBF1gYUEFFEXWEhAkb+mssR1WAoW7xYWeKWMKBaBtjbduXPnuv32269sc3f11Vd3999/fyyPzDhrJNDW2qnRbblMBgKW/l68WY8nRiA7gfnz568zduzYp5b+f8KsttpqC6+77rq9+eVo2dn7V7b0Pv+YDNpvkJdkfldasMBCAoqoCywkoIi6wEICiqgLWfhrKkvsr9mIayRggVfKiGIRSNNoFi9e7C644ALnfw5gly5d3M9+9jOXvMafYgikqZ1iyMT3lJb+XqOphMsgUGgB51z3e++99/JNN9207D+QdurUyR1//PHXzpo1q0ehger88Jbe5x8TX3dPN2Lmd7lhgYUEFFEXWEhAEXWBhQQUURey8NdUlrjOy8Ji3M4Cr5QRxSLQnkZzzz33uH79+pW9Od1jjz3c7NmzY3l8xtkOgfbUTjtuy6kZCFj6ezFmOp4SgWwEkp/AnTNnzl5HHnnkAr93JvE222zz+t///vdNs7kzV60mYOl9/jEZtN8gL+nXaJADrOOgsBA2FlhIQBF1gYUEFFEXWEhAkb+mssTV1nC8llLAAq+UEcUi0N6mO3PmTDdkyJCyzd011ljDJZu+/Mm3QHtrJ986cT2dpb+nnDo4DYHCCzjnBlx99dXTe/fuXTZXNjU1uXHjxh3DL0drXIlYep9/TFydPf1omd9lhwUWElBEXWAhAUXUBRYSUERdyMJfU1nixq0Qc3xnC7xSRhSLQC0azWeffebOOOMMl/xfSUvXS+Kf/OQnLnmNP/kUKOU6+cqfuAUs/T3H0xuPhkAmAsnHLjz00EOXb7PNNkvmxlLfPPTQQ2+bMWPGFzK5MRc1C1h6n39M3J3ePvpSnTK/u7J/u3bBfB5JXSivWGAhAUXUBRYSUERdyMJfU1li84KOA+0CFniljCgWgVo2milTprjVVlutbBG88847uzfffDMWDsbZBoFa1k4bbsuhGQhY+rt9tuBIBIot4Jzr9Pbbb+8zYsSIhR07diybEzfccMP37rzzzh345Whh1Iil9/nHZNB+g7wk87vSggUWElBEXWAhAUXUBRYSUERdyMJfU1niMFaLORuFBV4pI4pFoNaN5q233nLDhg0reyO76qqruttvvz0WEsZpFKh17Rhvy2EZCFj6e86mNB4HgUwEFixYsN5ll132TPIxC36PXHHFFd255557inOuSyY35qKpBCy9zz8mg/Yb5CX92g1ygHUcFBbCxgILCSiiLrCQgCLqAgsJKPLXVJY41eKOk6oLWOCVMqJYBLJous3NzckbWNe5c+clb2yTn1oaPXq0W7BgQSw0jHM5AlnUznJuycsZCVj6e/UZglcRKLaAc67H3XffPX7zzTdfMu+VeuTw4cNvf+ONN1YptlCYT2/pff4xGbXg4C5bqt3ka9H/YKEKwAILCSiiLrCQgCLqAgsJKPLXVJY4zNVj5KOywCtlRLEIZNl077//frfWWmuVvcndcsst3VNPPRULD+OsIpBl7VS5LS9lIGDp75FPYQwfgUwEko9dePXVVw8/5JBDmv2emMSbbrrpO1OmTNmOj13IhL4mF7X0Pv+YDNpvkJf0aznIAdZxUFgIGwssJKCIusBCAoqoCywkoMhfU1nimiz2uEi5gAVeKSOKRSDrpvvuu++6vffeu2xzt3v37slvAneLFy+OhYlxtiKQde20cku+lZGApb+Xzwj8DQEE5s2bt8XYsWNf79GjR9kc17NnT3fxxRf/t3OuM0phC1h6n39MRi04uMsyvyslWGAhAUXUBRYSUERdYCEBRdSFLPw1lSUOexUZ6egs8EoZUSwC9Wo0V111lUs+Y9C/39e//nWXfCYvf+IU8HMZ5xMw6pKApb9HOnUxbARqLuCc6z1p0qTJ66yzTtmclnzk0JFHHvmHf//7371qflMumImApff5x5R6Zt6/Mr8rw1hgIQFF1AUWElBEXWAhAUXUhSz8NZUlzmTxV/SLWuCVMqJYBOrZaJ599lm39dZbl70RTn6x2uTJk2PhYpyeQD1rx7stYQYClv5e9DmQ50fAOdf10Ucf/eGQIUPK5rGkF2699dYv/e1vf9sUpbgELL3PPyaD9hvkJZnflRYssJCAIuoCCwkooi6wkIAi6kIW/prKEse1qoxktBZ4pYwoFoF6N5pPP/3U/fCHP3SdOnUqe2N87LHHuo8//jgWNsbpXFn+AIlbwNLfI5mqGCYCNRdIPiN35syZw0aMGDEv+alcf95cddVVF/zyl7/cL/ms3ZrfmAuWCSQfbTFmzJghu+2225Vrrrnm9M022+yFfffd97c333zz19L6W3qff0zcnd4+er/G7Wfl80gslFcssJCAIuoCCwkooi6wkIAif01licsWgvylNgIWeKWMKBaBRjXde++9133xi18se4O84YYbugcffDAWusKPs1G1U3j4DAAs/b02MwlXQSAugQULFqw3duzY6SuttFLZfNWtWzd36qmnnu+cWyGuJ4pztA8//PBqa6211uzSvLP0Bvsuu+wyLc1nGlt6n39MBu03yEuWnJOvRf+DhSoACywkoIi6wEICiqgLLCSgyF9TWeI4V62Bj9oCr5QRxSLQyKb7/vvvu0MPPbTszXLyk7ynnnqqmz9/fiyEhR1nI2unsOgZPbilvwc+RTE8BGoq4JzrecMNN0wYMGBA2RyV9L39999/yiuvvLJaTW/IxSoKOOe6b7zxxh8m9jvssMPCRx555Mfz588/+h//+MdfTjvtNJdssiev/eAHP9i94kUqvGDpff4xGbXg4C7L/K6UYIGFBBRRF1hIQBF1gYUEFFEXsvDXVJa4wvKNb7dHwAKvlBHFIhBCo5k4caLr1atX2ZvnTTfd1D3yyCOxMBZynCHUTiHhM3hoS39vz/zBuQjEIuCc6/LQQw/990477VQ2JyX9buDAga/cfffdWyYfzRDL8+RhnOPHjz818V9zzTXdJ598sqb/TM65tX72s58tSF4fMGDAH/zXLLGl9/nHZNB+g7wk87vSggUWElBEXWAhAUXUBRYSUERdyMJfU1liy1qOY9ooYIFXyohiEQil0bzxxhtujz32KHsj3blzZzdmzBiXfC4vf8ITCKV2wpOJb0SW/t7GKYPDEYhKINmsfeGFF742fPjwlp8M9ftbv379FlxzzTX7pv0c16ggAhzsiBEjHk/ycfbZZ3/S2vAee+yxYz7P1yutvV7te5be5x8TX3dPN2K//tNdIT9nYaFcYoGFBBRRF1hIQBF1gYUEFPlrKktcbQ3HaykFLPBKGVEsAqE13Wuuucb17NmzbIN3yy23dP/85z9jIS3MOEOrncLAZ/Cglv6ecurgNASCF5g1a9YmJ5xwwjNdu3Ytm3tWWGGF5Jd9nuac6xb8Q+R4gAcddNDuG2ywwVt//vOfd2ntMe+8885zk/mob9++U1t7vdr3LL3PPyaD9hvkJZnflRYssJCAIuoCCwkooi6wkIAi6kIW/prKEldbw/FaSgELvFJGFItAiI3m1VdfdbvuumvZG+zkDffZZ5/tFi5cGAtt7scZYu3kHj2jB7T095RTB6chEKzARx991G/s2LG3Lv0fE5NfzPXNb37zuhkzZnwh2MEzsBYB59wOpf+3z3e+850j2spi6X3+MRm14OAuy/yulGCBhQQUURdYSEARdYGFBBRRF7Lw11SWuK3rOo43CFjglTKiWARCbTSLFy92V155pVv6N5F/6Utfcg8//HAsvLkeZ6i1k2v0jB7O0t8N0wSHIBCFgHOux/jx4y/p379/2X9ATHraLrvsMnXatGkDoniQgg4y+UiMe++996vjx49/6Mtf/nJLDnfeeeeb03xUhqX3+cdk1IKDuyzzu1KCBRYSUERdYCEBRdQFFhJQRF3Iwl9TWeKCLnWzfWwLvFJGFItA6I3mpZdeckOGDCl7892pUyd38sknu3nz5sXCnMtxhl47uUTP6KEs/T3bGYarI5C9gHOu62233XZC8h8I/f6VxF/60pdevf3227fmF6Nln4f23mHs2LHX+vlbddVV3aOPPnpQmutaep9/TEYtOLjL+r7BDa7OA8JC4FhgIQFF1AUWElBEXWAhAUX+msoSp1nbcc5yBCzwShlRLAIxNN3m5mZ3xRVXuJVXXrnszfjaa6/t7rjjjlioczfOGGond+gZPZClvy9niuBlBIIVcM51fvDBBw/7yle+ssDvW0m85pprzhs/fvzX0/y0Z7APnPOB3X333VuOGTPmnWOPPTbZkF+yLhg1atTotm7MW3qff0xGLTi4y/r/ToIbXJ0HhIXAscBCAoqoCywkoIi6wEICivw1lSXO+ZK2MY9ngVfKiGIRiKnpvvbaa27PPfdc8iauNPYjjjjCvfvuu7GQ52acJf/kK3/iFrD098bMPNwVgfQCyWbt448/vudee+31od+vkripqan5vPPO+45zrkv6O3BmowSSDVznXE/n3LcuvvjiJeuC++6778ttGZOl9/nHxN3p7aP3/73Yz8rnkVgor1hgIQFF1AUWElBEXWAhAUX+msoSt2VNx7FGAQu8UkYUi0CMTfe6665Lfvv1kjdyyTMk/1fM66+/Phb2XIwzxtrJBXwGD2Hp78apgsMQaLhAsun3/PPPDznkkEPeSn4Rmt+runXr5k488cQzZsyY0b3hA2UANRFwzl2+++67t+T59NNPv6EtF7X0Pv+YDNpvkJf0/80EOcA6DgoLYWOBhQQUURdYSEARdYGFBBT5aypL3JY1HccaBSzwShlRLAKxNt133nnHJT+p648/iXfbbTf3/PPPx8If9Th9+6gfhME7S383ThUchkDDBJIN3RkzZmx19NFHv9C5c+ey+SH5+8iRI8c999xzPRs2QG6cSuDUU0+9asyYMUMqneycG3rhhRe25HubbbZ5rtJxrX3f0vv8Y4oyXTC/K9NYYCEBRdQFFhJQRF1gIQFF1IUs/DWVJW5t7cb32ilggVfKiGIRiL3RJJ+xm3zWrv8cK6ywgvvxj3/s5s+fH0saohynbx7lAzDoJQKW/t7OKYTTEchUYM6cORuefPLJ05L+7/em5Cd2hw8ffuPzzz/fN9MBcPEsBVo+G3n27Nnrt3YT59xe55xzTkveBw8efFtrx1T6nqX3+ccsaZo5D/x/Qzl/1OU+HhYiwgILCSiiLrCQgCLqAgsJKPLXVJa40vqN77dDwAKvlBHFIpCHpvvRRx+5UaNGuaV/Qmu99dZzt912WyypiG6ceaid6NAzGrClv7dj+uBUBDITeP/999c5/fTT7176l2sm/Wn33Xef8sgjj3wxs5tz4boI9O3b9/+SfF588cXvOOdWXPqmixYtum3bbbdt2dg9+eSTD1/69Wp/t/Q+/5iMWnBwl2V+V0qwwEICiqgLLCSgiLrAQgKKqAtZ+GsqS1xtDcdrKQUs8EoZUSwCeWo0TzzxhNtxxx3Lfloreb4DDjjAvf7667GkJJpx5ql2okHPaKCW/p5y6uA0BDIRmD179nqnn376Pa1t6O600073P/DAA+tlcmMuWneBsWPHDkrmm549e7o///nPrzjnNkp+6Z1zrvv7779/yogRI1rm/eTzk6dNm9ajLQO09D7/mIxacHCXZX5XSrDAQgKKqAssJKCIusBCAoqoC1n4aypL3JY1HccaBSzwShlRLAJ5azSLFy92v/rVr1yfPn3KNnhXWmkld9FFF7mFCxfGkprgx5m32gkePMMBWvq7cargMAQyFZg7d+76Z5555n3JJp/fg5J44MCB0yZPnrxx8lm7mQ6Ci9dVIMnnoEGDko9YaMn51ltv7Q4//HD39a9/3X3hC19YUge//OUvh7V1YJbe5x+TYRsO6tIl6+Rr0f9goQrAAgsJKKIusJCAIuoCCwko8tdUlrit6zqONwhY4JUyolgE8tp03333XXf00Ue7pX8j+iabbOKSz+XlT/sF8lo77ZeJ7wqW/m6YJjgEgUwEko29Dz74YIMzzzzz/qampiUbeaUetOWWWz51yy23bMGGbib8QVzUOdfp5z//+Z59+vSZXsp78rVjx47zhg0b9tP7779/1TQDtfQ+/5j4unu6EfvG6a6Qn7OwUC6xwEICiqgLLCSgiLrAQgKK/DWVJU6ztuOc5QhY4JUyolgE8t50H3rooeSnuJbZCPjGN77hnn/++VjSFOQ48147QaJnNChLf1/OFMHLCNRc4PMN3Q1/8pOfTG1tQ3eLLbZ45sYbb9yGDd2a0wd9wWST9+mnn+527733dmnvQC29zz8moxYc3GWZ35USLLCQgCLqAgsJKKIusJCAIupCFv6ayhK3d53H+a0IWOCVMqJYBIrQaD777DN32WWXuV69epVt8Hbt2tWdcsop7oMPPoglXUGNswi1ExR4hoOx9PdWpgW+hUAmAslG7axZszY5/fTTH6qwofvUpEmTtmJDNxP+Ql3U0vv8YzJsw0Fdmvld6cACCwkooi6wkIAi6gILCSiiLmThr6kscaEWpfV6WAu8UkYUi0CRGs3s2bPdMccc4zp16lS2wduvX7+Wz+Vtbm6OJW1BjLNItRMEeIaDsPT3es013Ke4Ap9v6G578sknP9WjR4+yPp30m8033/ypG2+8cSAbusWtkVo/uaX3+cdk2IaDujTzu9KBBRYSUERdYCEBRdQFFhJQRF3Iwl9TWeJar/u4XocOHSzwShlRLAJFbDSPP/64Gzp06DKbBskvZLn//vtjSV3Dx1nE2mk4ekYDsPR3JkIEshJwznV++eWXhx1zzDFvduvWbZnevNlmm02fNGkSn6GbVQIKfF1L7/OPyagFB3dZ5nelBAssJKCIusBCAoqoCywkoIi6kIW/prLEBV6iZvfoFniljCgWgSI3mt///vdu7bXXXmYTYf/993fPPvtsLCls2DiLXDsNQ8/oxpb+nt3swpWLKuCc6zp9+vSDDz/88A87d+68TC/ebrvtHvrjH/+4KT+hW9QKyf65Lb3PPyajFhzcZZnflRIssJCAIuoCCwkooi6wkIAi6kIW/prKEme/EizgHSzwShlRLAJFbzSffPKJ++lPf+qW/r/9dunSxR177LHurbfeiiWVdR9n0Wun7uAZ3tDS3ws47fHIGQk457r/4x//OO6AAw5Y2LFjx2U2dIcOHXr7nXfeuW5Gt+eyCCwRsPQ+/5gM23BQl2Z+VzqwwEICiqgLLCSgiLrAQgKKqAtZ+GsqS7xkwUZQOwELvFJGFIsAjeY/mXrjjTfcEUcc4ZbeZFhppZXcWWed5T766KNYUlq3cVI7daPO/EaW/l672YQrFVXAOdd06623nrXzzjsvs5mb9JM99tjjxr/+9a9rFtWH566/gKX3+cdk3owDuQHzuxKBBRYSUERdYCEBRdQFFhJQRF3Iwl9TWeL6rwwLcEcLvFJGFIsAjaY8U//85z/dbrvttsymw2qrreZ+8YtfuEWLFpWfUOC/UTv5Sb6lvxdgmuMRMxKYP3/+gN/85je/3WyzzZbprcl/TDvwwAOvevzxx1fN6PZcFoGKApbe5x+Tn65f/UmY3+WDBRYSUERdYCEBRdQFFhJQRF3Iwl9TWeKKCzheSC9ggVfKiGIRoNG0nqk777zTDRw4cJlNiI022shNmjTJLV68uPUTC/Rdaic/ybb09/SzB2cWUcA512nu3LnbXXDBBdPWWGONZXpp165d3ZFHHnnac88917OIPjxzGAKW3ucfk5+uX/1JmN/lgwUWElBEXWAhAUXUBRYSUERdyMJfU1niMFaLORuFBV4pI4pFgEZTOVPNzc1u4sSJbsCAActsSiSbvn/6058qn1yAV6id/CTZ0t9zNqXxOBkJOOe6vfHGGweOHj36vZ49ey7TO3v16vXJKaecMuLFF19cIaMhcFkEzAKW3ucfk5+uX/1JmN/lgwUWElBEXWAhAUXUBRYSUERdyMJfU1li84KOStB70wAAIABJREFUA+0CFniljCgWARrN8jM1f/58d9FFF7nevXsvs0mx/fbbu+Sne4v4h9rJT9Yt/d0+W3BkEQWcc70efvjh0w8//PDm5JdP+v0hiddaa623Lrrooq875zoX0YdnDlPA0vv8Y/LT9as/if/vt/qR+X8VC+UYCywkoIi6wEICiqgLLCSgyF9TWeIwV4+Rj8oCr5QRxSJA07Vn6t///rc7/fTTXfIL1Xy3JP7KV77i7rvvPvvFcnCkb5CDxyn0I1j6e+RTGMPPQMA513H+/Pnr/O53v7th0KBBy/TFpEdsueWWD1977bVbJcdmMAQuiUC7BCy9zz+mKBMF87syjQUWElBEXWAhAUXUBRYSUERdyMJfU1nidi3yOLl1AQu8UkYUiwCNpu2ZmjNnjhs9erTr3r37MhsZX/va19xDDz3U9otGeAa1E2HSKgzZ0t9bnxn4bhEFnHNd3n333WHnnXfeC2uuueYyfTDpDcOGDbv2zjvv/GIRfXjmeAQsvc8/pkILzd23md+VUiywkIAi6gILCSiiLrCQgCLqQhb+msoSx7OijGikFniljCgWARpN+ky9+eab7oQTTnDdunVbZmNj2LBh7t57701/8QjOpHYiSJJxiJb+HtF0xVAzEnDOrTJ9+vTTjj766ObW/sNW9+7dm4866qgfPvzww00ZDYHLIlBTAUvv848xttToD2N+VwqxwEICiqgLLCSgiLrAQgKKqAtZ+GsqS1zTRR8X+4+ABV4pI4pFgEbT/ky9+uqr7uijj3atfa7k4MGD3e23397+mwR4BWonwKSkHJKlvzMXFlPAOdfJObfFzTffPGWXXXZZ5j9iJX2gf//+b44dO3Yf51zXYirx1LEKWHqff0zKFhvdaczvShkWWEhAEXWBhQQUURdYSEARdSELf01liWNdXwY9bgu8UkYUiwCNpnaZevHFF92RRx7Z6gbvtttu6/74xz+6xYsX1+6GDb4StdPgBNTw9pb+HvQExeBqLuCcW/GNN944/Kyzznqvf//+rW7o7rDDDn+57rrrNuPzc2vOzwXrJGDpff4xNWy7QV+K+V3pwQILCSiiLrCQgCLqAgsJKKIuZOGvqSxxnZaDxbqNBV4pI4pFgEZT+0y98sor7thjj231Ixo233xzd/3117vPPvus9jeu8xWpnTqDZ3g7S38v1oxXzKdNNmidc+tMmTLl6gMOOMB17tx5mQ3drl27usMPP/ysf/zjH32KqcRT50nA0vv8YzJsw0Fdmvld6cACCwkooi6wkIAi6gILCSiiLmThr6kscZ7WnME8iwVeKSOKRYBGk12mZs6c6UaNGuV69OixzObIOuus46644gr30UcfZTeAjK9M7WQMXMfLW/p7MJMRA6m5QPLTuXPmzDno4osvfnODDTZYpl8l/9b79+//6plnnrn3008/3a3mA+CCCDRIwNL7/GPq2JYbeivmd/FjgYUEFFEXWEhAEXWBhQQUURey8NdUlrhBy8N839YCr5QRxSJAo8k+U3PmzHE/+tGPXFNT0zIbJr179255bdasWdkPpMZ3oHZqDNrAy1n6e75nuOI93ec/nbvx1KlTr/vWt77lWvtlaB07dnTDhg377Y033rg+H7dQvBopwhNbep9/TAPbdF1vzfwubiywkIAi6gILCSiiLrCQgCLqQhb+msoSF2EtWvdntMArZUSxCNBo6pep999/351zzjmub9++y2zwduvWzY0cOdL961//qt+A2nknaqedgAGdbunvdZ90uGEmAs65nm+99dbICy644L2NNtpomV6U/LteZZVVPhw9evTIt99+e6VMBsFFEQhEwNL7/GMCatuZDoX5XbxYYCEBRdQFFhJQRF1gIQFF1IUs/DWVJQ5kuZivYVjglTKiWARoNPXP1CeffOKuvvpqV2lTZY899nBTpkyp/8DaeEdqp41gAR9u6e/5mtGK9TTOuc4LFy4ceMstt9y27777tvoLHpN/z4MGDbp1woQJWzrnOhVLiKctqoCl9/nHBNzGazo05ndxYoGFBBRRF1hIQBF1gYUEFFEXsvDXVJa4qOvTTJ/bAq+UEcUiQKNpXKaam5vdLbfc4oYMGdLqT81tsskm7sorr3Qffvhh4wZZ5c7UThWcyF6y9PdMJxguXnOBzz9qYc3nnnvuzNNOO23h6quv3mqf+cIXvvD+9773vaOee+65njUfBBdEIHABS+/zj4mstaceLvO76LDAQgKKqAssJKCIusBCAoqoC1n4aypLHPgyMs7hWeCVMqJYBGg0YWTq4YcfdgcffHCrv4W+Z8+e7oQTTnDPPPNMGIP9fBTUTlDpaNdgLP09zpmreKNOPmph7ty5h/7qV796vdJ/NEo+O3fXXXf9w3XXXbcZP51bvBrhiSVg6X3+Me1qtBGdzPyuZGGBhQQUURdYSEARdYGFBBRRF7Lw11SWWCs2opoJWOCVMqJYBGg0YWXqlVdecSeddFKrv2gtydWwYcPc//3f/7nPPvus4QOndhqegpoNwNLfazaZcKGaCzjnui5atGjw5MmT7zvooIPcCius0OpP56611lqvjxkz5uAnn3ySz86teRa4YIwClt7nH1Ozphv4hZjflSAssJCAIuoCCwkooi6wkIAi6kIW/prKEse4tgx+zBZ4pYwoFgEaTZiZ+uijj9wvfvELt/nmm7e6QTNgwAB37rnnupkzZzbsAaidhtHX/MaW/h78JFWwASY/aeuc2/Dvf//7lccff7zr06dPq72iW7duzQceeOB5t9xyyxeTj2coGBOPi0BVAUvv84+pefMN9ILM70oMFlhIQBF1gYUEFFEXWEhAEXUhC39NZYmrLuJ4MZ2ABV4pI4pFgEYTfqbuueceN3z48FY/pqFz585u7733bvms3kWLFtX1YaidunJnejNLf083c3BWLQU+/9zcAS+++OLpZ5999icbbLBBq5u5yb/N7bff/p5x48YNcs51qeUYuBYCeRKw9D7/mEwbcUAXZ35XMrDAQgKKqAssJKCIusBCAoqoC1n4aypLnKc1ZzDPYoFXyohiEaDRxJIp59544w03ZswY169fv1Y3c5JfjvSjH/3Ivfjii3V5KGqnLsx1uYmlvwczGRVsIJ9v5q4xY8aMky+88MIPt91221b//Sf/Htddd91XzjzzzIOefvrplQvGxOMikErA0vv8Y+rSkAO4CfO7koAFFhJQRF1gIQFF1AUWElBEXcjCX1NZ4lSLO06qLmCBV8qIYhGg0cSSKY3z008/db/73e9aPm83+SVIfg6TOPneV7/6VXfddde5jz/+WCfWOPLvW+NLc7k6C1j6e/UZgldrKfD5Zm6/11577dhLLrlk9vbbb7/Mv/PSv7/evXvP++53vzvq4YcfXo2PWqhlFrhWEQQsvc8/ps6tuWG3K/WX5GvR/2ChCsACCwkooi6wkIAi6gILCSjy11SWuAhr0bo/owVeKSOKRYCmG0umWh/nyy+/7M444wzXv3//Vjd+evbs6UaMGOHuuusu19zc3PpFUn6X2kkJF+Bplv5e90mnYDf8fDO3z6xZs741bty413faaaeW/0jj/zsrxd27d28+4IADLr7ppps2TD5rt2BUPC4CNROw9D7/mNK/Qb52aHXNgQsu1AA1QA1QA9QANVCpBvw1lSWu2YKPC0nAAh/gfgVDWo6A/49uOYfycsACn332mfvTn/7k9t13X9elS5dW33Alm7+nnnqqe/LJJ2vyJNROTRiDuIilv2s2IKqVwOebuWu++OKL37v44ovfGjx4sOvUqVOr/367deuWfJ72Nddee+0WzrnOtRoD10GgyAKW3ucf4897xLxxpQaoAWqAGqAGqAFqwF4D/prKEhd5jZrZs1vgg9ihYBBtEvAbUZtO5OBgBWbNmuXOP/98t8kmm7S6QZTkfIsttnAXXnhhy+f2pn0QaietXHjnWfp7ZpNLwS6c/IStc279xx577Iwzzzxz3pe+9KWK/067du3q9tprr0kTJ07cbtq0aV0LRsXjIpC5gKX3+cf48x6x/Y0cVlhRA9QANUANUAPUgL+mssSZLwSLeAMLfHjbFYxoeQJ+g13esbwen8C0adPcySef7FZbbbVWN4+Sz+NN/i/fl156qXv99dfb9IDUTpu4gj7Y0t+LOO/V6pmdc10+/fTTL91zzz2XnnTSSQsHDBjQ6r/H5N9U8hP3u++++29//etfb/f00093q9UYuA4CCCwrYOl9/jFBN/IaDo75XZhYYCEBRdQFFhJQRF1gIQFF1IUs/DWVJV525cZ32i1ggVfKiGIRoNHEkqn2jTP5qIY77rjDHX744a5Hjx6tbiolm7yDBg1yl1xyiXvttdeWe0NqZ7lE0Rxg6e/tnkQKdgHnXM933nlnl4kTJ974zW9+062yyiqt/rtL/h0l/yb333//8RMmTNian8wtWKHwuA0VsPQ+/5homno7B8r8LkAssJCAIuoCCwkooi6wkIAi6kIW/prKEjd0kZjXm1vglTKiWARoNLFkqnbj/Oijj9yECROSnwqs+Hm8SV1sv/327uKLL3YvvfRSqzendlplifKblv6e17mtVs/1+UcsDHj00UeP/elPf/pK8h9JKn1ebvJvp0+fPgtGjhx5wS233LJZ8hO9tRoH10EAAbuApff5x0TZ4FMMmvldaFhgIQFF1AUWElBEXWAhAUXUhSz8NZUltq/oONIsYIFXyohiEaDRxJKpbMb57rvvuvHjx7s99tjDJZ/n6deDH2+66abutNNOc1OnTnXNzc0tg/Ffz2Z0XLVeApb+bp4sCnSgc27FDz74YIc//OEPvzzqqKOaV1999Yr/hpJ/L2uvvfbsUaNGnXjXXXcNSDaCC0TFoyIQpICl9/nH1KsnN/o+zO/KABZYSEARdYGFBBRRF1hIQBF1IQt/TWWJg1w8xj4oC7xSRhSLAI0mlkxlP8733nvP/eY3v3F77rln1U3evn37uiOPPLJsAyv70XGHLAUs/T32OawW43fOdXbODfjrX/868vTTT39ihx12cJ07dy77t+D31OTzcocOHfrQhRdeeNCzzz7bxznXsRbj4BoIIFAbAUvv84/Jsg+HdG2/j4U0rkaMBQupY4GFBBRRF1hIQBF1gYUEFPlrKktcm9UeVykTsMArZUSxCNB0Y8lUfcf5/vvvu//3//6f22effdyKK65YceOqVD/JL1/717/+Vd9BcreaCVj6e9mEUJC/fP7xCv0ef/zxfS+66KJbk48vWd6/h9VWW23hyJEjL580adK2M2bM6F4QKh4TgSgFLL3PP6ZmTTfwC5Xm9uRr0f9goQrAAgsJKKIusJCAIuoCCwko8tdUljjKxWXog7bAK2VEsQjQdGPJVOPG+cknn7hbb73Vffe733X9+/evusmbvD5ixAh33XXXudmzZzdu0Ny5TQKW/h76HFWL8SU/Ueuc6zV9+vSd/+d//ueXBx988MI+ffpUrfnkJ3YHDRr0xDnnnDPiiSeeWJOPWKhFJrgGAvURsPQ+/5g2NdaID2ZtqORhgYUEFFEXWEhAEXWBhQQUURey8NdUlrg+q8GC3cUCr5QRxSJAo4klU2GMc/Hixe7RRx91P/nJT6pudiV11bFjR7fVVlu5H/zgB27KlClu3rx5YTwEo1hGwNLf8zjlfb6Ru8pDDz2084UXXnjJPvvs82Hv3r2XW9ubbLLJhyeeeOK5f/zjHwfyU7l5rAyeqSgClt7nH7NM88zpN1gbKrFYYCEBRdQFFhJQRF1gIQFF1IUs/DWVJS7KerSuz2mBV8qIYhGg0cSSqfDG6dfOwQcf7FZZZZWqG2LJL2cbNGiQ++EPf+j+/Oc/u7lz54b3UAUdkaW/13XCyehmyWfkfvzxx2tMmTJl33POOee6YcOGNffo0aNq3SZ13r9//+ZvfetbE37729/uNnfu3N58Vm5GCeKyCNRZwNL7/GOKMkX483tRnrnSc2IhGSywkIAi6gILCSiiLrCQgCJ/TWWJ67wsLMbtLPBKGVEsAjTdWDIV3jiXrp3m5mb3yCOPuLFjx7qdd9656i9gS87t1KmT23rrrd3JJ5/sbr75Zj66oYEptvT32Ga6z38at8czzzyz4f/+7/+OOOqoo+7ZbLPNWurOr93W4jXWWMMdeuihN48bN26fJ598sh8frxBb9hkvAjYBS+/zj2lgm67rrf2+WNcbB3gzLJQULLCQgCLqAgsJKKIusJCAIn9NZYltqzmOapOABV4pI4pFgKYbS6bCG+fyauejjz5q+Wzek046yW2xxRYtH83gn9NavO6667rDDjvMJb+M7cEHH3Tz588P78FzOCJLf2/ThNGAg51zK8yYMWOdm266af9TTz11/NChQ+dZfho3qcP111+/+aijjrph/Pjx+zzzzDNrsJHbgARySwQaIGDpff4xOWz/rT6SPz+3ekCBvomFko0FFhJQRF1gIQFF1AUWElDkr6kscQOWhvm/pQVeKSOKRYCmG0umwhtnW2vnvffec5MnT3annHKK22677VzyS6f8a7QWJx/fsO2227rjjz/eTZgwwT399NPus88+Cw8j8hFZ+nsos9znP4nb/ZFHHvnixIkT9xg1atQlO++88+xevXott56SGvu8pj484YQTxv3+97/fZebMmX34aIVQsss4EKivgKX3+cdE3urNw/fnY/NJOT0QCyUWCywkoIi6wEICiqgLLCSgyF9TWeL6rgoLcjcLvFJGFIsATTeWTIU3zvbWzocffuj+8pe/uDPOOMMNGTLEde/e3bQxlxyXbAx/5zvfcVdeeaV74IEH3AcffBAeUEQjsvT3Rkx1zrkub7311qp33333l6+44orjjj766Ju33XbbBSussIKpVpIaXWeddZKPVZh66aWXHjd16tTN33777ZXYyG1ENrknAuEJWHqff0xEbb1dQ23v/N6umwd2MhZKCBZYSEARdYGFBBRRF1hIQJG/prLE4a0cczAiC7xSRhSLAE03lkyFN85a187ChQvdtGnT3C9+8Qs3YsQIt8kmm5g+viEZR8eOHd16663nDjjgAPfjH//Y3XDDDe7xxx93H3/8cXhwAY7I0t+zmsY+/wncFV9//fX+d9xxx5cvueSSI77zne9cvdNOO83+whe+YN7ATepg1VVXdbvvvvsrY8aMOXfy5Mm7zJ49e7XkF6ZlNXauiwACcQtYep9/TIDtO5Mh1Xp+z2SQdbooFoLGAgsJKKIusJCAIuoCCwko8tdUljjuVWago7fAK2VEsQjQdGPJVHjjrEftzJ07102ZMqXlF7Lts88+7otf/GKbNvqSDd+1117b7bHHHi2/pO3qq6929913n5s5c6ZbvHhxeKgNGpGlv7dnakp+8tY51/Oll1764r333jvommuuGfmjH/3oquHDhz+31VZbuZVXXrnNeU028ocPH/7Kueeee/6tt9467NVXX00+G7dre8bJuQggUCwBS+/zj2lQi677besxv9f9oVLeEAvBYYGFBBRRF1hIQBF1gYUEFPlrKktcrFVpnZ7WAq+UEcUiQNONJVPhjbNRtZN8Vu8999zT8gvWjjzySDdw4MCWz031x2OJk/87/0YbbdSy6Xvccce5Cy+80E2aNMk9+uijLrlHkf5Y+vvSU03yC8acc92SDVvn3OoLFizY6KWXXhp83333HXz99defesEFF1xz/PHHP7733ns3b7rppq4tH5/g5693795up512aj7mmGNuGzdu3PemTp263Ycffph8Li4/ibt0Uvg7Agi0ScDS+/xjijIv+D24KM9c6TmxkAwWWEhAEXWBhQQUURdYSECRv6ayxG1a1HGwTcACr5QRxSJA040lU+GNM6TaST7G4Yknnmj5BWs/+tGP3H777ec23nhj16VLlzb9JKj/TD169HAbbLCBGzp0aPIZre773/++u/jii93111/v7r33Xvf888+7999/Pxc/+Vutv//85z93Z511lvv73/9+weTJk/9wzTXXPHXeeectPPHEE5OfmHXbb7+9W2ONNVynTp1SWyfuffv2TawXHnfccX8ZN27cKXfddddX33zzzS8651bkM3Ft8zRHIYBA2wSq9b7WXgtvJs5mRP5cmM0d4rkqFsoVFlhIQBF1gYUEFFEXWEhAUWtrq2rfa9uqjqNNAtXAS68pZUSxCNB0Y8lUeOOMoXaSDd9nn33W/fGPf3Tnn3++S37CN9mITDYR/fG3J+7cuXPLZ7smnwm80047ueQjI0aOHOlOOeWUlnteddVVLRvON910U8svi5s6dWrLJvRLL73k3n77bffRRx+5zz77rOYJnj9/fsvG86xZs9zLL7/snnrqqZafRv7b3/7m/vSnP7nf/va3Lb987txzz3W77rqr23HHHd3WW2/d8tnGAwYMcKussorr1q1bzZwS49VWW80NHjw4ycNT55xzzuXXX3/9fz322GPbzps3b3XnXHc2cE3TMQchgECNBErrV+vXmjfqQC/oz4mBDrFuw8JC1FhgIQFF1AUWElBEXWAhAUXW9VbpuBot97iML1DCrfZVKSOKRYCmG0umwhtn7LWTbKhOnz7dTZ482V1++eUtn8G77777ui222ML17NmzphuavlWlOPk84GQjdaWVVnK9evVq2XxOfhI22WRdf/313YYbbtjydd1112353ODk84bXXHPNlp+WTTZMk18clnxswYorrmj+pXOVxpLm+8kG91prrdWyQXzIIYe8NXr06EmXXXbZD2+66aZ9pk+fvsW8efOSX2TGT9/6EysxAgg0VKDamra118KbibMZkT8HZHOHeK6KhXKFBRYSUERdYCEBRdQFFhJQ1Nraqtr3GrpIzOvNq4GXXlPKiGIRoOnGkqnwxpn32vnggw/cc8891/J5vtddd5276KKL3KhRo9whhxzihgwZ4pJf3tXU1FT3DWDfvR5xstmc/PRu8pPOyU8jH3300QtOP/30qZdffvmlN95443emTp26y5tvvrmxc67v5z912ymv8yDPhQAC+RIorV+tX8ObibMZkT+3ZHOHeK6KhXKFBRYSUERdYCEBRdQFFhJQZF1vlY7L16ozkKcp4Vb7qpQRxSJA040lU+GNk9r5T04WLVrU8pEKzzzzjHvggQfcLbfc4n7961+3bAQnn/d7/PHHt3wExIEHHuh23333lo9r2HLLLVt++jb5SdvkJ3Tb81nAfh5KcfLTv927d2/5Cd7+/fu3bEJvvvnmbrvttmv5zOC9997bHXHEEe6EE05wY8aMaflM4sMOO8wdddRRLeNNPkYi+Vzd5PN1Sz3fObcSv7AskAmZYSCAQE0ESv3N+jW8mTibEZXmkuRr0f9goQrAAgsJKKIusJCAIuoCCwkosq63SsfVZLHHRcoFSrjVviplRLEI0HRjyVR446R2apuTxYsXu+QzgT/++GM3d+5c984777jk83Ffe+01l3we7wsvvNDy9ZVXXnGvvvqqe/31193MmTNbjkk+q3fOnDnu3//+t0s+Wze5Vlv+VOvrpdfKZwT+hgACCMQvUOpv1q9t6asxH8v8ruxhgYUEFFEXWEhAEXWBhQQUUReysK63SsfFv9IM8AlKuNW+KmVEsQjQaGLJVHjjpHbCy0naEVXr66XXApyWGBICCCDQLoFSf7N+TdtjYzuP+V0ZwwILCSiiLrCQgCLqAgsJKKIuZGFdb5WOa9cij5NbFyjhVvuqlBHFIkCjiSVT4Y2T2gkvJ2lHVK2vl15rfWbguwgggEC8AqX+Zv2atsfGdh7zuzKGBRYSUERdYCEBRdQFFhJQRF3IwrreKh0X7woz4JGXcKt9VcqIYhGg0cSSqfDGSe2El5O0I6rW10uvBTw9MTQEEEAglUCpv1m/pu2xsZ3H/K6MYYGFBBRRF1hIQBF1gYUEFFEXsrCut0rHpVrccVJ1gRJuta9KGVEsAjSaWDIV3jipnfByknZE1fp66bXqMwSvIoAAAvEJlPqb9WvaHhvbeczvyhgWWEhAEXWBhQQUURdYSEARdSEL63qrdFx8K8sIRlzCrfZVKSOKRYBGE0umwhsntRNeTtKOqFpfL70WwTTFEBFAAIE2CZT6m/Vr2h4b23nM78oYFlhIQBF1gYUEFFEXWEhAEXUhC+t6q3RcmxZ1HGwTKOFW+6qUEcUiQKOJJVPhjZPaCS8naUdUra+XXrPNFByFAAIIxCNQ6m/Wr2l7bGznMb8rY1hgIQFF1AUWElBEXWAhAUXUhSys663ScfGsKCMaaQm32leljCgWARpNLJkKb5zUTng5STuian299FpE0xVDRQABBEwCpf5m/Zq2x8Z2HvO7MoYFFhJQRF1gIQFF1AUWElBEXcjCut4qHWdazHFQ2wRKuNW+KmVEsQjQaGLJVHjjpHbCy0naEVXr66XX2jZjcDQCCCAQvkCpv1m/pu2xsZ3H/K6MYYGFBBRRF1hIQBF1gYUEFFEXsrCut0rHhb+SjHCEJdxqX5UyolgEaDSxZCq8cVI74eUk7Yiq9fXSaxFOWwwZAQQQqCpQ6m/Wr2l7bGznMb8rY1hgIQFF1AUWElBEXWAhAUXUhSys663ScVUXcbyYTqCEW+2rUkYUiwCNJpZMhTdOaie8nKQdUbW+Xnot3czBWQgggEC4AqX+Zv2atsfGdh7zuzKGBRYSUERdYCEBRdQFFhJQRF3IwrreKh0X7goy4pGVcKt9VcqIYhGg0cSSqfDGSe2El5O0I6rW10uvRTx9MXQEEECgVYFSf7N+TdtjYzuP+V0ZwwILCSiiLrCQgCLqAgsJKKIuZGFdb5WOa3XxxjfbJ1DCrfZVKSOKRYBGE0umwhsntRNeTtKOqFpfL73WvhmEsxFAAIHwBEr9zfo1bY+N7Tzmd2UMCywkoIi6wEICiqgLLCSgiLqQhXW9VTouvJVjDkZUwq32VSkjikWARhNLpsIbJ7UTXk7SjqhaXy+9loNpjEdAAAEEygRK/c36NW2Pje085nc5BZF/AAAgAElEQVRlDAssJKCIusBCAoqoCywkoIi6kIV1vVU6rmzRxl9qI1DCrfZVKSOKRYBGE0umwhsntRNeTtKOqFpfL71Wm5mEqyCAAALhCJT6m/Vr2h4b23nM78oYFlhIQBF1gYUEFFEXWEhAEXUhC+t6q3RcOCvGHI2khFvtq1JGFIsAjSaWTIU3TmonvJykHVG1vl56LUfTGY+CAAIItAiU+pv1a9oeG9t5zO/KGBZYSEARdYGFBBRRF1hIQBF1IQvreqt0HMvVDARKuNW+KmVEsQjQaGLJVHjjpHbCy0naEVXr66XXMphWuCQCCCDQUIFSf7N+TdtjYzuP+V0ZwwILCSiiLrCQgCLqAgsJKKIuZGFdb5WOa+giMa83L+FW+6qUEcUiQKOJJVPhjZPaCS8naUdUra+XXsvr3MZzIYBAcQVK/c36NW2Pje085ndlDAssJKCIusBCAoqoCywkoIi6kIV1vVU6rrgr1AyfvIRb7atSRhSLAI0mlkyFN05qJ7ycpB1Rtb5eei3D6YVLI4AAAg0RKPU369e0PTa285jflTEssJCAIuoCCwkooi6wkIAi6kIW1vVW6biGLA7zftMSbrWvShlRLAI0mlgyFd44qZ3wcpJ2RNX6eum1vM9xPB8CCDReYODAgUO23nrr188666whrY3m29/+dsvryXGtvT5lypQNBw4cOD3537XXXrtha8f43yv1N+vXtD02tvOY35UxLLCQgCLqAgsJKKIusJCAIupCFtb1Vuk4f81GXCOBEm61r0oZUSwCNJpYMhXeOKmd8HKSdkTV+nrptRpNJVwGAQQQqCbwejK3HHXUUcnXZf4MGTKk5fUOHTq0+vqNN974Qmlu+tnPfpbEVf+U+pv1a9oeG9t5JcPka9H/YKEKwAILCSiiLrCQgCLqAgsJKLKut0rHVV3E8WI6gRJuta9KGVEsAjTdWDIV3jipnfByknZE1fp66bV0MwdnIYAAAm0SSH4S9/XkJ3NbO2vw4MEtr3fo0KHV16+//vrkp3SnJ/8799xz+YndlJMC87vgsMBCAoqoCywkoIi6wEICiqgLWZTeV1q/trYW5HvtFLDgK2VEsQjQaGLJVHjjpHbCy0naEVn6ezunEE5HAAEEghOw9D7/mLQ9NrbzmN+VMSywkIAi6gILCSiiLrCQgCLqQhb+msoSB7dwzMOALPBKGVEsAjSaWDIV3jipnfByknZElv6eh3mMZ0AAAQR8AUvv849J22NjO4/5XRnDAgsJKKIusJCAIuoCCwkooi5k4a+pLLG/ZiOukYAFXikjikWARhNLpsIbJ7UTXk7SjsjS32s0lXAZBBBAIBgBS+/zj0nbY2M7j/ldGcMCCwkooi6wkIAi6gILCSiiLmThr6kscTALxjwNxAKvlBHFIkCjiSVT4Y2T2gkvJ2lHZOnveZrPeBYEEEAgEbD0Pv+YtD02tvOY35UxLLCQgCLqAgsJKKIusJCAIupCFv6ayhKzWs1AwAKvlBHFIkCjiSVT4Y2T2gkvJ2lHZOnvGUwrXBIBBBBoqICl9/nHpO2xsZ3H/K6MYYGFBBRRF1hIQBF1gYUEFFEXsvDXVJa4oYvEvN7cAq+UEcUiQKOJJVPhjZPaCS8naUdk6e95ndt4LgQQKK6Apff5x6TtsbGdx/yujGGBhQQUURdYSEARdYGFBBRRF7Lw11SWuLgr1Ayf3AKvlBHFIkCjiSVT4Y2T2gkvJ2lHZOnvGU4vXBoBBBBoiICl9/nHpO2xsZ3H/K6MYYGFBBRRF1hIQBF1gYUEFFEXsvDXVJa4IYvDvN/UAq+UEcUiQKOJJVPhjZPaCS8naUdk6e95n+N4PgQQKJ6Apff5x6TtsbGdx/yujGGBhQQUURdYSEARdYGFBBRRF7Lw11SWuHgr0zo8sQVeKSOKRYBGE0umwhsntRNeTtKOyNLf6zDNcAsEEECgrgKW3ucfk7bHxnYe87syhgUWElBEXWAhAUXUBRYSUERdyMJfU1niui4Ki3IzC7xSRhSLAI0mlkyFN05qJ7ycpB2Rpb8XZa7jORFAoDgClt7nH5O2x8Z2HvO7MoYFFhJQRF1gIQFF1AUWElBEXcjCX1NZ4uKsSOv4pBZ4pYwoFgEaTSyZCm+c1E54OUk7Ikt/r+N0w60QQACBughYep9/TNoeG9t5zO/KGBZYSEARdYGFBBRRF1hIQBF1IQt/TWWJ67IYLNpNLPBKGVEsAjSaWDIV3jipnfByknZElv5etDmP50UAgfwLWHqff0zaHhvbeczvyhgWWEhAEXWBhQQUURdYSEARdSELf01lifO/Em3AE1rglTKiWARoNLFkKrxxUjvh5STtiCz9vQHTDrdEAAEEMhWw9D7/mLQ9NrbzmN+VMSywkIAi6gILCSiiLrCQgCLqQhb+msoSZ7oILOrFLfBKGVEsAjSaWDIV3jipnfByknZElv5e1LmP50YAgfwKWHqff0zaHhvbeczvyhgWWEhAEXWBhQQUURdYSEARdSELf01lifO7Am3gk1nglTKiWARoNLFkKrxxUjvh5STtiCz9vYHTD7dGAAEEMhGw9D7/mLQ9NrbzmN+VMSywkIAi6gILCSiiLrCQgCLqQhb+msoSZ7L4K/pFLfBKGVEsAjSaWDIV3jipnfByknZElv5e9DmQ50cAgfwJWHqff0zaHhvbeczvyhgWWEhAEXWBhQQUURdYSEARdSELf01lifO38gzgiSzwShlRLAI0mlgyFd44qZ3wcpJ2RJb+HsA0xBAQQACBmgpYep9/TNoeG9t5zO/KGBZYSEARdYGFBBRRF1hIQBF1IQt/TWWJa7ro42L/EbDAK2VEsQjQaGLJVHjjpHbCy0naEVn6O3MhAgggkDcBS+/zj0nbY2M7j/ldGcMCCwkooi6wkIAi6gILCSiiLmThr6kscd7WnUE8jwVeKSOKRYBGE0umwhsntRNeTtKOyNLfg5iIGAQCCCBQQwFL7/OPSdtjYzuP+V0ZwwILCSiiLrCQgCLqAgsJKKIuZOGvqSxxDZd8XKokYIFXyohiEaDRxJKp8MZJ7YSXk7QjsvT30lzAVwQQQCAvApbe5x+TtsfGdh7zuzKGBRYSUERdYCEBRdQFFhJQRF3Iwl9TWeK8rDeDeg4LvFJGFIsAjSaWTIU3TmonvJykHZGlvwc1ITEYBBBAoAYClt7nH5O2x8Z2HvO7MoYFFhJQRF1gIQFF1AUWElBEXcjCX1NZ4hos9bjE0gIWeKWMKBYBGk0smQpvnNROeDlJOyJLf196TuDvCCCAQOwClt7nH5O2x8Z2HvO7MoYFFhJQRF1gIQFF1AUWElBEXcjCX1NZ4tjXmUGO3wKvlBHFIkCjiSVT4Y2T2gkvJ2lHZOnvQU5MDAoBBBBoh4Cl93HMOIcBBtQANUANUAPUADVQ7xpoxxKPUysJWJKYdlOB8xonwOZc4+xjvzO1E3sGNX5Lf680N/B9BBBAIFYBS+/jGN7IUgPUADVADVAD1AA1UP8aiHV9GfS4LYWsbQKiWATYnIslU+GNk9oJLydpR2Tp70FPUAwOAQQQSCFg6X0cU/83cphjTg1QA9QANUANUAMplnacsjwByz+stJsKnNc4ATbnGmcf+52pndgzqPFb+vvy5gheRwABBGITsPQ+juGNJTVADVAD1AA1QA1QA/WvgdjWlVGM11LI2iYgikWAzblYMhXeOKmd8HKSdkSW/h7FRMUgEUAAgTYIWHofx9T/jRzmmFMD1AA1QA1QA9RAG5Z0HGoVsPzDSrupwHmNE2BzrnH2sd+Z2ok9gxq/pb9b5wqOQwABBGIRsPQ+juGNJTVADVAD1AA1QA1QA/WvgVjWk1GN01LI2iYgikWAzblYMhXeOKmd8HKSdkSW/h7VhMVgEUAAAYOApfdxTP3fyGGOOTVADVAD1AA1QA0YlnIc0lYByz+stJsKnNc4ATbnGmcf+52pndgzqPFb+ntb5wyORwABBEIXsPQ+juGNJTVADVAD1AA1QA1QA/WvgdDXkVGOz1LI2iYgikWAzblYMhXeOKmd8HKSdkSW/h7lxMWgEUAAgSoClt7HMfV/I4c55tQANUANUAPUADVQZQnHS2kFLP+w0m4qcF7jBNica5x97HemdmLPoMZv6e9p5w7OQwABBEIVsPQ+juGNJTVADVAD1AA1QA1QA/WvgVDXj1GPy1LI2iYgikWAzblYMhXeOKmd8HKSdkSW/h71BMbgEUAAgVYELL2PY+r/Rg5zzKkBaoAaoAaoAWqglaUb32qvgOUfVtpNBc5rnACbc42zj/3O1E7sGdT4Lf29vXMI5yOAAAKhCVh6H8fwxpIaoAaoAWqAGqAGqIH610Bo68ZcjMdSyNomIIpFgM25WDIV3jipnfByknZElv6ei4mMh0AAAQQQQAABBBBAAAEEEECgiAKWN/5pNxU4r3ECbM41zj72O1M7sWdQ47f09yLOezwzAggggAACCCCAAAIIIIAAArkQsLzx1zYBUSwCbM7FkqnwxknthJeTtCOy9PdcTGQ8BAIIIIAAAggggAACCCCAAAJFFLC88U+7qcB5jRNgc65x9rHfmdqJPYMav6W/F3He45kRQAABBBBAAAEEEEAAAQQQyIWA5Y2/tgmIYhFgcy6WTIU3TmonvJykHZGlv+diIuMhEEAAAQQQQAABBBBAAAEEECiigOWNf9pNBc5rnACbc42zj/3O1E7sGdT4Lf29iPMez4wAAggggAACCCCAAAIIIIBALgQsb/y1TUAUiwCbc7FkKrxxUjvh5STtiCz9PRcTGQ+BAAIIIIAAAggggAACCCCAQBEFLG/8024qcF7jBNica5x97HemdmLPoMZv6e9FnPd4ZgQQQAABBBBAAAEEEEAAAQRyIWB5469tAqJYBNiciyVT4Y2T2gkvJ2lHZOnvuZjIeAgEEEAAAQQQQAABBBBAAAEEiihgeeOfdlOB8xonwOZc4+xjvzO1E3sGNX5Lfy/ivMczI4AAAggggAACCCCAAAIIIJALAcsbf20TEMUiwOZcLJkKb5zUTng5STsiS3/PxUTGQyCAAAIIIIAAAggggAACCCBQRAHLG/+0mwqc1zgBNucaZx/7namd2DOo8Vv6exHnPZ4ZAQQQQAABBBBAAAEEEEAAgVwIWN74a5uAKBYBNudiyVR446R2wstJ2hFZ+nsuJjIeAgEEEEAAAQQQQAABBBBAAIEiClje+KfdVOC8xgmwOdc4+9jvTO3EnkGN39Lfizjv8cwIIIAAAggggAACCCCAAAII5ELA8sZf2wREsQiwORdLpsIbJ7UTXk7SjsjS33MxkfEQCCCAAAIIIIAAAggggAACCBRRwPLGP+2mAuc1ToDNucbZx35naif2DGr8lv5exHmPZ0YAAQQQQAABBBBAAAEEEEAgFwKWN/7aJiCKRYDNuVgyFd44qZ3wcpJ2RJb+nouJjIdAAAEEEEAAAQQQQAABBBBAoIgCljf+aTcVOK9xAmzONc4+9jtTO7FnUOO39Pcizns8MwIIIIAAAggggAACCCCAAAK5ELC88dc2AVEsAmzOxZKp8MZJ7YSXk7QjsvT3XExkPAQCCCCAAAIIIIAAAggggAACRRSwvPFPu6nAeY0TYHOucfax35naiT2DGr+lvxdx3uOZEUAAAQQQQAABBBBAAAEEEMiFgOWNv7YJiGIRYHMulkyFN05qJ7ycpB2Rpb/nYiLjIRBAAAEEEEAAAQQQQAABBBAoooDljX/aTQXOa5wAm3ONs4/9ztRO7BnU+C39vYjzHs+MAAIIIIAAAggggAACCCCAQC4ELG/8tU1AFIsAm3OxZCq8cVI74eUk7Ygs/T0XExkPgQACCCCAAAIIIIAAAggggEARBSxv/NNuKnBe4wTYnGucfex3pnZiz6DGb+nvRZz3eGYEEEAAAQQQQAABBBBAAAEEciFgeeOvbQKiWATYnIslU+GNk9oJLydpR2Tp77mYyHgIBBBAAAEEEEAAAQQQQAABBIooYHnjn3ZTgfMaJ8DmXOPsY78ztRN7BjV+S38v4rzHMyOAAAIIIIAAAggggAACCCCQCwHLG39tExDFIsDmXCyZCm+c1E54OUk7Ikt/z8VExkMggAACCCCAAAIIIIAAAgggUEQByxv/tJsKnNc4ATbnGmcf+52pndgzqPFb+nsR5z2eGQEEEEAAAQQQQAABBBBAAIFcCFje+GubgCgWATbnYslUeOOkdsLLSdoRWfp7LiYyHgIBBBBAAAEEEEAAAQQQQACBIgpY3vin3VTgvMYJsDnXOPvY70ztxJ5Bjd/S34s47/HMCCCAAAIIIIAAAggggAACCORCwPLGX9sERLEIsDkXS6bCGye1E15O0o7I0t9zMZHxEAgggAACCCCAAAIIIIAAAggUUcDyxj/tpgLnNU6AzbnG2cd+Z2on9gxq/Jb+XsR5j2dGAAEEEEAAAQQQQAABBBBAIBcCljf+2iYgikWAzblYMhXeOKmd8HKSdkSW/p6LiYyHQAABBBBAAAEEEEAAAQQQQKCIApY3/mk3FTivcQJszjXOPvY7UzuxZ1Djt/T3Is57PDMCCCCAAAIIIIAAAggggAACuRCwvPHXNgFRLAJszsWSqfDGSe2El5O0I7L091xMZDwEAggggAACCCCAAAIIIIAAAkUUsLzxT7upwHmNE2BzrnH2sd+Z2ok9gxq/pb8Xcd7jmRFAAAEEEEAAAQQQQAABBBDIhYDljb+2CYhiEWBzLpZMhTdOaie8nKQdkaW/52Ii4yEQQAABBBBAAAEEEEAAAQQQKKKA5Y1/2k0FzmucAJtzjbOP/c7UTuwZ1Pgt/b2I8x7PjAACCCCAAAIIIIAAAggggEAuBCxv/LVNQBSLAJtzsWQqvHFSO+HlJO2ILP09FxMZD4EAAggggAACCCCAAAIIIIBAEQUsb/zTbipwXuME2JxrnH3sd6Z2Ys+gxm/p70Wc93hmBBBAAAEEEEAAAQQQQAABBHIhYHnjr20ColgE2JyLJVPhjZPaCS8naUdk6e+5mMh4CAQQQAABBBBAAAEEEEAAAQSKKGB54592U4HzGifA5lzj7GO/M7UTewY1fkt/L+K8xzMjgAACCCCAAAIIIIAAAgggkAsByxt/bRMQxSLA5lwsmQpvnNROeDlJOyJLf8/FRMZDIIAAAggggAACCCCAAAIIIFBEAcsb/7SbCpzXOAE25xpnH/udqZ3YM6jxW/p7Eec9nhkBBBBAAAEEEEAAAQQQQACBXAhY3vhrm4AoFgE252LJVHjjpHbCy0naEVn6ey4mMh4CAQQQQAABBBBAAAEEEEAAgSIKWN74p91U4LzGCbA51zj72O9M7cSeQY3f0t+LOO/xzAgggAACCCCAAAIIIIAAAgjkQsDyxl/bBESxCLA5F0umwhsntRNeTtKOyNLfczGR8RAIIIAAAggggAACCCCAAAIIFFHA8sY/7aYC5zVOgM25xtnHfmdqJ/YMavyW/l7EeY9nRgABBBBAAAEEEEAAAQQQQCAXApY3/tomIIpFgM25WDIV3jipnfByknZElv6ei4mMh0AAAQQQQAABBBBAAAEEEECgiAKWN/5pNxU4r3ECbM41zj72O1M7sWdQ47f09yLOezwzAggggAACCCCAAAIIIIAAArkQsLzx1zYBUSwCbM7FkqnwxknthJeTtCOy9PdcTGQ8BAIIIIAAAggggAACCCCAAAJFFLC88U+7qcB5jRNgc65x9rHfmdqJPYMav6W/F3He45kRQAABBBBAAAEEEEAAAQQQyIWA5Y2/tgmIYhFgcy6WTIU3TmonvJykHZGlv+diIuMhEEAAAQQQQAABBBBAAAEEECiigOWNf9pNBc5rnACbc42zj/3O1E7sGdT4Lf29iPMez4wAAggggAACCCCAAAIIIIBALgQsb/y1TUAUiwCbc7FkKrxxUjvh5STtiCz9PRcTGQ+BAAIIIIAAAggggAACCCCAQBEFLG/8024qcF7jBNica5x97HemdmLPoMZv6e9FnPd4ZgQQQAABBBBAAAEEEEAAAQRyIWB5469tAqJYBNiciyVT4Y2T2gkvJ2lHZOnvuZjIeAgEEEAAAQQQQAABBBBAAAEEiihgeeOfdlOB8xonwOZc4+xjvzO1E3sGNX5Lfy/ivMczI4AAAggggAACCCCAAAIIIJALAcsbf20TEMUiwOZcLJkKb5zUTng5STsiS3/PxUTGQyCAAAIIIIAAAggggAACCCBQRAHLG/+0mwqc1zgBNucaZx/7namd2DOo8Vv6exHnPZ4ZAQQQQAABBBBAAAEEEEAAgVwIWN74a5uAKBYBNudiyVR446R2wstJ2hFZ+nsuJjIeAgEEEEAAAQQQQAABBBBAAIEiClje+KfdVOC8xgmwOdc4+9jvTO3EnkGN39Lfizjv8cwIIIAAAggggAACCCCAAAII5ELA8sZf2wREsQiwORdLpsIbJ7UTXk7SjsjS33MxkfEQCCCAAAIIIIAAAggggAACCBRRwPLGP+2mAuc1ToDNucbZx35naif2DGr8lv5exHmPZ0YAAQQQQAABBBBAAAEEEEAgFwKWN/7aJiCKRYDNuVgyFd44qZ3wcpJ2RJb+nouJjIdAAAEEEEAAAQQQQAABBBBAoIgCljf+aTcVOK9xAmzONc4+9jtTO7FnUOO39Pcizns8MwIIIIAAAggggAACCCCAAAK5ELC88dc2AVEsAmzOxZKp8MZJ7YSXk7QjsvT3XExkPAQCCCCAAAIIIIAAAggggAACRRSwvPFPu6nAeY0TYHOucfax35naiT2DGr+lvxdx3uOZEUAAAQQQQAABBBBAAAEEEMiFgOWNv7YJiGIRYHMulkyFN05qJ7ycpB2Rpb/nYiLjIRBAAAEEEEAAAQQQQAABBBAoooDljX/aTQXOa5wAm3ONs4/9ztRO7BnU+C39vYjzHs+MAAIIIIAAAggggAACCCCAQC4ELG/8tU1AFIsAm3OxZCq8cVI74eUk7Ygs/T0XExkPgQACCCCAAAIIIIAAAggggEARBSxv/NNuKnBe4wTYnGucfex3pnZiz6DGb+nvRZz3eGYEEEAAAQQQQAABBBBAAAEEciFgeeOvbQKiWATYnIslU+GNk9oJLydpR2Tp77mYyHgIBBBAAAEEEEAAAQQQQAABBIooYHnjn3ZTgfMaJ8DmXOPsY78ztRN7BjV+S38v4rzHMyOAAAIIIIAAAggggAACCCCQCwHLG39tExDFIsDmXCyZCm+c1E54OUk7Ikt/z8VExkMggAACCCCAAAIIIIAAAgggUEQByxv/tJsKnNc4ATbnGmcf+52pndgzqPFb+nsR5z2eGQEEEEAAAQQQQAABBBBAAIFcCFje+GubgCgWATbnYslUeOOkdsLLSdoRWfp7LiYyHgIBBBBAAAEEEEAAAQQQQACBIgpY3vin3VTgvMYJsDnXOPvY70ztxJ5Bjd/S34s47/HMCCCAAAIIIIAAAggggAACCORCwPLGX9sERLEIsDkXS6bCGye1E15O0o7I0t9zMZHxEAgggAACCPx/7dgxDsQwCATA/7f34VzpduUGA9OlSBQYkJEhQIAAAQIECBDYKJBc/G+XCr6rE7Ccq7Pv/me9072CJ/7kfN849+RMgAABAgQIECBAgAABAgRGCCQX/7Mm8NRFwHKuS6Xei1PvvFeT24iS833EIJMEAQIECBAgQIAAAQIECBDYKJBc/G+XCr6rE7Ccq7Pv/me9072CJ/7kfN849+RMgAABAgQIECBAgAABAgRGCCQX/7Mm8NRFwHKuS6Xei1PvvFeT24iS833EIJMEAQIECBAgQIAAAQIECBDYKJBc/G+XCr6rE7Ccq7Pv/me9072CJ/7kfN849+RMgAABAgQIECBAgAABAgRGCCQX/7Mm8NRFwHKuS6Xei1PvvFeT24iS833EIJMEAQIECBAgQIAAAQIECBDYKJBc/G+XCr6rE7Ccq7Pv/me9072CJ/7kfN849+RMgAABAgQIECBAgAABAgRGCCQX/7Mm8NRFwHKuS6Xei1PvvFeT24iS833EIJMEAQIECBAgQIAAAQIECBDYKJBc/G+XCr6rE7Ccq7Pv/me9072CJ/7kfN849+RMgAABAgQIECBAgAABAgRGCCQX/7Mm8NRFwHKuS6Xei1PvvFeT24iS833EIJMEAQIECBAgQIAAAQIECBDYKJBc/G+XCr6rE7Ccq7Pv/me9072CJ/7kfN849+RMgAABAgQIECBAgAABAgRGCCQX/7Mm8NRFwHKuS6Xei1PvvFeT24iS833EIJMEAQIECBAgQIAAAQIECBDYKJBc/G+XCr6rE7Ccq7Pv/me9072CJ/7kfN849+RMgAABAgQIECBAgAABAgRGCCQX/7Mm8NRFwHKuS6Xei1PvvFeT24iS833EIJMEAQIECBAgQIAAAQIECBDYKJBc/G+XCr6rE7Ccq7Pv/me9072CJ/7kfN849+RMgAABAgQIECBAgAABAgRGCCQX/7Mm8NRFwHKuS6Xei1PvvFeT24iS833EIJMEAQIECBAgQIAAAQIECBDYKJBc/G+XCr6rE7Ccq7Pv/me9072CJ/7kfN849+RMgAABAgQIECBAgAABAgRGCCQX/7Mm8NRFwHKuS6Xei1PvvFeT24iS833EIJMEAQIECBAgQIAAAQIECBDYKJBc/G+XCr6rE7Ccq7Pv/me9072CJ/7kfN849+RMgAABAgQIECBAgAABAgRGCCQX/7Mm8NRFwHKuS6Xei1PvvFeT24iS833EIJMEAQIECBAgQIAAAQIECBDYKJBc/G+XCr6rE7Ccq7Pv/me9072CJ/7kfN849+RMgAABAgQIECBAgAABAgRGCCQX/7Mm8NRFwHKuS6Xei1PvvFeT24iS833EIJMEAQIECBAgQIAAAQIECBDYKJBc/L3z+xgw0AN6YGIPbJx7ciZAgAABAgQIECBAgAABAiMEJi4q5MCI8mIAAAgFSURBVGQBpwf0gB7IemDEIJMEAQIECBAgQIAAAQIECBDYKGD5kS0/OHHSA3pgYg9snHtyJkCAAAECBAgQIECAAAECIwQmLirkZAGnB/SAHsh6YMQgkwQBAgQIECBAgAABAgQIENgoYPmRLT84cdIDemBiD2yce3ImQIAAAQIECBAgQIAAAQIjBCYuKuRkAacH9IAeyHpgxCCTBAECBAgQIECAAAECBAgQ2Chg+ZEtPzhx0gN6YGIPbJx7ciZAgAABAgQIECBAgAABAiMEJi4q5GQBpwf0gB7IemDEIJMEAQIECBAgQIAAAQIECBDYKGD5kS0/OHHSA3pgYg9snHtyJkCAAAECBAgQIECAAAECBAgQIECAAAECBAgQIECAAAECBAgQIECAAAECBAgQIECAAAECBAgQIECAAAECBAgQIECAAAECBAgQIECAAAECBAgQIECAAAECBAgQIECAAAECBAgQIECAAAECBAgQIECAAAECBAgQIECAAAECBAgQIECAAAECBAgQIECAAAECBAgQIECAAAECBAgQIECAAAECBAgQIECAAAECBAgQIECAAAECBAgQIECAAAECBAgQIECAAAECBAgQIECAAAECBAgQIECAAAECBAgQIECAAAECBAgQIECAAAECBAgQIECAAAECBAgQIECAAAECBAgQIECAAAECBAgQIECAAAECBAgQIECAAAECBAgQIECAAAECBAgQIECAAAECBAgQIECAAAECBAgQIECAAAECBAgQIECAAAECBAgQIECAAAECBAgQIECAAAECBAgQIECAAAECBAgQIECAAAECBAgQIECAAAECBAgQIECAAAECBAgQIECAAAECBAgQIECAAAECBAgQIECAAAECBAgQIECAAAECBAgQIECAAAECBAgQIECAAAECBAgQIECAAAECBAgQIECAAAECBAgQIECAAAECBAgQIECAAAECBAgQIECAAAECBAgQIECAAAECBAgQIECAAAECBAgQIECAAAECBAgQIECAAAECBAgQIECAAAECBAgQIECAAAECBAgQIECAAAECBAgQIECAAAECBAgQIECAAAECBAgQIECAAAECBAgQIECAAAECBAgQIECAAAECBAgQIECAAAECBAgQIECAAAECBAgQIECAAAECBAgQIECAAAECBAgQIECAAAECBAgQIECAAAECBAgQIECAAAECBAgQIECAAAECBAgQIECAAAECBAgQIECAAAECBAgQIECAAAECBAgQIECAAAECBAgQIECAAAECBAgQIECAAAECBAgQIECAAAECBAgQIECAAAECBAgQIECAAAECBAgQIECAAAECBAgQIECAAAECBAgQIECAAAECBAgQIECAAAECBAgQIECAAAECBAgQIECAAAECBAgQIECAAAECBAgQIECAAAECBAgQIECAAAECBAgQIECAAAECBAgQIECAAAECBAgQIECAAAECBAgQIECAAAECBAgQIECAAAECBAgQIECAAAECBAgQIECAAAECBAgQIECAAAECBAgQIECAAAECBAgQIECAAAECBAgQIECAAAECBAgQIECAAAECBAgQIECAAAECBAgQIECAAAECBAgQIECAAAECBAgQIECAAAECBAgQIECAAAECBAgQIECAAAECBAgQIECAAAECBAgQIECAAAECBAgQIECAAAECBAgQIECAAAECBAgQIECAAAECBAgQIECAAAECBAgQIECAAAECBAgQIECAAAECBAgQIECAAAECBAgQIECAAAECBAgQIECAAAECBAgQIECAAAECBAgQIECAAAECBAgQIECAAAECBAgQIECAAAECBAgQIECAAAECBAgQIECAAAECBAgQIECAAAECBAgQIECAAAECBAgQIECAAAECBAgQIECAAAECBAgQIECAAAECBAgQIECAAAECBAgQIECAAAECBAgQIECAAAECBAgQIECAAAECBAgQIECAAAECBAgQIECAAAECBAgQIECAAAECBAgQIECAAAECBAgQIECAAAECBAgQIECAAAECBAgQIECAAAECBAgQIECAAAECBAgQIECAAAECBAgQIECAAAECBAgQIECAAAECBAgQIECAAAECBAgQIECAAAECBAgQIECAAAECBAgQIECAAAECBAgQIECAAAECBAgQIECAAAECBAgQIECAAAECBAgQIECAAAECBAgQIECAAAECBAgQIECAAAECBAgQIECAAAECBAgQIECAAAECBAgQIECAAAECBAgQIECAAAECBAgQIECAAAECBAgQIECAAAECBAgQIECAAAECBAgQIECAAAECBAgQIECAAAECBAgQIECAAAECBAgQIECAAAECBAgQIECAAAECBAgQIECAAAECBAgQIECAAAECBAgQIECAAAECBAgQIECAAAECBAgQIECAAAECBAgQIECAAAECBAgQIECAAAECBAgQIECAAAECBAgQIECAAAECBAgQIECAAAECBAgQIECAAAECBAgQIECAAAECBAgQIECAAAECBAgQIECAAAECBAgQIECAAAECBAgQIECAAAECBAgQIECAAAECBAgQIECAAAECBAgQIECAAAECBAgQIECAAAECBAgQIECAAAECBAgQIECAAAECBAgQIECAAAECBAgQIECAAAECBAgQIECAAAECBAgQIECAAAECBAgQIECAAAECBAgQIECAAAECBAgQIECAAAECBAgQIECAAAECBAgQIECAAAECBAgQIECAQJnAH79O4R19JXKaAAAAAElFTkSuQmCC)\n",
        "\n",
        "\n",
        "\n",
        "\n",
        "The mapper_fun() function outputs a sparse matrix\n",
        " with four mapper dictionaries:\n",
        "\n",
        "user_mapper: maps user id to user index\n",
        "\n",
        "movie_mapper: maps movie id to movie index\n",
        "\n",
        "user_inv_mapper: maps user index to user id\n",
        "\n",
        "movie_inv_mapper: maps movie index to movie id\n",
        "\n",
        "We need these dictionaries because they map which row/column of the utility matrix corresponds to which user/movie id."
      ],
      "metadata": {
        "id": "ro5zeQ0gXC4q"
      }
    },
    {
      "cell_type": "code",
      "source": [
        "from scipy.sparse import csr_matrix\n",
        "def mapper_fun(df):\n",
        "  user_mapper = dict(zip(np.unique(ratings_csv['userId']),range(unique_users)))\n",
        "  movie_mapper = dict(zip(np.unique(ratings_csv['movieId']),range(unique_movies)))\n",
        "  user_inv_mapper = dict(zip(range(unique_users),np.unique(ratings_csv['userId'])))\n",
        "  movie_inv_mapper = dict(zip(range(unique_movies),np.unique(ratings_csv['movieId'])))\n",
        "  user_index= [user_mapper[i] for i in df['userId']]\n",
        "  movie_index = [movie_mapper[i] for i in df['movieId']]\n",
        "  X = csr_matrix((df['rating'],(user_index,movie_index)),shape=(unique_users,unique_movies))\n",
        "  return X,user_mapper,movie_mapper,user_inv_mapper,movie_inv_mapper\n",
        "\n",
        "\n",
        "X,user_mapper,movie_mapper,user_inv_mapper,movie_inv_mapper = mapper_fun(ratings_csv)"
      ],
      "metadata": {
        "id": "j5M9sNK9C25d"
      },
      "execution_count": 33,
      "outputs": []
    },
    {
      "cell_type": "markdown",
      "source": [
        "**Recommendation System using KNN**"
      ],
      "metadata": {
        "id": "aTOFD26GkqOl"
      }
    },
    {
      "cell_type": "code",
      "source": [
        "from sklearn.neighbors import NearestNeighbors\n",
        "def collaborative_filtering(movie):\n",
        "  movie_id = movie_title_id_mapper[movie]\n",
        "  global X\n",
        "  l=[]\n",
        "  X =X.T\n",
        "  movie_map = movie_mapper[movie_id] #movie_id --> movie_index\n",
        "  movie_vec = X[movie_map] #vector from the movie_id index\n",
        "  # if isinstance(movie_vec,(np.ndarray)):\n",
        "  #   movie_vec = movie_vec.reshape(1,-1)\n",
        "  Knn = NearestNeighbors(n_neighbors=11,metric='cosine',algorithm='brute')\n",
        "  Knn.fit(X)\n",
        "  neighbors = Knn.kneighbors(movie_vec,return_distance = False)\n",
        "  for i in range(1,11):\n",
        "    n = neighbors.item(i)\n",
        "    print(f'The recommended movies are {movie_id_title_mapper[movie_inv_mapper[n]]}')\n",
        "    # l.append(movie_inv_mapper[n]) # Return index to movie\n",
        "  X=X.T\n",
        "\n",
        "\n",
        "\n",
        "\n"
      ],
      "metadata": {
        "id": "SW3XpwCyc9GS"
      },
      "execution_count": 34,
      "outputs": []
    },
    {
      "cell_type": "markdown",
      "source": [
        "Movie Id title mapper\n",
        "\n",
        "Maps the movie id with title"
      ],
      "metadata": {
        "id": "ZhSCXpWojvMe"
      }
    },
    {
      "cell_type": "code",
      "source": [
        "ratings_csv['movieId'].nunique()\n",
        "movie_id_title_mapper = dict(zip(movies_csv['movieId'],movies_csv['title']))"
      ],
      "metadata": {
        "id": "Z267Urj6jsAs"
      },
      "execution_count": 40,
      "outputs": []
    },
    {
      "cell_type": "markdown",
      "source": [
        "Remembering movie id and year might be tough .\n",
        "\n",
        "To solve this,\n",
        "\n",
        "We are going to use python's fuzzywuzzy module to find out the matching title\n",
        "and the movie_title to movie_id mapper which is used to find out the corresponding movie_id"
      ],
      "metadata": {
        "id": "yHAG-e78jnYo"
      }
    },
    {
      "cell_type": "code",
      "source": [
        "!pip install fuzzywuzzy\n",
        "movie_id_title_mapper = dict(zip(movies_csv['movieId'],movies_csv['title']))\n",
        "movie_title_id_mapper = dict(zip(movies_csv['title'],movies_csv['movieId']))\n",
        "from fuzzywuzzy import process\n",
        "\n",
        "def movie_finder(title):\n",
        "  all_titles = movies_csv['title']\n",
        "  closest_match = process.extractOne(title,all_titles)\n",
        "  print(\"Your watched movie\",closest_match[0])\n",
        "  return collaborative_filtering(closest_match[0])\n",
        "\n",
        "movie_finder('Dangerous Minds')"
      ],
      "metadata": {
        "colab": {
          "base_uri": "https://localhost:8080/"
        },
        "id": "9-8hjPuSpSxX",
        "outputId": "b36d6277-1bc8-47f2-f4d8-1fbf96f74aae"
      },
      "execution_count": 39,
      "outputs": [
        {
          "output_type": "stream",
          "name": "stdout",
          "text": [
            "Requirement already satisfied: fuzzywuzzy in /usr/local/lib/python3.10/dist-packages (0.18.0)\n",
            "Your watched movie Dangerous Minds (1995)\n",
            "The recommended movies are Under Siege 2: Dark Territory (1995)\n",
            "The recommended movies are Net, The (1995)\n",
            "The recommended movies are Die Hard: With a Vengeance (1995)\n",
            "The recommended movies are Showgirls (1995)\n",
            "The recommended movies are Now and Then (1995)\n",
            "The recommended movies are Client, The (1994)\n",
            "The recommended movies are Copycat (1995)\n",
            "The recommended movies are Philadelphia (1993)\n",
            "The recommended movies are Drop Zone (1994)\n",
            "The recommended movies are Murder in the First (1995)\n"
          ]
        }
      ]
    },
    {
      "cell_type": "markdown",
      "source": [
        "**Importing our model**"
      ],
      "metadata": {
        "id": "2LTNKl6Mj7Zf"
      }
    },
    {
      "cell_type": "code",
      "source": [
        "import pickle\n",
        "with open('movie_recommender.pickle','wb') as f:\n",
        "  pickle.dump(collaborative_filtering,f)"
      ],
      "metadata": {
        "id": "JlhDTcKzFqmG"
      },
      "execution_count": null,
      "outputs": []
    },
    {
      "cell_type": "markdown",
      "source": [
        "I hope you found this tutorial useful!!!"
      ],
      "metadata": {
        "id": "TQ9F0nIsiYNM"
      }
    }
  ]
}